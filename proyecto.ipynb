{
 "cells": [
  {
   "cell_type": "code",
   "execution_count": 16,
   "metadata": {},
   "outputs": [
    {
     "name": "stdout",
     "output_type": "stream",
     "text": [
      "Collecting imblearn\n",
      "  Downloading https://files.pythonhosted.org/packages/81/a7/4179e6ebfd654bd0eac0b9c06125b8b4c96a9d0a8ff9e9507eb2a26d2d7e/imblearn-0.0-py2.py3-none-any.whl\n",
      "Collecting imbalanced-learn (from imblearn)\n",
      "  Downloading https://files.pythonhosted.org/packages/4f/4d/e260fc004307d6ebc4909ee25e6c918a2399a7fb91975afd95ec48d1c8b4/imbalanced-learn-0.4.3.tar.gz (169kB)\n",
      "Requirement already satisfied: numpy>=1.8.2 in c:\\users\\admin\\anaconda\\lib\\site-packages (from imbalanced-learn->imblearn) (1.15.4)\n",
      "Requirement already satisfied: scipy>=0.13.3 in c:\\users\\admin\\anaconda\\lib\\site-packages (from imbalanced-learn->imblearn) (1.1.0)\n",
      "Requirement already satisfied: scikit-learn>=0.20 in c:\\users\\admin\\anaconda\\lib\\site-packages (from imbalanced-learn->imblearn) (0.20.1)\n",
      "Building wheels for collected packages: imbalanced-learn\n",
      "  Running setup.py bdist_wheel for imbalanced-learn: started\n",
      "  Running setup.py bdist_wheel for imbalanced-learn: finished with status 'done'\n",
      "  Stored in directory: C:\\Users\\Admin\\AppData\\Local\\pip\\Cache\\wheels\\94\\6c\\0c\\d7254937a767ff72814aa542997d0e889bed37c1d31ba3de1a\n",
      "Successfully built imbalanced-learn\n",
      "Installing collected packages: imbalanced-learn, imblearn\n",
      "Successfully installed imbalanced-learn-0.4.3 imblearn-0.0\n"
     ]
    }
   ],
   "source": [
    "!pip install imblearn "
   ]
  },
  {
   "cell_type": "code",
   "execution_count": 1,
   "metadata": {},
   "outputs": [],
   "source": [
    "import pandas as pd\n",
    "import numpy as np\n",
    "import seaborn as sns\n",
    "import matplotlib\n",
    "import matplotlib.pyplot as plt\n",
    "import statsmodels\n",
    "import statsmodels.api as smf\n",
    "from sklearn.linear_model import LogisticRegression\n",
    "from sklearn.metrics import confusion_matrix\n",
    "import imblearn\n",
    "from imblearn.over_sampling import SMOTE\n",
    "from sklearn.feature_selection import RFE\n",
    "from sklearn.preprocessing import StandardScaler\n",
    "import sklearn.linear_model as sklm \n",
    "import sklearn.decomposition as skdc\n",
    "import numpy as np\n",
    "from sklearn.svm import SVC\n",
    "import sklearn.pipeline as skpl \n",
    "from sklearn.discriminant_analysis import LinearDiscriminantAnalysis as LDA"
   ]
  },
  {
   "cell_type": "code",
   "execution_count": 2,
   "metadata": {},
   "outputs": [],
   "source": [
    "train = pd.read_csv(\"exoTrain.csv\")\n",
    "test = pd.read_csv(\"exoTest.csv\")"
   ]
  },
  {
   "cell_type": "code",
   "execution_count": 3,
   "metadata": {},
   "outputs": [
    {
     "data": {
      "text/html": [
       "<div>\n",
       "<style scoped>\n",
       "    .dataframe tbody tr th:only-of-type {\n",
       "        vertical-align: middle;\n",
       "    }\n",
       "\n",
       "    .dataframe tbody tr th {\n",
       "        vertical-align: top;\n",
       "    }\n",
       "\n",
       "    .dataframe thead th {\n",
       "        text-align: right;\n",
       "    }\n",
       "</style>\n",
       "<table border=\"1\" class=\"dataframe\">\n",
       "  <thead>\n",
       "    <tr style=\"text-align: right;\">\n",
       "      <th></th>\n",
       "      <th>LABEL</th>\n",
       "      <th>FLUX.1</th>\n",
       "      <th>FLUX.2</th>\n",
       "      <th>FLUX.3</th>\n",
       "      <th>FLUX.4</th>\n",
       "      <th>FLUX.5</th>\n",
       "      <th>FLUX.6</th>\n",
       "      <th>FLUX.7</th>\n",
       "      <th>FLUX.8</th>\n",
       "      <th>FLUX.9</th>\n",
       "      <th>...</th>\n",
       "      <th>FLUX.3188</th>\n",
       "      <th>FLUX.3189</th>\n",
       "      <th>FLUX.3190</th>\n",
       "      <th>FLUX.3191</th>\n",
       "      <th>FLUX.3192</th>\n",
       "      <th>FLUX.3193</th>\n",
       "      <th>FLUX.3194</th>\n",
       "      <th>FLUX.3195</th>\n",
       "      <th>FLUX.3196</th>\n",
       "      <th>FLUX.3197</th>\n",
       "    </tr>\n",
       "  </thead>\n",
       "  <tbody>\n",
       "    <tr>\n",
       "      <th>0</th>\n",
       "      <td>2</td>\n",
       "      <td>93.85</td>\n",
       "      <td>83.81</td>\n",
       "      <td>20.10</td>\n",
       "      <td>-26.98</td>\n",
       "      <td>-39.56</td>\n",
       "      <td>-124.71</td>\n",
       "      <td>-135.18</td>\n",
       "      <td>-96.27</td>\n",
       "      <td>-79.89</td>\n",
       "      <td>...</td>\n",
       "      <td>-78.07</td>\n",
       "      <td>-102.15</td>\n",
       "      <td>-102.15</td>\n",
       "      <td>25.13</td>\n",
       "      <td>48.57</td>\n",
       "      <td>92.54</td>\n",
       "      <td>39.32</td>\n",
       "      <td>61.42</td>\n",
       "      <td>5.08</td>\n",
       "      <td>-39.54</td>\n",
       "    </tr>\n",
       "    <tr>\n",
       "      <th>1</th>\n",
       "      <td>2</td>\n",
       "      <td>-38.88</td>\n",
       "      <td>-33.83</td>\n",
       "      <td>-58.54</td>\n",
       "      <td>-40.09</td>\n",
       "      <td>-79.31</td>\n",
       "      <td>-72.81</td>\n",
       "      <td>-86.55</td>\n",
       "      <td>-85.33</td>\n",
       "      <td>-83.97</td>\n",
       "      <td>...</td>\n",
       "      <td>-3.28</td>\n",
       "      <td>-32.21</td>\n",
       "      <td>-32.21</td>\n",
       "      <td>-24.89</td>\n",
       "      <td>-4.86</td>\n",
       "      <td>0.76</td>\n",
       "      <td>-11.70</td>\n",
       "      <td>6.46</td>\n",
       "      <td>16.00</td>\n",
       "      <td>19.93</td>\n",
       "    </tr>\n",
       "    <tr>\n",
       "      <th>2</th>\n",
       "      <td>2</td>\n",
       "      <td>532.64</td>\n",
       "      <td>535.92</td>\n",
       "      <td>513.73</td>\n",
       "      <td>496.92</td>\n",
       "      <td>456.45</td>\n",
       "      <td>466.00</td>\n",
       "      <td>464.50</td>\n",
       "      <td>486.39</td>\n",
       "      <td>436.56</td>\n",
       "      <td>...</td>\n",
       "      <td>-71.69</td>\n",
       "      <td>13.31</td>\n",
       "      <td>13.31</td>\n",
       "      <td>-29.89</td>\n",
       "      <td>-20.88</td>\n",
       "      <td>5.06</td>\n",
       "      <td>-11.80</td>\n",
       "      <td>-28.91</td>\n",
       "      <td>-70.02</td>\n",
       "      <td>-96.67</td>\n",
       "    </tr>\n",
       "    <tr>\n",
       "      <th>3</th>\n",
       "      <td>2</td>\n",
       "      <td>326.52</td>\n",
       "      <td>347.39</td>\n",
       "      <td>302.35</td>\n",
       "      <td>298.13</td>\n",
       "      <td>317.74</td>\n",
       "      <td>312.70</td>\n",
       "      <td>322.33</td>\n",
       "      <td>311.31</td>\n",
       "      <td>312.42</td>\n",
       "      <td>...</td>\n",
       "      <td>5.71</td>\n",
       "      <td>-3.73</td>\n",
       "      <td>-3.73</td>\n",
       "      <td>30.05</td>\n",
       "      <td>20.03</td>\n",
       "      <td>-12.67</td>\n",
       "      <td>-8.77</td>\n",
       "      <td>-17.31</td>\n",
       "      <td>-17.35</td>\n",
       "      <td>13.98</td>\n",
       "    </tr>\n",
       "    <tr>\n",
       "      <th>4</th>\n",
       "      <td>2</td>\n",
       "      <td>-1107.21</td>\n",
       "      <td>-1112.59</td>\n",
       "      <td>-1118.95</td>\n",
       "      <td>-1095.10</td>\n",
       "      <td>-1057.55</td>\n",
       "      <td>-1034.48</td>\n",
       "      <td>-998.34</td>\n",
       "      <td>-1022.71</td>\n",
       "      <td>-989.57</td>\n",
       "      <td>...</td>\n",
       "      <td>-594.37</td>\n",
       "      <td>-401.66</td>\n",
       "      <td>-401.66</td>\n",
       "      <td>-357.24</td>\n",
       "      <td>-443.76</td>\n",
       "      <td>-438.54</td>\n",
       "      <td>-399.71</td>\n",
       "      <td>-384.65</td>\n",
       "      <td>-411.79</td>\n",
       "      <td>-510.54</td>\n",
       "    </tr>\n",
       "  </tbody>\n",
       "</table>\n",
       "<p>5 rows × 3198 columns</p>\n",
       "</div>"
      ],
      "text/plain": [
       "   LABEL   FLUX.1   FLUX.2   FLUX.3   FLUX.4   FLUX.5   FLUX.6  FLUX.7  \\\n",
       "0      2    93.85    83.81    20.10   -26.98   -39.56  -124.71 -135.18   \n",
       "1      2   -38.88   -33.83   -58.54   -40.09   -79.31   -72.81  -86.55   \n",
       "2      2   532.64   535.92   513.73   496.92   456.45   466.00  464.50   \n",
       "3      2   326.52   347.39   302.35   298.13   317.74   312.70  322.33   \n",
       "4      2 -1107.21 -1112.59 -1118.95 -1095.10 -1057.55 -1034.48 -998.34   \n",
       "\n",
       "    FLUX.8  FLUX.9    ...      FLUX.3188  FLUX.3189  FLUX.3190  FLUX.3191  \\\n",
       "0   -96.27  -79.89    ...         -78.07    -102.15    -102.15      25.13   \n",
       "1   -85.33  -83.97    ...          -3.28     -32.21     -32.21     -24.89   \n",
       "2   486.39  436.56    ...         -71.69      13.31      13.31     -29.89   \n",
       "3   311.31  312.42    ...           5.71      -3.73      -3.73      30.05   \n",
       "4 -1022.71 -989.57    ...        -594.37    -401.66    -401.66    -357.24   \n",
       "\n",
       "   FLUX.3192  FLUX.3193  FLUX.3194  FLUX.3195  FLUX.3196  FLUX.3197  \n",
       "0      48.57      92.54      39.32      61.42       5.08     -39.54  \n",
       "1      -4.86       0.76     -11.70       6.46      16.00      19.93  \n",
       "2     -20.88       5.06     -11.80     -28.91     -70.02     -96.67  \n",
       "3      20.03     -12.67      -8.77     -17.31     -17.35      13.98  \n",
       "4    -443.76    -438.54    -399.71    -384.65    -411.79    -510.54  \n",
       "\n",
       "[5 rows x 3198 columns]"
      ]
     },
     "execution_count": 3,
     "metadata": {},
     "output_type": "execute_result"
    }
   ],
   "source": [
    "train.head()"
   ]
  },
  {
   "cell_type": "code",
   "execution_count": 4,
   "metadata": {},
   "outputs": [
    {
     "data": {
      "text/html": [
       "<div>\n",
       "<style scoped>\n",
       "    .dataframe tbody tr th:only-of-type {\n",
       "        vertical-align: middle;\n",
       "    }\n",
       "\n",
       "    .dataframe tbody tr th {\n",
       "        vertical-align: top;\n",
       "    }\n",
       "\n",
       "    .dataframe thead th {\n",
       "        text-align: right;\n",
       "    }\n",
       "</style>\n",
       "<table border=\"1\" class=\"dataframe\">\n",
       "  <thead>\n",
       "    <tr style=\"text-align: right;\">\n",
       "      <th></th>\n",
       "      <th>LABEL</th>\n",
       "      <th>FLUX.1</th>\n",
       "      <th>FLUX.2</th>\n",
       "      <th>FLUX.3</th>\n",
       "      <th>FLUX.4</th>\n",
       "      <th>FLUX.5</th>\n",
       "      <th>FLUX.6</th>\n",
       "      <th>FLUX.7</th>\n",
       "      <th>FLUX.8</th>\n",
       "      <th>FLUX.9</th>\n",
       "      <th>...</th>\n",
       "      <th>FLUX.3188</th>\n",
       "      <th>FLUX.3189</th>\n",
       "      <th>FLUX.3190</th>\n",
       "      <th>FLUX.3191</th>\n",
       "      <th>FLUX.3192</th>\n",
       "      <th>FLUX.3193</th>\n",
       "      <th>FLUX.3194</th>\n",
       "      <th>FLUX.3195</th>\n",
       "      <th>FLUX.3196</th>\n",
       "      <th>FLUX.3197</th>\n",
       "    </tr>\n",
       "  </thead>\n",
       "  <tbody>\n",
       "    <tr>\n",
       "      <th>count</th>\n",
       "      <td>5087.000000</td>\n",
       "      <td>5.087000e+03</td>\n",
       "      <td>5.087000e+03</td>\n",
       "      <td>5.087000e+03</td>\n",
       "      <td>5.087000e+03</td>\n",
       "      <td>5.087000e+03</td>\n",
       "      <td>5.087000e+03</td>\n",
       "      <td>5.087000e+03</td>\n",
       "      <td>5.087000e+03</td>\n",
       "      <td>5.087000e+03</td>\n",
       "      <td>...</td>\n",
       "      <td>5.087000e+03</td>\n",
       "      <td>5.087000e+03</td>\n",
       "      <td>5.087000e+03</td>\n",
       "      <td>5.087000e+03</td>\n",
       "      <td>5.087000e+03</td>\n",
       "      <td>5.087000e+03</td>\n",
       "      <td>5087.000000</td>\n",
       "      <td>5087.000000</td>\n",
       "      <td>5087.000000</td>\n",
       "      <td>5087.000000</td>\n",
       "    </tr>\n",
       "    <tr>\n",
       "      <th>mean</th>\n",
       "      <td>1.007273</td>\n",
       "      <td>1.445054e+02</td>\n",
       "      <td>1.285778e+02</td>\n",
       "      <td>1.471348e+02</td>\n",
       "      <td>1.561512e+02</td>\n",
       "      <td>1.561477e+02</td>\n",
       "      <td>1.469646e+02</td>\n",
       "      <td>1.168380e+02</td>\n",
       "      <td>1.144983e+02</td>\n",
       "      <td>1.228639e+02</td>\n",
       "      <td>...</td>\n",
       "      <td>3.485578e+02</td>\n",
       "      <td>4.956476e+02</td>\n",
       "      <td>6.711211e+02</td>\n",
       "      <td>7.468790e+02</td>\n",
       "      <td>6.937372e+02</td>\n",
       "      <td>6.553031e+02</td>\n",
       "      <td>-494.784966</td>\n",
       "      <td>-544.594264</td>\n",
       "      <td>-440.239100</td>\n",
       "      <td>-300.536399</td>\n",
       "    </tr>\n",
       "    <tr>\n",
       "      <th>std</th>\n",
       "      <td>0.084982</td>\n",
       "      <td>2.150669e+04</td>\n",
       "      <td>2.179717e+04</td>\n",
       "      <td>2.191309e+04</td>\n",
       "      <td>2.223366e+04</td>\n",
       "      <td>2.308448e+04</td>\n",
       "      <td>2.410567e+04</td>\n",
       "      <td>2.414109e+04</td>\n",
       "      <td>2.290691e+04</td>\n",
       "      <td>2.102681e+04</td>\n",
       "      <td>...</td>\n",
       "      <td>2.864786e+04</td>\n",
       "      <td>3.551876e+04</td>\n",
       "      <td>4.349963e+04</td>\n",
       "      <td>4.981375e+04</td>\n",
       "      <td>5.087103e+04</td>\n",
       "      <td>5.339979e+04</td>\n",
       "      <td>17844.469520</td>\n",
       "      <td>17722.339334</td>\n",
       "      <td>16273.406292</td>\n",
       "      <td>14459.795577</td>\n",
       "    </tr>\n",
       "    <tr>\n",
       "      <th>min</th>\n",
       "      <td>1.000000</td>\n",
       "      <td>-2.278563e+05</td>\n",
       "      <td>-3.154408e+05</td>\n",
       "      <td>-2.840018e+05</td>\n",
       "      <td>-2.340069e+05</td>\n",
       "      <td>-4.231956e+05</td>\n",
       "      <td>-5.975521e+05</td>\n",
       "      <td>-6.724046e+05</td>\n",
       "      <td>-5.790136e+05</td>\n",
       "      <td>-3.973882e+05</td>\n",
       "      <td>...</td>\n",
       "      <td>-3.240480e+05</td>\n",
       "      <td>-3.045540e+05</td>\n",
       "      <td>-2.933140e+05</td>\n",
       "      <td>-2.838420e+05</td>\n",
       "      <td>-3.288214e+05</td>\n",
       "      <td>-5.028894e+05</td>\n",
       "      <td>-775322.000000</td>\n",
       "      <td>-732006.000000</td>\n",
       "      <td>-700992.000000</td>\n",
       "      <td>-643170.000000</td>\n",
       "    </tr>\n",
       "    <tr>\n",
       "      <th>25%</th>\n",
       "      <td>1.000000</td>\n",
       "      <td>-4.234000e+01</td>\n",
       "      <td>-3.952000e+01</td>\n",
       "      <td>-3.850500e+01</td>\n",
       "      <td>-3.505000e+01</td>\n",
       "      <td>-3.195500e+01</td>\n",
       "      <td>-3.338000e+01</td>\n",
       "      <td>-2.813000e+01</td>\n",
       "      <td>-2.784000e+01</td>\n",
       "      <td>-2.683500e+01</td>\n",
       "      <td>...</td>\n",
       "      <td>-1.760000e+01</td>\n",
       "      <td>-1.948500e+01</td>\n",
       "      <td>-1.757000e+01</td>\n",
       "      <td>-2.076000e+01</td>\n",
       "      <td>-2.226000e+01</td>\n",
       "      <td>-2.440500e+01</td>\n",
       "      <td>-26.760000</td>\n",
       "      <td>-24.065000</td>\n",
       "      <td>-21.135000</td>\n",
       "      <td>-19.820000</td>\n",
       "    </tr>\n",
       "    <tr>\n",
       "      <th>50%</th>\n",
       "      <td>1.000000</td>\n",
       "      <td>-7.100000e-01</td>\n",
       "      <td>-8.900000e-01</td>\n",
       "      <td>-7.400000e-01</td>\n",
       "      <td>-4.000000e-01</td>\n",
       "      <td>-6.100000e-01</td>\n",
       "      <td>-1.030000e+00</td>\n",
       "      <td>-8.700000e-01</td>\n",
       "      <td>-6.600000e-01</td>\n",
       "      <td>-5.600000e-01</td>\n",
       "      <td>...</td>\n",
       "      <td>2.600000e+00</td>\n",
       "      <td>2.680000e+00</td>\n",
       "      <td>3.050000e+00</td>\n",
       "      <td>3.590000e+00</td>\n",
       "      <td>3.230000e+00</td>\n",
       "      <td>3.500000e+00</td>\n",
       "      <td>-0.680000</td>\n",
       "      <td>0.360000</td>\n",
       "      <td>0.900000</td>\n",
       "      <td>1.430000</td>\n",
       "    </tr>\n",
       "    <tr>\n",
       "      <th>75%</th>\n",
       "      <td>1.000000</td>\n",
       "      <td>4.825500e+01</td>\n",
       "      <td>4.428500e+01</td>\n",
       "      <td>4.232500e+01</td>\n",
       "      <td>3.976500e+01</td>\n",
       "      <td>3.975000e+01</td>\n",
       "      <td>3.514000e+01</td>\n",
       "      <td>3.406000e+01</td>\n",
       "      <td>3.170000e+01</td>\n",
       "      <td>3.045500e+01</td>\n",
       "      <td>...</td>\n",
       "      <td>2.211000e+01</td>\n",
       "      <td>2.235000e+01</td>\n",
       "      <td>2.639500e+01</td>\n",
       "      <td>2.909000e+01</td>\n",
       "      <td>2.780000e+01</td>\n",
       "      <td>3.085500e+01</td>\n",
       "      <td>18.175000</td>\n",
       "      <td>18.770000</td>\n",
       "      <td>19.465000</td>\n",
       "      <td>20.280000</td>\n",
       "    </tr>\n",
       "    <tr>\n",
       "      <th>max</th>\n",
       "      <td>2.000000</td>\n",
       "      <td>1.439240e+06</td>\n",
       "      <td>1.453319e+06</td>\n",
       "      <td>1.468429e+06</td>\n",
       "      <td>1.495750e+06</td>\n",
       "      <td>1.510937e+06</td>\n",
       "      <td>1.508152e+06</td>\n",
       "      <td>1.465743e+06</td>\n",
       "      <td>1.416827e+06</td>\n",
       "      <td>1.342888e+06</td>\n",
       "      <td>...</td>\n",
       "      <td>1.779338e+06</td>\n",
       "      <td>2.379227e+06</td>\n",
       "      <td>2.992070e+06</td>\n",
       "      <td>3.434973e+06</td>\n",
       "      <td>3.481220e+06</td>\n",
       "      <td>3.616292e+06</td>\n",
       "      <td>288607.500000</td>\n",
       "      <td>215972.000000</td>\n",
       "      <td>207590.000000</td>\n",
       "      <td>211302.000000</td>\n",
       "    </tr>\n",
       "  </tbody>\n",
       "</table>\n",
       "<p>8 rows × 3198 columns</p>\n",
       "</div>"
      ],
      "text/plain": [
       "             LABEL        FLUX.1        FLUX.2        FLUX.3        FLUX.4  \\\n",
       "count  5087.000000  5.087000e+03  5.087000e+03  5.087000e+03  5.087000e+03   \n",
       "mean      1.007273  1.445054e+02  1.285778e+02  1.471348e+02  1.561512e+02   \n",
       "std       0.084982  2.150669e+04  2.179717e+04  2.191309e+04  2.223366e+04   \n",
       "min       1.000000 -2.278563e+05 -3.154408e+05 -2.840018e+05 -2.340069e+05   \n",
       "25%       1.000000 -4.234000e+01 -3.952000e+01 -3.850500e+01 -3.505000e+01   \n",
       "50%       1.000000 -7.100000e-01 -8.900000e-01 -7.400000e-01 -4.000000e-01   \n",
       "75%       1.000000  4.825500e+01  4.428500e+01  4.232500e+01  3.976500e+01   \n",
       "max       2.000000  1.439240e+06  1.453319e+06  1.468429e+06  1.495750e+06   \n",
       "\n",
       "             FLUX.5        FLUX.6        FLUX.7        FLUX.8        FLUX.9  \\\n",
       "count  5.087000e+03  5.087000e+03  5.087000e+03  5.087000e+03  5.087000e+03   \n",
       "mean   1.561477e+02  1.469646e+02  1.168380e+02  1.144983e+02  1.228639e+02   \n",
       "std    2.308448e+04  2.410567e+04  2.414109e+04  2.290691e+04  2.102681e+04   \n",
       "min   -4.231956e+05 -5.975521e+05 -6.724046e+05 -5.790136e+05 -3.973882e+05   \n",
       "25%   -3.195500e+01 -3.338000e+01 -2.813000e+01 -2.784000e+01 -2.683500e+01   \n",
       "50%   -6.100000e-01 -1.030000e+00 -8.700000e-01 -6.600000e-01 -5.600000e-01   \n",
       "75%    3.975000e+01  3.514000e+01  3.406000e+01  3.170000e+01  3.045500e+01   \n",
       "max    1.510937e+06  1.508152e+06  1.465743e+06  1.416827e+06  1.342888e+06   \n",
       "\n",
       "           ...           FLUX.3188     FLUX.3189     FLUX.3190     FLUX.3191  \\\n",
       "count      ...        5.087000e+03  5.087000e+03  5.087000e+03  5.087000e+03   \n",
       "mean       ...        3.485578e+02  4.956476e+02  6.711211e+02  7.468790e+02   \n",
       "std        ...        2.864786e+04  3.551876e+04  4.349963e+04  4.981375e+04   \n",
       "min        ...       -3.240480e+05 -3.045540e+05 -2.933140e+05 -2.838420e+05   \n",
       "25%        ...       -1.760000e+01 -1.948500e+01 -1.757000e+01 -2.076000e+01   \n",
       "50%        ...        2.600000e+00  2.680000e+00  3.050000e+00  3.590000e+00   \n",
       "75%        ...        2.211000e+01  2.235000e+01  2.639500e+01  2.909000e+01   \n",
       "max        ...        1.779338e+06  2.379227e+06  2.992070e+06  3.434973e+06   \n",
       "\n",
       "          FLUX.3192     FLUX.3193      FLUX.3194      FLUX.3195  \\\n",
       "count  5.087000e+03  5.087000e+03    5087.000000    5087.000000   \n",
       "mean   6.937372e+02  6.553031e+02    -494.784966    -544.594264   \n",
       "std    5.087103e+04  5.339979e+04   17844.469520   17722.339334   \n",
       "min   -3.288214e+05 -5.028894e+05 -775322.000000 -732006.000000   \n",
       "25%   -2.226000e+01 -2.440500e+01     -26.760000     -24.065000   \n",
       "50%    3.230000e+00  3.500000e+00      -0.680000       0.360000   \n",
       "75%    2.780000e+01  3.085500e+01      18.175000      18.770000   \n",
       "max    3.481220e+06  3.616292e+06  288607.500000  215972.000000   \n",
       "\n",
       "           FLUX.3196      FLUX.3197  \n",
       "count    5087.000000    5087.000000  \n",
       "mean     -440.239100    -300.536399  \n",
       "std     16273.406292   14459.795577  \n",
       "min   -700992.000000 -643170.000000  \n",
       "25%       -21.135000     -19.820000  \n",
       "50%         0.900000       1.430000  \n",
       "75%        19.465000      20.280000  \n",
       "max    207590.000000  211302.000000  \n",
       "\n",
       "[8 rows x 3198 columns]"
      ]
     },
     "execution_count": 4,
     "metadata": {},
     "output_type": "execute_result"
    }
   ],
   "source": [
    "train.describe()"
   ]
  },
  {
   "cell_type": "code",
   "execution_count": 5,
   "metadata": {},
   "outputs": [
    {
     "data": {
      "text/html": [
       "<div>\n",
       "<style scoped>\n",
       "    .dataframe tbody tr th:only-of-type {\n",
       "        vertical-align: middle;\n",
       "    }\n",
       "\n",
       "    .dataframe tbody tr th {\n",
       "        vertical-align: top;\n",
       "    }\n",
       "\n",
       "    .dataframe thead th {\n",
       "        text-align: right;\n",
       "    }\n",
       "</style>\n",
       "<table border=\"1\" class=\"dataframe\">\n",
       "  <thead>\n",
       "    <tr style=\"text-align: right;\">\n",
       "      <th></th>\n",
       "      <th>LABEL</th>\n",
       "      <th>FLUX.1</th>\n",
       "      <th>FLUX.2</th>\n",
       "      <th>FLUX.3</th>\n",
       "      <th>FLUX.4</th>\n",
       "      <th>FLUX.5</th>\n",
       "      <th>FLUX.6</th>\n",
       "      <th>FLUX.7</th>\n",
       "      <th>FLUX.8</th>\n",
       "      <th>FLUX.9</th>\n",
       "      <th>...</th>\n",
       "      <th>FLUX.3188</th>\n",
       "      <th>FLUX.3189</th>\n",
       "      <th>FLUX.3190</th>\n",
       "      <th>FLUX.3191</th>\n",
       "      <th>FLUX.3192</th>\n",
       "      <th>FLUX.3193</th>\n",
       "      <th>FLUX.3194</th>\n",
       "      <th>FLUX.3195</th>\n",
       "      <th>FLUX.3196</th>\n",
       "      <th>FLUX.3197</th>\n",
       "    </tr>\n",
       "  </thead>\n",
       "  <tbody>\n",
       "    <tr>\n",
       "      <th>0</th>\n",
       "      <td>2</td>\n",
       "      <td>119.88</td>\n",
       "      <td>100.21</td>\n",
       "      <td>86.46</td>\n",
       "      <td>48.68</td>\n",
       "      <td>46.12</td>\n",
       "      <td>39.39</td>\n",
       "      <td>18.57</td>\n",
       "      <td>6.98</td>\n",
       "      <td>6.63</td>\n",
       "      <td>...</td>\n",
       "      <td>14.52</td>\n",
       "      <td>19.29</td>\n",
       "      <td>14.44</td>\n",
       "      <td>-1.62</td>\n",
       "      <td>13.33</td>\n",
       "      <td>45.50</td>\n",
       "      <td>31.93</td>\n",
       "      <td>35.78</td>\n",
       "      <td>269.43</td>\n",
       "      <td>57.72</td>\n",
       "    </tr>\n",
       "    <tr>\n",
       "      <th>1</th>\n",
       "      <td>2</td>\n",
       "      <td>5736.59</td>\n",
       "      <td>5699.98</td>\n",
       "      <td>5717.16</td>\n",
       "      <td>5692.73</td>\n",
       "      <td>5663.83</td>\n",
       "      <td>5631.16</td>\n",
       "      <td>5626.39</td>\n",
       "      <td>5569.47</td>\n",
       "      <td>5550.44</td>\n",
       "      <td>...</td>\n",
       "      <td>-581.91</td>\n",
       "      <td>-984.09</td>\n",
       "      <td>-1230.89</td>\n",
       "      <td>-1600.45</td>\n",
       "      <td>-1824.53</td>\n",
       "      <td>-2061.17</td>\n",
       "      <td>-2265.98</td>\n",
       "      <td>-2366.19</td>\n",
       "      <td>-2294.86</td>\n",
       "      <td>-2034.72</td>\n",
       "    </tr>\n",
       "    <tr>\n",
       "      <th>2</th>\n",
       "      <td>2</td>\n",
       "      <td>844.48</td>\n",
       "      <td>817.49</td>\n",
       "      <td>770.07</td>\n",
       "      <td>675.01</td>\n",
       "      <td>605.52</td>\n",
       "      <td>499.45</td>\n",
       "      <td>440.77</td>\n",
       "      <td>362.95</td>\n",
       "      <td>207.27</td>\n",
       "      <td>...</td>\n",
       "      <td>17.82</td>\n",
       "      <td>-51.66</td>\n",
       "      <td>-48.29</td>\n",
       "      <td>-59.99</td>\n",
       "      <td>-82.10</td>\n",
       "      <td>-174.54</td>\n",
       "      <td>-95.23</td>\n",
       "      <td>-162.68</td>\n",
       "      <td>-36.79</td>\n",
       "      <td>30.63</td>\n",
       "    </tr>\n",
       "    <tr>\n",
       "      <th>3</th>\n",
       "      <td>2</td>\n",
       "      <td>-826.00</td>\n",
       "      <td>-827.31</td>\n",
       "      <td>-846.12</td>\n",
       "      <td>-836.03</td>\n",
       "      <td>-745.50</td>\n",
       "      <td>-784.69</td>\n",
       "      <td>-791.22</td>\n",
       "      <td>-746.50</td>\n",
       "      <td>-709.53</td>\n",
       "      <td>...</td>\n",
       "      <td>122.34</td>\n",
       "      <td>93.03</td>\n",
       "      <td>93.03</td>\n",
       "      <td>68.81</td>\n",
       "      <td>9.81</td>\n",
       "      <td>20.75</td>\n",
       "      <td>20.25</td>\n",
       "      <td>-120.81</td>\n",
       "      <td>-257.56</td>\n",
       "      <td>-215.41</td>\n",
       "    </tr>\n",
       "    <tr>\n",
       "      <th>4</th>\n",
       "      <td>2</td>\n",
       "      <td>-39.57</td>\n",
       "      <td>-15.88</td>\n",
       "      <td>-9.16</td>\n",
       "      <td>-6.37</td>\n",
       "      <td>-16.13</td>\n",
       "      <td>-24.05</td>\n",
       "      <td>-0.90</td>\n",
       "      <td>-45.20</td>\n",
       "      <td>-5.04</td>\n",
       "      <td>...</td>\n",
       "      <td>-37.87</td>\n",
       "      <td>-61.85</td>\n",
       "      <td>-27.15</td>\n",
       "      <td>-21.18</td>\n",
       "      <td>-33.76</td>\n",
       "      <td>-85.34</td>\n",
       "      <td>-81.46</td>\n",
       "      <td>-61.98</td>\n",
       "      <td>-69.34</td>\n",
       "      <td>-17.84</td>\n",
       "    </tr>\n",
       "  </tbody>\n",
       "</table>\n",
       "<p>5 rows × 3198 columns</p>\n",
       "</div>"
      ],
      "text/plain": [
       "   LABEL   FLUX.1   FLUX.2   FLUX.3   FLUX.4   FLUX.5   FLUX.6   FLUX.7  \\\n",
       "0      2   119.88   100.21    86.46    48.68    46.12    39.39    18.57   \n",
       "1      2  5736.59  5699.98  5717.16  5692.73  5663.83  5631.16  5626.39   \n",
       "2      2   844.48   817.49   770.07   675.01   605.52   499.45   440.77   \n",
       "3      2  -826.00  -827.31  -846.12  -836.03  -745.50  -784.69  -791.22   \n",
       "4      2   -39.57   -15.88    -9.16    -6.37   -16.13   -24.05    -0.90   \n",
       "\n",
       "    FLUX.8   FLUX.9    ...      FLUX.3188  FLUX.3189  FLUX.3190  FLUX.3191  \\\n",
       "0     6.98     6.63    ...          14.52      19.29      14.44      -1.62   \n",
       "1  5569.47  5550.44    ...        -581.91    -984.09   -1230.89   -1600.45   \n",
       "2   362.95   207.27    ...          17.82     -51.66     -48.29     -59.99   \n",
       "3  -746.50  -709.53    ...         122.34      93.03      93.03      68.81   \n",
       "4   -45.20    -5.04    ...         -37.87     -61.85     -27.15     -21.18   \n",
       "\n",
       "   FLUX.3192  FLUX.3193  FLUX.3194  FLUX.3195  FLUX.3196  FLUX.3197  \n",
       "0      13.33      45.50      31.93      35.78     269.43      57.72  \n",
       "1   -1824.53   -2061.17   -2265.98   -2366.19   -2294.86   -2034.72  \n",
       "2     -82.10    -174.54     -95.23    -162.68     -36.79      30.63  \n",
       "3       9.81      20.75      20.25    -120.81    -257.56    -215.41  \n",
       "4     -33.76     -85.34     -81.46     -61.98     -69.34     -17.84  \n",
       "\n",
       "[5 rows x 3198 columns]"
      ]
     },
     "execution_count": 5,
     "metadata": {},
     "output_type": "execute_result"
    }
   ],
   "source": [
    "test.head()"
   ]
  },
  {
   "cell_type": "code",
   "execution_count": 10,
   "metadata": {},
   "outputs": [
    {
     "data": {
      "text/html": [
       "<div>\n",
       "<style scoped>\n",
       "    .dataframe tbody tr th:only-of-type {\n",
       "        vertical-align: middle;\n",
       "    }\n",
       "\n",
       "    .dataframe tbody tr th {\n",
       "        vertical-align: top;\n",
       "    }\n",
       "\n",
       "    .dataframe thead th {\n",
       "        text-align: right;\n",
       "    }\n",
       "</style>\n",
       "<table border=\"1\" class=\"dataframe\">\n",
       "  <thead>\n",
       "    <tr style=\"text-align: right;\">\n",
       "      <th></th>\n",
       "      <th>LABEL</th>\n",
       "      <th>FLUX.1</th>\n",
       "      <th>FLUX.2</th>\n",
       "      <th>FLUX.3</th>\n",
       "      <th>FLUX.4</th>\n",
       "      <th>FLUX.5</th>\n",
       "      <th>FLUX.6</th>\n",
       "      <th>FLUX.7</th>\n",
       "      <th>FLUX.8</th>\n",
       "      <th>FLUX.9</th>\n",
       "      <th>...</th>\n",
       "      <th>FLUX.3188</th>\n",
       "      <th>FLUX.3189</th>\n",
       "      <th>FLUX.3190</th>\n",
       "      <th>FLUX.3191</th>\n",
       "      <th>FLUX.3192</th>\n",
       "      <th>FLUX.3193</th>\n",
       "      <th>FLUX.3194</th>\n",
       "      <th>FLUX.3195</th>\n",
       "      <th>FLUX.3196</th>\n",
       "      <th>FLUX.3197</th>\n",
       "    </tr>\n",
       "  </thead>\n",
       "  <tbody>\n",
       "    <tr>\n",
       "      <th>count</th>\n",
       "      <td>570.000000</td>\n",
       "      <td>570.000000</td>\n",
       "      <td>570.000000</td>\n",
       "      <td>570.000000</td>\n",
       "      <td>570.000000</td>\n",
       "      <td>570.000000</td>\n",
       "      <td>570.000000</td>\n",
       "      <td>570.000000</td>\n",
       "      <td>570.000000</td>\n",
       "      <td>570.000000</td>\n",
       "      <td>...</td>\n",
       "      <td>570.000000</td>\n",
       "      <td>570.000000</td>\n",
       "      <td>570.000000</td>\n",
       "      <td>570.000000</td>\n",
       "      <td>570.000000</td>\n",
       "      <td>570.000000</td>\n",
       "      <td>570.000000</td>\n",
       "      <td>570.000000</td>\n",
       "      <td>570.000000</td>\n",
       "      <td>570.000000</td>\n",
       "    </tr>\n",
       "    <tr>\n",
       "      <th>mean</th>\n",
       "      <td>1.008772</td>\n",
       "      <td>515.411351</td>\n",
       "      <td>738.046404</td>\n",
       "      <td>532.603246</td>\n",
       "      <td>739.618088</td>\n",
       "      <td>530.949807</td>\n",
       "      <td>729.591491</td>\n",
       "      <td>517.421404</td>\n",
       "      <td>720.723544</td>\n",
       "      <td>481.015211</td>\n",
       "      <td>...</td>\n",
       "      <td>60.027754</td>\n",
       "      <td>307.682825</td>\n",
       "      <td>88.976842</td>\n",
       "      <td>301.299895</td>\n",
       "      <td>105.121684</td>\n",
       "      <td>291.509561</td>\n",
       "      <td>256.656789</td>\n",
       "      <td>121.810035</td>\n",
       "      <td>224.806035</td>\n",
       "      <td>133.954544</td>\n",
       "    </tr>\n",
       "    <tr>\n",
       "      <th>std</th>\n",
       "      <td>0.093329</td>\n",
       "      <td>12592.950138</td>\n",
       "      <td>12622.940170</td>\n",
       "      <td>12545.065255</td>\n",
       "      <td>12591.933126</td>\n",
       "      <td>12512.976544</td>\n",
       "      <td>12572.187328</td>\n",
       "      <td>12454.094432</td>\n",
       "      <td>12525.496793</td>\n",
       "      <td>12397.610716</td>\n",
       "      <td>...</td>\n",
       "      <td>9528.594808</td>\n",
       "      <td>9588.586341</td>\n",
       "      <td>9497.373179</td>\n",
       "      <td>9611.024800</td>\n",
       "      <td>9611.076529</td>\n",
       "      <td>9654.581767</td>\n",
       "      <td>9362.719825</td>\n",
       "      <td>9487.642217</td>\n",
       "      <td>9483.948248</td>\n",
       "      <td>9700.731923</td>\n",
       "    </tr>\n",
       "    <tr>\n",
       "      <th>min</th>\n",
       "      <td>1.000000</td>\n",
       "      <td>-59421.000000</td>\n",
       "      <td>-14663.430000</td>\n",
       "      <td>-56580.000000</td>\n",
       "      <td>-10817.590000</td>\n",
       "      <td>-54545.000000</td>\n",
       "      <td>-7744.500000</td>\n",
       "      <td>-53580.000000</td>\n",
       "      <td>-6373.400000</td>\n",
       "      <td>-53832.000000</td>\n",
       "      <td>...</td>\n",
       "      <td>-89126.500000</td>\n",
       "      <td>-89432.070000</td>\n",
       "      <td>-89759.940000</td>\n",
       "      <td>-90182.630000</td>\n",
       "      <td>-90225.760000</td>\n",
       "      <td>-90595.000000</td>\n",
       "      <td>-86719.070000</td>\n",
       "      <td>-86911.500000</td>\n",
       "      <td>-87123.260000</td>\n",
       "      <td>-87476.940000</td>\n",
       "    </tr>\n",
       "    <tr>\n",
       "      <th>25%</th>\n",
       "      <td>1.000000</td>\n",
       "      <td>-22.230000</td>\n",
       "      <td>-22.912500</td>\n",
       "      <td>-22.985000</td>\n",
       "      <td>-18.662500</td>\n",
       "      <td>-20.980000</td>\n",
       "      <td>-21.245000</td>\n",
       "      <td>-22.675000</td>\n",
       "      <td>-22.200000</td>\n",
       "      <td>-22.685000</td>\n",
       "      <td>...</td>\n",
       "      <td>-9.602500</td>\n",
       "      <td>-12.842500</td>\n",
       "      <td>-15.222500</td>\n",
       "      <td>-14.350000</td>\n",
       "      <td>-17.370000</td>\n",
       "      <td>-18.272500</td>\n",
       "      <td>-24.000000</td>\n",
       "      <td>-27.360000</td>\n",
       "      <td>-36.855000</td>\n",
       "      <td>-29.475000</td>\n",
       "    </tr>\n",
       "    <tr>\n",
       "      <th>50%</th>\n",
       "      <td>1.000000</td>\n",
       "      <td>1.195000</td>\n",
       "      <td>0.410000</td>\n",
       "      <td>-1.125000</td>\n",
       "      <td>-0.880000</td>\n",
       "      <td>-1.495000</td>\n",
       "      <td>-2.650000</td>\n",
       "      <td>-4.330000</td>\n",
       "      <td>-3.910000</td>\n",
       "      <td>-3.890000</td>\n",
       "      <td>...</td>\n",
       "      <td>3.585000</td>\n",
       "      <td>3.795000</td>\n",
       "      <td>4.785000</td>\n",
       "      <td>3.910000</td>\n",
       "      <td>5.575000</td>\n",
       "      <td>7.150000</td>\n",
       "      <td>-4.385000</td>\n",
       "      <td>-4.995000</td>\n",
       "      <td>-5.135000</td>\n",
       "      <td>-3.785000</td>\n",
       "    </tr>\n",
       "    <tr>\n",
       "      <th>75%</th>\n",
       "      <td>1.000000</td>\n",
       "      <td>98.317500</td>\n",
       "      <td>89.710000</td>\n",
       "      <td>89.827500</td>\n",
       "      <td>73.257500</td>\n",
       "      <td>66.947500</td>\n",
       "      <td>45.147500</td>\n",
       "      <td>38.850000</td>\n",
       "      <td>37.150000</td>\n",
       "      <td>30.670000</td>\n",
       "      <td>...</td>\n",
       "      <td>23.445000</td>\n",
       "      <td>20.472500</td>\n",
       "      <td>25.582500</td>\n",
       "      <td>28.767500</td>\n",
       "      <td>27.455000</td>\n",
       "      <td>35.810000</td>\n",
       "      <td>17.755000</td>\n",
       "      <td>11.745000</td>\n",
       "      <td>12.265000</td>\n",
       "      <td>13.205000</td>\n",
       "    </tr>\n",
       "    <tr>\n",
       "      <th>max</th>\n",
       "      <td>2.000000</td>\n",
       "      <td>290882.500000</td>\n",
       "      <td>290653.500000</td>\n",
       "      <td>290554.000000</td>\n",
       "      <td>290486.500000</td>\n",
       "      <td>290289.000000</td>\n",
       "      <td>289982.500000</td>\n",
       "      <td>289197.500000</td>\n",
       "      <td>288520.500000</td>\n",
       "      <td>287404.500000</td>\n",
       "      <td>...</td>\n",
       "      <td>198420.000000</td>\n",
       "      <td>197888.500000</td>\n",
       "      <td>199639.000000</td>\n",
       "      <td>202007.000000</td>\n",
       "      <td>203730.500000</td>\n",
       "      <td>205924.000000</td>\n",
       "      <td>203193.000000</td>\n",
       "      <td>205050.000000</td>\n",
       "      <td>206884.500000</td>\n",
       "      <td>211488.500000</td>\n",
       "    </tr>\n",
       "  </tbody>\n",
       "</table>\n",
       "<p>8 rows × 3198 columns</p>\n",
       "</div>"
      ],
      "text/plain": [
       "            LABEL         FLUX.1         FLUX.2         FLUX.3         FLUX.4  \\\n",
       "count  570.000000     570.000000     570.000000     570.000000     570.000000   \n",
       "mean     1.008772     515.411351     738.046404     532.603246     739.618088   \n",
       "std      0.093329   12592.950138   12622.940170   12545.065255   12591.933126   \n",
       "min      1.000000  -59421.000000  -14663.430000  -56580.000000  -10817.590000   \n",
       "25%      1.000000     -22.230000     -22.912500     -22.985000     -18.662500   \n",
       "50%      1.000000       1.195000       0.410000      -1.125000      -0.880000   \n",
       "75%      1.000000      98.317500      89.710000      89.827500      73.257500   \n",
       "max      2.000000  290882.500000  290653.500000  290554.000000  290486.500000   \n",
       "\n",
       "              FLUX.5         FLUX.6         FLUX.7         FLUX.8  \\\n",
       "count     570.000000     570.000000     570.000000     570.000000   \n",
       "mean      530.949807     729.591491     517.421404     720.723544   \n",
       "std     12512.976544   12572.187328   12454.094432   12525.496793   \n",
       "min    -54545.000000   -7744.500000  -53580.000000   -6373.400000   \n",
       "25%       -20.980000     -21.245000     -22.675000     -22.200000   \n",
       "50%        -1.495000      -2.650000      -4.330000      -3.910000   \n",
       "75%        66.947500      45.147500      38.850000      37.150000   \n",
       "max    290289.000000  289982.500000  289197.500000  288520.500000   \n",
       "\n",
       "              FLUX.9      ...            FLUX.3188      FLUX.3189  \\\n",
       "count     570.000000      ...           570.000000     570.000000   \n",
       "mean      481.015211      ...            60.027754     307.682825   \n",
       "std     12397.610716      ...          9528.594808    9588.586341   \n",
       "min    -53832.000000      ...        -89126.500000  -89432.070000   \n",
       "25%       -22.685000      ...            -9.602500     -12.842500   \n",
       "50%        -3.890000      ...             3.585000       3.795000   \n",
       "75%        30.670000      ...            23.445000      20.472500   \n",
       "max    287404.500000      ...        198420.000000  197888.500000   \n",
       "\n",
       "           FLUX.3190      FLUX.3191      FLUX.3192      FLUX.3193  \\\n",
       "count     570.000000     570.000000     570.000000     570.000000   \n",
       "mean       88.976842     301.299895     105.121684     291.509561   \n",
       "std      9497.373179    9611.024800    9611.076529    9654.581767   \n",
       "min    -89759.940000  -90182.630000  -90225.760000  -90595.000000   \n",
       "25%       -15.222500     -14.350000     -17.370000     -18.272500   \n",
       "50%         4.785000       3.910000       5.575000       7.150000   \n",
       "75%        25.582500      28.767500      27.455000      35.810000   \n",
       "max    199639.000000  202007.000000  203730.500000  205924.000000   \n",
       "\n",
       "           FLUX.3194      FLUX.3195      FLUX.3196      FLUX.3197  \n",
       "count     570.000000     570.000000     570.000000     570.000000  \n",
       "mean      256.656789     121.810035     224.806035     133.954544  \n",
       "std      9362.719825    9487.642217    9483.948248    9700.731923  \n",
       "min    -86719.070000  -86911.500000  -87123.260000  -87476.940000  \n",
       "25%       -24.000000     -27.360000     -36.855000     -29.475000  \n",
       "50%        -4.385000      -4.995000      -5.135000      -3.785000  \n",
       "75%        17.755000      11.745000      12.265000      13.205000  \n",
       "max    203193.000000  205050.000000  206884.500000  211488.500000  \n",
       "\n",
       "[8 rows x 3198 columns]"
      ]
     },
     "execution_count": 10,
     "metadata": {},
     "output_type": "execute_result"
    }
   ],
   "source": [
    "test.describe()"
   ]
  },
  {
   "cell_type": "code",
   "execution_count": 11,
   "metadata": {},
   "outputs": [
    {
     "data": {
      "text/plain": [
       "0"
      ]
     },
     "execution_count": 11,
     "metadata": {},
     "output_type": "execute_result"
    }
   ],
   "source": [
    "(train.isna().sum()).sum()"
   ]
  },
  {
   "cell_type": "code",
   "execution_count": 12,
   "metadata": {},
   "outputs": [
    {
     "data": {
      "text/plain": [
       "0"
      ]
     },
     "execution_count": 12,
     "metadata": {},
     "output_type": "execute_result"
    }
   ],
   "source": [
    "(train.isnull().sum()).sum()"
   ]
  },
  {
   "cell_type": "code",
   "execution_count": 25,
   "metadata": {},
   "outputs": [
    {
     "data": {
      "text/plain": [
       "0"
      ]
     },
     "execution_count": 25,
     "metadata": {},
     "output_type": "execute_result"
    }
   ],
   "source": [
    "(test.isna().sum()).sum()"
   ]
  },
  {
   "cell_type": "code",
   "execution_count": 26,
   "metadata": {},
   "outputs": [
    {
     "data": {
      "text/plain": [
       "0"
      ]
     },
     "execution_count": 26,
     "metadata": {},
     "output_type": "execute_result"
    }
   ],
   "source": [
    "(test.isnull().sum()).sum()"
   ]
  },
  {
   "cell_type": "code",
   "execution_count": 3,
   "metadata": {},
   "outputs": [],
   "source": [
    "train.LABEL.replace((2, 1), (1, 0), inplace=True)"
   ]
  },
  {
   "cell_type": "code",
   "execution_count": 4,
   "metadata": {},
   "outputs": [],
   "source": [
    "test.LABEL.replace((2, 1), (1, 0), inplace=True)"
   ]
  },
  {
   "cell_type": "code",
   "execution_count": 7,
   "metadata": {},
   "outputs": [
    {
     "data": {
      "text/html": [
       "<div>\n",
       "<style scoped>\n",
       "    .dataframe tbody tr th:only-of-type {\n",
       "        vertical-align: middle;\n",
       "    }\n",
       "\n",
       "    .dataframe tbody tr th {\n",
       "        vertical-align: top;\n",
       "    }\n",
       "\n",
       "    .dataframe thead th {\n",
       "        text-align: right;\n",
       "    }\n",
       "</style>\n",
       "<table border=\"1\" class=\"dataframe\">\n",
       "  <thead>\n",
       "    <tr style=\"text-align: right;\">\n",
       "      <th></th>\n",
       "      <th>LABEL</th>\n",
       "      <th>FLUX.1</th>\n",
       "      <th>FLUX.2</th>\n",
       "      <th>FLUX.3</th>\n",
       "      <th>FLUX.4</th>\n",
       "      <th>FLUX.5</th>\n",
       "      <th>FLUX.6</th>\n",
       "      <th>FLUX.7</th>\n",
       "      <th>FLUX.8</th>\n",
       "      <th>FLUX.9</th>\n",
       "      <th>...</th>\n",
       "      <th>FLUX.3188</th>\n",
       "      <th>FLUX.3189</th>\n",
       "      <th>FLUX.3190</th>\n",
       "      <th>FLUX.3191</th>\n",
       "      <th>FLUX.3192</th>\n",
       "      <th>FLUX.3193</th>\n",
       "      <th>FLUX.3194</th>\n",
       "      <th>FLUX.3195</th>\n",
       "      <th>FLUX.3196</th>\n",
       "      <th>FLUX.3197</th>\n",
       "    </tr>\n",
       "  </thead>\n",
       "  <tbody>\n",
       "    <tr>\n",
       "      <th>0</th>\n",
       "      <td>1</td>\n",
       "      <td>93.85</td>\n",
       "      <td>83.81</td>\n",
       "      <td>20.10</td>\n",
       "      <td>-26.98</td>\n",
       "      <td>-39.56</td>\n",
       "      <td>-124.71</td>\n",
       "      <td>-135.18</td>\n",
       "      <td>-96.27</td>\n",
       "      <td>-79.89</td>\n",
       "      <td>...</td>\n",
       "      <td>-78.07</td>\n",
       "      <td>-102.15</td>\n",
       "      <td>-102.15</td>\n",
       "      <td>25.13</td>\n",
       "      <td>48.57</td>\n",
       "      <td>92.54</td>\n",
       "      <td>39.32</td>\n",
       "      <td>61.42</td>\n",
       "      <td>5.08</td>\n",
       "      <td>-39.54</td>\n",
       "    </tr>\n",
       "    <tr>\n",
       "      <th>1</th>\n",
       "      <td>1</td>\n",
       "      <td>-38.88</td>\n",
       "      <td>-33.83</td>\n",
       "      <td>-58.54</td>\n",
       "      <td>-40.09</td>\n",
       "      <td>-79.31</td>\n",
       "      <td>-72.81</td>\n",
       "      <td>-86.55</td>\n",
       "      <td>-85.33</td>\n",
       "      <td>-83.97</td>\n",
       "      <td>...</td>\n",
       "      <td>-3.28</td>\n",
       "      <td>-32.21</td>\n",
       "      <td>-32.21</td>\n",
       "      <td>-24.89</td>\n",
       "      <td>-4.86</td>\n",
       "      <td>0.76</td>\n",
       "      <td>-11.70</td>\n",
       "      <td>6.46</td>\n",
       "      <td>16.00</td>\n",
       "      <td>19.93</td>\n",
       "    </tr>\n",
       "    <tr>\n",
       "      <th>2</th>\n",
       "      <td>1</td>\n",
       "      <td>532.64</td>\n",
       "      <td>535.92</td>\n",
       "      <td>513.73</td>\n",
       "      <td>496.92</td>\n",
       "      <td>456.45</td>\n",
       "      <td>466.00</td>\n",
       "      <td>464.50</td>\n",
       "      <td>486.39</td>\n",
       "      <td>436.56</td>\n",
       "      <td>...</td>\n",
       "      <td>-71.69</td>\n",
       "      <td>13.31</td>\n",
       "      <td>13.31</td>\n",
       "      <td>-29.89</td>\n",
       "      <td>-20.88</td>\n",
       "      <td>5.06</td>\n",
       "      <td>-11.80</td>\n",
       "      <td>-28.91</td>\n",
       "      <td>-70.02</td>\n",
       "      <td>-96.67</td>\n",
       "    </tr>\n",
       "    <tr>\n",
       "      <th>3</th>\n",
       "      <td>1</td>\n",
       "      <td>326.52</td>\n",
       "      <td>347.39</td>\n",
       "      <td>302.35</td>\n",
       "      <td>298.13</td>\n",
       "      <td>317.74</td>\n",
       "      <td>312.70</td>\n",
       "      <td>322.33</td>\n",
       "      <td>311.31</td>\n",
       "      <td>312.42</td>\n",
       "      <td>...</td>\n",
       "      <td>5.71</td>\n",
       "      <td>-3.73</td>\n",
       "      <td>-3.73</td>\n",
       "      <td>30.05</td>\n",
       "      <td>20.03</td>\n",
       "      <td>-12.67</td>\n",
       "      <td>-8.77</td>\n",
       "      <td>-17.31</td>\n",
       "      <td>-17.35</td>\n",
       "      <td>13.98</td>\n",
       "    </tr>\n",
       "    <tr>\n",
       "      <th>4</th>\n",
       "      <td>1</td>\n",
       "      <td>-1107.21</td>\n",
       "      <td>-1112.59</td>\n",
       "      <td>-1118.95</td>\n",
       "      <td>-1095.10</td>\n",
       "      <td>-1057.55</td>\n",
       "      <td>-1034.48</td>\n",
       "      <td>-998.34</td>\n",
       "      <td>-1022.71</td>\n",
       "      <td>-989.57</td>\n",
       "      <td>...</td>\n",
       "      <td>-594.37</td>\n",
       "      <td>-401.66</td>\n",
       "      <td>-401.66</td>\n",
       "      <td>-357.24</td>\n",
       "      <td>-443.76</td>\n",
       "      <td>-438.54</td>\n",
       "      <td>-399.71</td>\n",
       "      <td>-384.65</td>\n",
       "      <td>-411.79</td>\n",
       "      <td>-510.54</td>\n",
       "    </tr>\n",
       "  </tbody>\n",
       "</table>\n",
       "<p>5 rows × 3198 columns</p>\n",
       "</div>"
      ],
      "text/plain": [
       "   LABEL   FLUX.1   FLUX.2   FLUX.3   FLUX.4   FLUX.5   FLUX.6  FLUX.7  \\\n",
       "0      1    93.85    83.81    20.10   -26.98   -39.56  -124.71 -135.18   \n",
       "1      1   -38.88   -33.83   -58.54   -40.09   -79.31   -72.81  -86.55   \n",
       "2      1   532.64   535.92   513.73   496.92   456.45   466.00  464.50   \n",
       "3      1   326.52   347.39   302.35   298.13   317.74   312.70  322.33   \n",
       "4      1 -1107.21 -1112.59 -1118.95 -1095.10 -1057.55 -1034.48 -998.34   \n",
       "\n",
       "    FLUX.8  FLUX.9    ...      FLUX.3188  FLUX.3189  FLUX.3190  FLUX.3191  \\\n",
       "0   -96.27  -79.89    ...         -78.07    -102.15    -102.15      25.13   \n",
       "1   -85.33  -83.97    ...          -3.28     -32.21     -32.21     -24.89   \n",
       "2   486.39  436.56    ...         -71.69      13.31      13.31     -29.89   \n",
       "3   311.31  312.42    ...           5.71      -3.73      -3.73      30.05   \n",
       "4 -1022.71 -989.57    ...        -594.37    -401.66    -401.66    -357.24   \n",
       "\n",
       "   FLUX.3192  FLUX.3193  FLUX.3194  FLUX.3195  FLUX.3196  FLUX.3197  \n",
       "0      48.57      92.54      39.32      61.42       5.08     -39.54  \n",
       "1      -4.86       0.76     -11.70       6.46      16.00      19.93  \n",
       "2     -20.88       5.06     -11.80     -28.91     -70.02     -96.67  \n",
       "3      20.03     -12.67      -8.77     -17.31     -17.35      13.98  \n",
       "4    -443.76    -438.54    -399.71    -384.65    -411.79    -510.54  \n",
       "\n",
       "[5 rows x 3198 columns]"
      ]
     },
     "execution_count": 7,
     "metadata": {},
     "output_type": "execute_result"
    }
   ],
   "source": [
    "train.head()"
   ]
  },
  {
   "cell_type": "code",
   "execution_count": 8,
   "metadata": {},
   "outputs": [
    {
     "data": {
      "text/html": [
       "<div>\n",
       "<style scoped>\n",
       "    .dataframe tbody tr th:only-of-type {\n",
       "        vertical-align: middle;\n",
       "    }\n",
       "\n",
       "    .dataframe tbody tr th {\n",
       "        vertical-align: top;\n",
       "    }\n",
       "\n",
       "    .dataframe thead th {\n",
       "        text-align: right;\n",
       "    }\n",
       "</style>\n",
       "<table border=\"1\" class=\"dataframe\">\n",
       "  <thead>\n",
       "    <tr style=\"text-align: right;\">\n",
       "      <th></th>\n",
       "      <th>LABEL</th>\n",
       "      <th>FLUX.1</th>\n",
       "      <th>FLUX.2</th>\n",
       "      <th>FLUX.3</th>\n",
       "      <th>FLUX.4</th>\n",
       "      <th>FLUX.5</th>\n",
       "      <th>FLUX.6</th>\n",
       "      <th>FLUX.7</th>\n",
       "      <th>FLUX.8</th>\n",
       "      <th>FLUX.9</th>\n",
       "      <th>...</th>\n",
       "      <th>FLUX.3188</th>\n",
       "      <th>FLUX.3189</th>\n",
       "      <th>FLUX.3190</th>\n",
       "      <th>FLUX.3191</th>\n",
       "      <th>FLUX.3192</th>\n",
       "      <th>FLUX.3193</th>\n",
       "      <th>FLUX.3194</th>\n",
       "      <th>FLUX.3195</th>\n",
       "      <th>FLUX.3196</th>\n",
       "      <th>FLUX.3197</th>\n",
       "    </tr>\n",
       "  </thead>\n",
       "  <tbody>\n",
       "    <tr>\n",
       "      <th>0</th>\n",
       "      <td>1</td>\n",
       "      <td>119.88</td>\n",
       "      <td>100.21</td>\n",
       "      <td>86.46</td>\n",
       "      <td>48.68</td>\n",
       "      <td>46.12</td>\n",
       "      <td>39.39</td>\n",
       "      <td>18.57</td>\n",
       "      <td>6.98</td>\n",
       "      <td>6.63</td>\n",
       "      <td>...</td>\n",
       "      <td>14.52</td>\n",
       "      <td>19.29</td>\n",
       "      <td>14.44</td>\n",
       "      <td>-1.62</td>\n",
       "      <td>13.33</td>\n",
       "      <td>45.50</td>\n",
       "      <td>31.93</td>\n",
       "      <td>35.78</td>\n",
       "      <td>269.43</td>\n",
       "      <td>57.72</td>\n",
       "    </tr>\n",
       "    <tr>\n",
       "      <th>1</th>\n",
       "      <td>1</td>\n",
       "      <td>5736.59</td>\n",
       "      <td>5699.98</td>\n",
       "      <td>5717.16</td>\n",
       "      <td>5692.73</td>\n",
       "      <td>5663.83</td>\n",
       "      <td>5631.16</td>\n",
       "      <td>5626.39</td>\n",
       "      <td>5569.47</td>\n",
       "      <td>5550.44</td>\n",
       "      <td>...</td>\n",
       "      <td>-581.91</td>\n",
       "      <td>-984.09</td>\n",
       "      <td>-1230.89</td>\n",
       "      <td>-1600.45</td>\n",
       "      <td>-1824.53</td>\n",
       "      <td>-2061.17</td>\n",
       "      <td>-2265.98</td>\n",
       "      <td>-2366.19</td>\n",
       "      <td>-2294.86</td>\n",
       "      <td>-2034.72</td>\n",
       "    </tr>\n",
       "    <tr>\n",
       "      <th>2</th>\n",
       "      <td>1</td>\n",
       "      <td>844.48</td>\n",
       "      <td>817.49</td>\n",
       "      <td>770.07</td>\n",
       "      <td>675.01</td>\n",
       "      <td>605.52</td>\n",
       "      <td>499.45</td>\n",
       "      <td>440.77</td>\n",
       "      <td>362.95</td>\n",
       "      <td>207.27</td>\n",
       "      <td>...</td>\n",
       "      <td>17.82</td>\n",
       "      <td>-51.66</td>\n",
       "      <td>-48.29</td>\n",
       "      <td>-59.99</td>\n",
       "      <td>-82.10</td>\n",
       "      <td>-174.54</td>\n",
       "      <td>-95.23</td>\n",
       "      <td>-162.68</td>\n",
       "      <td>-36.79</td>\n",
       "      <td>30.63</td>\n",
       "    </tr>\n",
       "    <tr>\n",
       "      <th>3</th>\n",
       "      <td>1</td>\n",
       "      <td>-826.00</td>\n",
       "      <td>-827.31</td>\n",
       "      <td>-846.12</td>\n",
       "      <td>-836.03</td>\n",
       "      <td>-745.50</td>\n",
       "      <td>-784.69</td>\n",
       "      <td>-791.22</td>\n",
       "      <td>-746.50</td>\n",
       "      <td>-709.53</td>\n",
       "      <td>...</td>\n",
       "      <td>122.34</td>\n",
       "      <td>93.03</td>\n",
       "      <td>93.03</td>\n",
       "      <td>68.81</td>\n",
       "      <td>9.81</td>\n",
       "      <td>20.75</td>\n",
       "      <td>20.25</td>\n",
       "      <td>-120.81</td>\n",
       "      <td>-257.56</td>\n",
       "      <td>-215.41</td>\n",
       "    </tr>\n",
       "    <tr>\n",
       "      <th>4</th>\n",
       "      <td>1</td>\n",
       "      <td>-39.57</td>\n",
       "      <td>-15.88</td>\n",
       "      <td>-9.16</td>\n",
       "      <td>-6.37</td>\n",
       "      <td>-16.13</td>\n",
       "      <td>-24.05</td>\n",
       "      <td>-0.90</td>\n",
       "      <td>-45.20</td>\n",
       "      <td>-5.04</td>\n",
       "      <td>...</td>\n",
       "      <td>-37.87</td>\n",
       "      <td>-61.85</td>\n",
       "      <td>-27.15</td>\n",
       "      <td>-21.18</td>\n",
       "      <td>-33.76</td>\n",
       "      <td>-85.34</td>\n",
       "      <td>-81.46</td>\n",
       "      <td>-61.98</td>\n",
       "      <td>-69.34</td>\n",
       "      <td>-17.84</td>\n",
       "    </tr>\n",
       "  </tbody>\n",
       "</table>\n",
       "<p>5 rows × 3198 columns</p>\n",
       "</div>"
      ],
      "text/plain": [
       "   LABEL   FLUX.1   FLUX.2   FLUX.3   FLUX.4   FLUX.5   FLUX.6   FLUX.7  \\\n",
       "0      1   119.88   100.21    86.46    48.68    46.12    39.39    18.57   \n",
       "1      1  5736.59  5699.98  5717.16  5692.73  5663.83  5631.16  5626.39   \n",
       "2      1   844.48   817.49   770.07   675.01   605.52   499.45   440.77   \n",
       "3      1  -826.00  -827.31  -846.12  -836.03  -745.50  -784.69  -791.22   \n",
       "4      1   -39.57   -15.88    -9.16    -6.37   -16.13   -24.05    -0.90   \n",
       "\n",
       "    FLUX.8   FLUX.9    ...      FLUX.3188  FLUX.3189  FLUX.3190  FLUX.3191  \\\n",
       "0     6.98     6.63    ...          14.52      19.29      14.44      -1.62   \n",
       "1  5569.47  5550.44    ...        -581.91    -984.09   -1230.89   -1600.45   \n",
       "2   362.95   207.27    ...          17.82     -51.66     -48.29     -59.99   \n",
       "3  -746.50  -709.53    ...         122.34      93.03      93.03      68.81   \n",
       "4   -45.20    -5.04    ...         -37.87     -61.85     -27.15     -21.18   \n",
       "\n",
       "   FLUX.3192  FLUX.3193  FLUX.3194  FLUX.3195  FLUX.3196  FLUX.3197  \n",
       "0      13.33      45.50      31.93      35.78     269.43      57.72  \n",
       "1   -1824.53   -2061.17   -2265.98   -2366.19   -2294.86   -2034.72  \n",
       "2     -82.10    -174.54     -95.23    -162.68     -36.79      30.63  \n",
       "3       9.81      20.75      20.25    -120.81    -257.56    -215.41  \n",
       "4     -33.76     -85.34     -81.46     -61.98     -69.34     -17.84  \n",
       "\n",
       "[5 rows x 3198 columns]"
      ]
     },
     "execution_count": 8,
     "metadata": {},
     "output_type": "execute_result"
    }
   ],
   "source": [
    "test.head()"
   ]
  },
  {
   "cell_type": "code",
   "execution_count": 47,
   "metadata": {},
   "outputs": [
    {
     "data": {
      "text/plain": [
       "<matplotlib.axes._subplots.AxesSubplot at 0xe13c5f8>"
      ]
     },
     "execution_count": 47,
     "metadata": {},
     "output_type": "execute_result"
    },
    {
     "data": {
      "image/png": "[encoded data removed]",
      "text/plain": [
       "<Figure size 432x288 with 1 Axes>"
      ]
     },
     "metadata": {
      "needs_background": "light"
     },
     "output_type": "display_data"
    }
   ],
   "source": [
    "sns.countplot(x='LABEL',data=train, palette='hls')"
   ]
  },
  {
   "cell_type": "code",
   "execution_count": 48,
   "metadata": {},
   "outputs": [
    {
     "data": {
      "text/plain": [
       "<matplotlib.axes._subplots.AxesSubplot at 0x180eff60>"
      ]
     },
     "execution_count": 48,
     "metadata": {},
     "output_type": "execute_result"
    },
    {
     "data": {
      "image/png": "[encoded data removed]",
      "text/plain": [
       "<Figure size 432x288 with 1 Axes>"
      ]
     },
     "metadata": {
      "needs_background": "light"
     },
     "output_type": "display_data"
    }
   ],
   "source": [
    "sns.countplot(x='LABEL',data=test, palette='hls')"
   ]
  },
  {
   "cell_type": "code",
   "execution_count": 5,
   "metadata": {},
   "outputs": [],
   "source": [
    "means = train.mean(axis=1)\n",
    "train['mean'] = means"
   ]
  },
  {
   "cell_type": "code",
   "execution_count": 6,
   "metadata": {},
   "outputs": [],
   "source": [
    "std = train.iloc[:, 1:3198].std(axis=1)\n",
    "train['std'] = std"
   ]
  },
  {
   "cell_type": "code",
   "execution_count": 7,
   "metadata": {},
   "outputs": [],
   "source": [
    "std = test.iloc[:, 1:3198].std(axis=1)\n",
    "test['std'] = std"
   ]
  },
  {
   "cell_type": "code",
   "execution_count": 23,
   "metadata": {},
   "outputs": [
    {
     "data": {
      "text/html": [
       "<div>\n",
       "<style scoped>\n",
       "    .dataframe tbody tr th:only-of-type {\n",
       "        vertical-align: middle;\n",
       "    }\n",
       "\n",
       "    .dataframe tbody tr th {\n",
       "        vertical-align: top;\n",
       "    }\n",
       "\n",
       "    .dataframe thead th {\n",
       "        text-align: right;\n",
       "    }\n",
       "</style>\n",
       "<table border=\"1\" class=\"dataframe\">\n",
       "  <thead>\n",
       "    <tr style=\"text-align: right;\">\n",
       "      <th></th>\n",
       "      <th>LABEL</th>\n",
       "      <th>FLUX.1</th>\n",
       "      <th>FLUX.2</th>\n",
       "      <th>FLUX.3</th>\n",
       "      <th>FLUX.4</th>\n",
       "      <th>FLUX.5</th>\n",
       "      <th>FLUX.6</th>\n",
       "      <th>FLUX.7</th>\n",
       "      <th>FLUX.8</th>\n",
       "      <th>FLUX.9</th>\n",
       "      <th>...</th>\n",
       "      <th>FLUX.3188</th>\n",
       "      <th>FLUX.3189</th>\n",
       "      <th>FLUX.3190</th>\n",
       "      <th>FLUX.3191</th>\n",
       "      <th>FLUX.3192</th>\n",
       "      <th>FLUX.3193</th>\n",
       "      <th>FLUX.3194</th>\n",
       "      <th>FLUX.3195</th>\n",
       "      <th>FLUX.3196</th>\n",
       "      <th>FLUX.3197</th>\n",
       "    </tr>\n",
       "  </thead>\n",
       "  <tbody>\n",
       "    <tr>\n",
       "      <th>0</th>\n",
       "      <td>1</td>\n",
       "      <td>93.85</td>\n",
       "      <td>83.81</td>\n",
       "      <td>20.10</td>\n",
       "      <td>-26.98</td>\n",
       "      <td>-39.56</td>\n",
       "      <td>-124.71</td>\n",
       "      <td>-135.18</td>\n",
       "      <td>-96.27</td>\n",
       "      <td>-79.89</td>\n",
       "      <td>...</td>\n",
       "      <td>-78.07</td>\n",
       "      <td>-102.15</td>\n",
       "      <td>-102.15</td>\n",
       "      <td>25.13</td>\n",
       "      <td>48.57</td>\n",
       "      <td>92.54</td>\n",
       "      <td>39.32</td>\n",
       "      <td>61.42</td>\n",
       "      <td>5.08</td>\n",
       "      <td>-39.54</td>\n",
       "    </tr>\n",
       "    <tr>\n",
       "      <th>1</th>\n",
       "      <td>1</td>\n",
       "      <td>-38.88</td>\n",
       "      <td>-33.83</td>\n",
       "      <td>-58.54</td>\n",
       "      <td>-40.09</td>\n",
       "      <td>-79.31</td>\n",
       "      <td>-72.81</td>\n",
       "      <td>-86.55</td>\n",
       "      <td>-85.33</td>\n",
       "      <td>-83.97</td>\n",
       "      <td>...</td>\n",
       "      <td>-3.28</td>\n",
       "      <td>-32.21</td>\n",
       "      <td>-32.21</td>\n",
       "      <td>-24.89</td>\n",
       "      <td>-4.86</td>\n",
       "      <td>0.76</td>\n",
       "      <td>-11.70</td>\n",
       "      <td>6.46</td>\n",
       "      <td>16.00</td>\n",
       "      <td>19.93</td>\n",
       "    </tr>\n",
       "    <tr>\n",
       "      <th>2</th>\n",
       "      <td>1</td>\n",
       "      <td>532.64</td>\n",
       "      <td>535.92</td>\n",
       "      <td>513.73</td>\n",
       "      <td>496.92</td>\n",
       "      <td>456.45</td>\n",
       "      <td>466.00</td>\n",
       "      <td>464.50</td>\n",
       "      <td>486.39</td>\n",
       "      <td>436.56</td>\n",
       "      <td>...</td>\n",
       "      <td>-71.69</td>\n",
       "      <td>13.31</td>\n",
       "      <td>13.31</td>\n",
       "      <td>-29.89</td>\n",
       "      <td>-20.88</td>\n",
       "      <td>5.06</td>\n",
       "      <td>-11.80</td>\n",
       "      <td>-28.91</td>\n",
       "      <td>-70.02</td>\n",
       "      <td>-96.67</td>\n",
       "    </tr>\n",
       "    <tr>\n",
       "      <th>3</th>\n",
       "      <td>1</td>\n",
       "      <td>326.52</td>\n",
       "      <td>347.39</td>\n",
       "      <td>302.35</td>\n",
       "      <td>298.13</td>\n",
       "      <td>317.74</td>\n",
       "      <td>312.70</td>\n",
       "      <td>322.33</td>\n",
       "      <td>311.31</td>\n",
       "      <td>312.42</td>\n",
       "      <td>...</td>\n",
       "      <td>5.71</td>\n",
       "      <td>-3.73</td>\n",
       "      <td>-3.73</td>\n",
       "      <td>30.05</td>\n",
       "      <td>20.03</td>\n",
       "      <td>-12.67</td>\n",
       "      <td>-8.77</td>\n",
       "      <td>-17.31</td>\n",
       "      <td>-17.35</td>\n",
       "      <td>13.98</td>\n",
       "    </tr>\n",
       "    <tr>\n",
       "      <th>4</th>\n",
       "      <td>1</td>\n",
       "      <td>-1107.21</td>\n",
       "      <td>-1112.59</td>\n",
       "      <td>-1118.95</td>\n",
       "      <td>-1095.10</td>\n",
       "      <td>-1057.55</td>\n",
       "      <td>-1034.48</td>\n",
       "      <td>-998.34</td>\n",
       "      <td>-1022.71</td>\n",
       "      <td>-989.57</td>\n",
       "      <td>...</td>\n",
       "      <td>-594.37</td>\n",
       "      <td>-401.66</td>\n",
       "      <td>-401.66</td>\n",
       "      <td>-357.24</td>\n",
       "      <td>-443.76</td>\n",
       "      <td>-438.54</td>\n",
       "      <td>-399.71</td>\n",
       "      <td>-384.65</td>\n",
       "      <td>-411.79</td>\n",
       "      <td>-510.54</td>\n",
       "    </tr>\n",
       "  </tbody>\n",
       "</table>\n",
       "<p>5 rows × 3198 columns</p>\n",
       "</div>"
      ],
      "text/plain": [
       "   LABEL   FLUX.1   FLUX.2   FLUX.3   FLUX.4   FLUX.5   FLUX.6  FLUX.7  \\\n",
       "0      1    93.85    83.81    20.10   -26.98   -39.56  -124.71 -135.18   \n",
       "1      1   -38.88   -33.83   -58.54   -40.09   -79.31   -72.81  -86.55   \n",
       "2      1   532.64   535.92   513.73   496.92   456.45   466.00  464.50   \n",
       "3      1   326.52   347.39   302.35   298.13   317.74   312.70  322.33   \n",
       "4      1 -1107.21 -1112.59 -1118.95 -1095.10 -1057.55 -1034.48 -998.34   \n",
       "\n",
       "    FLUX.8  FLUX.9    ...      FLUX.3188  FLUX.3189  FLUX.3190  FLUX.3191  \\\n",
       "0   -96.27  -79.89    ...         -78.07    -102.15    -102.15      25.13   \n",
       "1   -85.33  -83.97    ...          -3.28     -32.21     -32.21     -24.89   \n",
       "2   486.39  436.56    ...         -71.69      13.31      13.31     -29.89   \n",
       "3   311.31  312.42    ...           5.71      -3.73      -3.73      30.05   \n",
       "4 -1022.71 -989.57    ...        -594.37    -401.66    -401.66    -357.24   \n",
       "\n",
       "   FLUX.3192  FLUX.3193  FLUX.3194  FLUX.3195  FLUX.3196  FLUX.3197  \n",
       "0      48.57      92.54      39.32      61.42       5.08     -39.54  \n",
       "1      -4.86       0.76     -11.70       6.46      16.00      19.93  \n",
       "2     -20.88       5.06     -11.80     -28.91     -70.02     -96.67  \n",
       "3      20.03     -12.67      -8.77     -17.31     -17.35      13.98  \n",
       "4    -443.76    -438.54    -399.71    -384.65    -411.79    -510.54  \n",
       "\n",
       "[5 rows x 3198 columns]"
      ]
     },
     "execution_count": 23,
     "metadata": {},
     "output_type": "execute_result"
    }
   ],
   "source": [
    "train.head()"
   ]
  },
  {
   "cell_type": "code",
   "execution_count": 40,
   "metadata": {},
   "outputs": [
    {
     "data": {
      "text/html": [
       "<div>\n",
       "<style scoped>\n",
       "    .dataframe tbody tr th:only-of-type {\n",
       "        vertical-align: middle;\n",
       "    }\n",
       "\n",
       "    .dataframe tbody tr th {\n",
       "        vertical-align: top;\n",
       "    }\n",
       "\n",
       "    .dataframe thead th {\n",
       "        text-align: right;\n",
       "    }\n",
       "</style>\n",
       "<table border=\"1\" class=\"dataframe\">\n",
       "  <thead>\n",
       "    <tr style=\"text-align: right;\">\n",
       "      <th></th>\n",
       "      <th>LABEL</th>\n",
       "      <th>FLUX.1</th>\n",
       "      <th>FLUX.2</th>\n",
       "      <th>FLUX.3</th>\n",
       "      <th>FLUX.4</th>\n",
       "      <th>FLUX.5</th>\n",
       "      <th>FLUX.6</th>\n",
       "      <th>FLUX.7</th>\n",
       "      <th>FLUX.8</th>\n",
       "      <th>FLUX.9</th>\n",
       "      <th>...</th>\n",
       "      <th>FLUX.3189</th>\n",
       "      <th>FLUX.3190</th>\n",
       "      <th>FLUX.3191</th>\n",
       "      <th>FLUX.3192</th>\n",
       "      <th>FLUX.3193</th>\n",
       "      <th>FLUX.3194</th>\n",
       "      <th>FLUX.3195</th>\n",
       "      <th>FLUX.3196</th>\n",
       "      <th>FLUX.3197</th>\n",
       "      <th>std</th>\n",
       "    </tr>\n",
       "  </thead>\n",
       "  <tbody>\n",
       "    <tr>\n",
       "      <th>0</th>\n",
       "      <td>1</td>\n",
       "      <td>119.88</td>\n",
       "      <td>100.21</td>\n",
       "      <td>86.46</td>\n",
       "      <td>48.68</td>\n",
       "      <td>46.12</td>\n",
       "      <td>39.39</td>\n",
       "      <td>18.57</td>\n",
       "      <td>6.98</td>\n",
       "      <td>6.63</td>\n",
       "      <td>...</td>\n",
       "      <td>19.29</td>\n",
       "      <td>14.44</td>\n",
       "      <td>-1.62</td>\n",
       "      <td>13.33</td>\n",
       "      <td>45.50</td>\n",
       "      <td>31.93</td>\n",
       "      <td>35.78</td>\n",
       "      <td>269.43</td>\n",
       "      <td>57.72</td>\n",
       "      <td>29.816465</td>\n",
       "    </tr>\n",
       "    <tr>\n",
       "      <th>1</th>\n",
       "      <td>1</td>\n",
       "      <td>5736.59</td>\n",
       "      <td>5699.98</td>\n",
       "      <td>5717.16</td>\n",
       "      <td>5692.73</td>\n",
       "      <td>5663.83</td>\n",
       "      <td>5631.16</td>\n",
       "      <td>5626.39</td>\n",
       "      <td>5569.47</td>\n",
       "      <td>5550.44</td>\n",
       "      <td>...</td>\n",
       "      <td>-984.09</td>\n",
       "      <td>-1230.89</td>\n",
       "      <td>-1600.45</td>\n",
       "      <td>-1824.53</td>\n",
       "      <td>-2061.17</td>\n",
       "      <td>-2265.98</td>\n",
       "      <td>-2366.19</td>\n",
       "      <td>-2294.86</td>\n",
       "      <td>-2034.72</td>\n",
       "      <td>1645.019108</td>\n",
       "    </tr>\n",
       "    <tr>\n",
       "      <th>2</th>\n",
       "      <td>1</td>\n",
       "      <td>844.48</td>\n",
       "      <td>817.49</td>\n",
       "      <td>770.07</td>\n",
       "      <td>675.01</td>\n",
       "      <td>605.52</td>\n",
       "      <td>499.45</td>\n",
       "      <td>440.77</td>\n",
       "      <td>362.95</td>\n",
       "      <td>207.27</td>\n",
       "      <td>...</td>\n",
       "      <td>-51.66</td>\n",
       "      <td>-48.29</td>\n",
       "      <td>-59.99</td>\n",
       "      <td>-82.10</td>\n",
       "      <td>-174.54</td>\n",
       "      <td>-95.23</td>\n",
       "      <td>-162.68</td>\n",
       "      <td>-36.79</td>\n",
       "      <td>30.63</td>\n",
       "      <td>117.076869</td>\n",
       "    </tr>\n",
       "    <tr>\n",
       "      <th>3</th>\n",
       "      <td>1</td>\n",
       "      <td>-826.00</td>\n",
       "      <td>-827.31</td>\n",
       "      <td>-846.12</td>\n",
       "      <td>-836.03</td>\n",
       "      <td>-745.50</td>\n",
       "      <td>-784.69</td>\n",
       "      <td>-791.22</td>\n",
       "      <td>-746.50</td>\n",
       "      <td>-709.53</td>\n",
       "      <td>...</td>\n",
       "      <td>93.03</td>\n",
       "      <td>93.03</td>\n",
       "      <td>68.81</td>\n",
       "      <td>9.81</td>\n",
       "      <td>20.75</td>\n",
       "      <td>20.25</td>\n",
       "      <td>-120.81</td>\n",
       "      <td>-257.56</td>\n",
       "      <td>-215.41</td>\n",
       "      <td>394.506774</td>\n",
       "    </tr>\n",
       "    <tr>\n",
       "      <th>4</th>\n",
       "      <td>1</td>\n",
       "      <td>-39.57</td>\n",
       "      <td>-15.88</td>\n",
       "      <td>-9.16</td>\n",
       "      <td>-6.37</td>\n",
       "      <td>-16.13</td>\n",
       "      <td>-24.05</td>\n",
       "      <td>-0.90</td>\n",
       "      <td>-45.20</td>\n",
       "      <td>-5.04</td>\n",
       "      <td>...</td>\n",
       "      <td>-61.85</td>\n",
       "      <td>-27.15</td>\n",
       "      <td>-21.18</td>\n",
       "      <td>-33.76</td>\n",
       "      <td>-85.34</td>\n",
       "      <td>-81.46</td>\n",
       "      <td>-61.98</td>\n",
       "      <td>-69.34</td>\n",
       "      <td>-17.84</td>\n",
       "      <td>177.043008</td>\n",
       "    </tr>\n",
       "  </tbody>\n",
       "</table>\n",
       "<p>5 rows × 3199 columns</p>\n",
       "</div>"
      ],
      "text/plain": [
       "   LABEL   FLUX.1   FLUX.2   FLUX.3   FLUX.4   FLUX.5   FLUX.6   FLUX.7  \\\n",
       "0      1   119.88   100.21    86.46    48.68    46.12    39.39    18.57   \n",
       "1      1  5736.59  5699.98  5717.16  5692.73  5663.83  5631.16  5626.39   \n",
       "2      1   844.48   817.49   770.07   675.01   605.52   499.45   440.77   \n",
       "3      1  -826.00  -827.31  -846.12  -836.03  -745.50  -784.69  -791.22   \n",
       "4      1   -39.57   -15.88    -9.16    -6.37   -16.13   -24.05    -0.90   \n",
       "\n",
       "    FLUX.8   FLUX.9     ...       FLUX.3189  FLUX.3190  FLUX.3191  FLUX.3192  \\\n",
       "0     6.98     6.63     ...           19.29      14.44      -1.62      13.33   \n",
       "1  5569.47  5550.44     ...         -984.09   -1230.89   -1600.45   -1824.53   \n",
       "2   362.95   207.27     ...          -51.66     -48.29     -59.99     -82.10   \n",
       "3  -746.50  -709.53     ...           93.03      93.03      68.81       9.81   \n",
       "4   -45.20    -5.04     ...          -61.85     -27.15     -21.18     -33.76   \n",
       "\n",
       "   FLUX.3193  FLUX.3194  FLUX.3195  FLUX.3196  FLUX.3197          std  \n",
       "0      45.50      31.93      35.78     269.43      57.72    29.816465  \n",
       "1   -2061.17   -2265.98   -2366.19   -2294.86   -2034.72  1645.019108  \n",
       "2    -174.54     -95.23    -162.68     -36.79      30.63   117.076869  \n",
       "3      20.75      20.25    -120.81    -257.56    -215.41   394.506774  \n",
       "4     -85.34     -81.46     -61.98     -69.34     -17.84   177.043008  \n",
       "\n",
       "[5 rows x 3199 columns]"
      ]
     },
     "execution_count": 40,
     "metadata": {},
     "output_type": "execute_result"
    }
   ],
   "source": [
    "test.head()"
   ]
  },
  {
   "cell_type": "code",
   "execution_count": 34,
   "metadata": {},
   "outputs": [
    {
     "data": {
      "text/plain": [
       "<matplotlib.axes._subplots.AxesSubplot at 0xbb71b38>"
      ]
     },
     "execution_count": 34,
     "metadata": {},
     "output_type": "execute_result"
    },
    {
     "data": {
      "image/png": "[encoded data removed]",
      "text/plain": [
       "<Figure size 432x288 with 1 Axes>"
      ]
     },
     "metadata": {
      "needs_background": "light"
     },
     "output_type": "display_data"
    }
   ],
   "source": [
    "train[\"mean\"].plot()"
   ]
  },
  {
   "cell_type": "code",
   "execution_count": 28,
   "metadata": {},
   "outputs": [
    {
     "name": "stdout",
     "output_type": "stream",
     "text": [
      "(5087, 3197)\n",
      "(5087L,)\n"
     ]
    }
   ],
   "source": [
    "test.shape\n",
    "#X_train = train.drop('LABEL',axis=1)\n",
    "y_train = train[\"LABEL\"]\n",
    "print(X_train.shape)\n",
    "print(y_train.shape)"
   ]
  },
  {
   "cell_type": "code",
   "execution_count": 29,
   "metadata": {},
   "outputs": [
    {
     "ename": "ValueError",
     "evalue": "x and y must be the same size",
     "output_type": "error",
     "traceback": [
      "\u001b[1;31m---------------------------------------------------------------------------\u001b[0m",
      "\u001b[1;31mValueError\u001b[0m                                Traceback (most recent call last)",
      "\u001b[1;32m<ipython-input-29-55f3790076b0>\u001b[0m in \u001b[0;36m<module>\u001b[1;34m()\u001b[0m\n\u001b[0;32m      3\u001b[0m \u001b[1;32mfor\u001b[0m \u001b[0mi\u001b[0m \u001b[1;32min\u001b[0m \u001b[0mrange\u001b[0m\u001b[1;33m(\u001b[0m\u001b[1;36m37\u001b[0m\u001b[1;33m)\u001b[0m\u001b[1;33m:\u001b[0m\u001b[1;33m\u001b[0m\u001b[0m\n\u001b[0;32m      4\u001b[0m     \u001b[0max\u001b[0m \u001b[1;33m=\u001b[0m \u001b[0mfig\u001b[0m\u001b[1;33m.\u001b[0m\u001b[0madd_subplot\u001b[0m\u001b[1;33m(\u001b[0m\u001b[1;36m13\u001b[0m\u001b[1;33m,\u001b[0m\u001b[1;36m3\u001b[0m\u001b[1;33m,\u001b[0m\u001b[0mi\u001b[0m\u001b[1;33m+\u001b[0m\u001b[1;36m1\u001b[0m\u001b[1;33m)\u001b[0m\u001b[1;33m\u001b[0m\u001b[0m\n\u001b[1;32m----> 5\u001b[1;33m     \u001b[0max\u001b[0m\u001b[1;33m.\u001b[0m\u001b[0mscatter\u001b[0m\u001b[1;33m(\u001b[0m\u001b[0mX_train\u001b[0m\u001b[1;33m,\u001b[0m\u001b[0mtrain\u001b[0m\u001b[1;33m[\u001b[0m\u001b[0mtrain\u001b[0m\u001b[1;33m.\u001b[0m\u001b[0mLABEL\u001b[0m\u001b[1;33m==\u001b[0m\u001b[1;36m1\u001b[0m\u001b[1;33m]\u001b[0m\u001b[1;33m.\u001b[0m\u001b[0miloc\u001b[0m\u001b[1;33m[\u001b[0m\u001b[0mi\u001b[0m\u001b[1;33m,\u001b[0m\u001b[1;33m:\u001b[0m\u001b[1;33m]\u001b[0m\u001b[1;33m)\u001b[0m\u001b[1;33m\u001b[0m\u001b[0m\n\u001b[0m",
      "\u001b[1;32mC:\\Users\\Admin\\Anaconda\\lib\\site-packages\\matplotlib\\__init__.pyc\u001b[0m in \u001b[0;36minner\u001b[1;34m(ax, *args, **kwargs)\u001b[0m\n\u001b[0;32m   1865\u001b[0m                         \u001b[1;34m\"the Matplotlib list!)\"\u001b[0m \u001b[1;33m%\u001b[0m \u001b[1;33m(\u001b[0m\u001b[0mlabel_namer\u001b[0m\u001b[1;33m,\u001b[0m \u001b[0mfunc\u001b[0m\u001b[1;33m.\u001b[0m\u001b[0m__name__\u001b[0m\u001b[1;33m)\u001b[0m\u001b[1;33m,\u001b[0m\u001b[1;33m\u001b[0m\u001b[0m\n\u001b[0;32m   1866\u001b[0m                         RuntimeWarning, stacklevel=2)\n\u001b[1;32m-> 1867\u001b[1;33m             \u001b[1;32mreturn\u001b[0m \u001b[0mfunc\u001b[0m\u001b[1;33m(\u001b[0m\u001b[0max\u001b[0m\u001b[1;33m,\u001b[0m \u001b[1;33m*\u001b[0m\u001b[0margs\u001b[0m\u001b[1;33m,\u001b[0m \u001b[1;33m**\u001b[0m\u001b[0mkwargs\u001b[0m\u001b[1;33m)\u001b[0m\u001b[1;33m\u001b[0m\u001b[0m\n\u001b[0m\u001b[0;32m   1868\u001b[0m \u001b[1;33m\u001b[0m\u001b[0m\n\u001b[0;32m   1869\u001b[0m         inner.__doc__ = _add_data_doc(inner.__doc__,\n",
      "\u001b[1;32mC:\\Users\\Admin\\Anaconda\\lib\\site-packages\\matplotlib\\axes\\_axes.pyc\u001b[0m in \u001b[0;36mscatter\u001b[1;34m(self, x, y, s, c, marker, cmap, norm, vmin, vmax, alpha, linewidths, verts, edgecolors, **kwargs)\u001b[0m\n\u001b[0;32m   4255\u001b[0m         \u001b[0my\u001b[0m \u001b[1;33m=\u001b[0m \u001b[0mnp\u001b[0m\u001b[1;33m.\u001b[0m\u001b[0mma\u001b[0m\u001b[1;33m.\u001b[0m\u001b[0mravel\u001b[0m\u001b[1;33m(\u001b[0m\u001b[0my\u001b[0m\u001b[1;33m)\u001b[0m\u001b[1;33m\u001b[0m\u001b[0m\n\u001b[0;32m   4256\u001b[0m         \u001b[1;32mif\u001b[0m \u001b[0mx\u001b[0m\u001b[1;33m.\u001b[0m\u001b[0msize\u001b[0m \u001b[1;33m!=\u001b[0m \u001b[0my\u001b[0m\u001b[1;33m.\u001b[0m\u001b[0msize\u001b[0m\u001b[1;33m:\u001b[0m\u001b[1;33m\u001b[0m\u001b[0m\n\u001b[1;32m-> 4257\u001b[1;33m             \u001b[1;32mraise\u001b[0m \u001b[0mValueError\u001b[0m\u001b[1;33m(\u001b[0m\u001b[1;34m\"x and y must be the same size\"\u001b[0m\u001b[1;33m)\u001b[0m\u001b[1;33m\u001b[0m\u001b[0m\n\u001b[0m\u001b[0;32m   4258\u001b[0m \u001b[1;33m\u001b[0m\u001b[0m\n\u001b[0;32m   4259\u001b[0m         \u001b[1;32mif\u001b[0m \u001b[0ms\u001b[0m \u001b[1;32mis\u001b[0m \u001b[0mNone\u001b[0m\u001b[1;33m:\u001b[0m\u001b[1;33m\u001b[0m\u001b[0m\n",
      "\u001b[1;31mValueError\u001b[0m: x and y must be the same size"
     ]
    },
    {
     "data": {
      "image/png": "[encoded data removed]",
      "text/plain": [
       "<Figure size 864x2880 with 1 Axes>"
      ]
     },
     "metadata": {
      "needs_background": "light"
     },
     "output_type": "display_data"
    }
   ],
   "source": [
    "fig = plt.figure(figsize=(12,40))\n",
    "x = np.array(range(3197))\n",
    "for i in range(37):\n",
    "    ax = fig.add_subplot(13,3,i+1)\n",
    "    ax.scatter(X_train,train[train.LABEL==1].iloc[i,:])"
   ]
  },
  {
   "cell_type": "markdown",
   "metadata": {},
   "source": [
    "## Regresion Logistica"
   ]
  },
  {
   "cell_type": "markdown",
   "metadata": {},
   "source": [
    "### Usando como predictor la desviación estándar"
   ]
  },
  {
   "cell_type": "code",
   "execution_count": 8,
   "metadata": {},
   "outputs": [],
   "source": [
    "X_train = train.iloc[:, 1:50]\n",
    "X_test = test.iloc[:, 1:50]\n",
    "#X_train = train[\"std\"]\n",
    "#X_test = test[\"std\"]\n",
    "y_train = train[\"LABEL\"]\n",
    "y_test = test[\"LABEL\"]"
   ]
  },
  {
   "cell_type": "code",
   "execution_count": 82,
   "metadata": {},
   "outputs": [
    {
     "data": {
      "text/plain": [
       "5087"
      ]
     },
     "execution_count": 82,
     "metadata": {},
     "output_type": "execute_result"
    }
   ],
   "source": [
    "len(X_train)"
   ]
  },
  {
   "cell_type": "code",
   "execution_count": 125,
   "metadata": {},
   "outputs": [
    {
     "name": "stdout",
     "output_type": "stream",
     "text": [
      "Optimization terminated successfully.\n",
      "         Current function value: 0.674387\n",
      "         Iterations 11\n"
     ]
    },
    {
     "data": {
      "text/html": [
       "<table class=\"simpletable\">\n",
       "<tr>\n",
       "        <td>Model:</td>              <td>Logit</td>      <td>Pseudo R-squared:</td>  <td>-14.662</td> \n",
       "</tr>\n",
       "<tr>\n",
       "  <td>Dependent Variable:</td>       <td>LABEL</td>            <td>AIC:</td>        <td>6959.2119</td>\n",
       "</tr>\n",
       "<tr>\n",
       "         <td>Date:</td>        <td>2019-04-23 09:21</td>       <td>BIC:</td>        <td>7279.3996</td>\n",
       "</tr>\n",
       "<tr>\n",
       "   <td>No. Observations:</td>        <td>5087</td>        <td>Log-Likelihood:</td>   <td>-3430.6</td> \n",
       "</tr>\n",
       "<tr>\n",
       "       <td>Df Model:</td>             <td>48</td>            <td>LL-Null:</td>       <td>-219.04</td> \n",
       "</tr>\n",
       "<tr>\n",
       "     <td>Df Residuals:</td>          <td>5038</td>         <td>LLR p-value:</td>     <td>1.0000</td>  \n",
       "</tr>\n",
       "<tr>\n",
       "      <td>Converged:</td>           <td>1.0000</td>           <td>Scale:</td>        <td>1.0000</td>  \n",
       "</tr>\n",
       "<tr>\n",
       "    <td>No. Iterations:</td>        <td>11.0000</td>             <td></td>              <td></td>     \n",
       "</tr>\n",
       "</table>\n",
       "<table class=\"simpletable\">\n",
       "<tr>\n",
       "     <td></td>      <th>Coef.</th>  <th>Std.Err.</th>    <th>z</th>     <th>P>|z|</th> <th>[0.025</th>  <th>0.975]</th> \n",
       "</tr>\n",
       "<tr>\n",
       "  <th>FLUX.1</th>  <td>-0.0022</td>  <td>0.0004</td>  <td>-5.3361</td> <td>0.0000</td> <td>-0.0031</td> <td>-0.0014</td>\n",
       "</tr>\n",
       "<tr>\n",
       "  <th>FLUX.2</th>  <td>0.0030</td>   <td>0.0005</td>  <td>5.5919</td>  <td>0.0000</td> <td>0.0019</td>  <td>0.0040</td> \n",
       "</tr>\n",
       "<tr>\n",
       "  <th>FLUX.3</th>  <td>-0.0012</td>  <td>0.0005</td>  <td>-2.2883</td> <td>0.0221</td> <td>-0.0022</td> <td>-0.0002</td>\n",
       "</tr>\n",
       "<tr>\n",
       "  <th>FLUX.4</th>  <td>0.0014</td>   <td>0.0007</td>  <td>2.1444</td>  <td>0.0320</td> <td>0.0001</td>  <td>0.0027</td> \n",
       "</tr>\n",
       "<tr>\n",
       "  <th>FLUX.5</th>  <td>-0.0013</td>  <td>0.0006</td>  <td>-2.0028</td> <td>0.0452</td> <td>-0.0025</td> <td>-0.0000</td>\n",
       "</tr>\n",
       "<tr>\n",
       "  <th>FLUX.6</th>  <td>0.0000</td>   <td>0.0006</td>  <td>0.0267</td>  <td>0.9787</td> <td>-0.0011</td> <td>0.0011</td> \n",
       "</tr>\n",
       "<tr>\n",
       "  <th>FLUX.7</th>  <td>0.0002</td>   <td>0.0006</td>  <td>0.3871</td>  <td>0.6987</td> <td>-0.0010</td> <td>0.0014</td> \n",
       "</tr>\n",
       "<tr>\n",
       "  <th>FLUX.8</th>  <td>0.0012</td>   <td>0.0006</td>  <td>2.0086</td>  <td>0.0446</td> <td>0.0000</td>  <td>0.0023</td> \n",
       "</tr>\n",
       "<tr>\n",
       "  <th>FLUX.9</th>  <td>-0.0010</td>  <td>0.0007</td>  <td>-1.3942</td> <td>0.1633</td> <td>-0.0024</td> <td>0.0004</td> \n",
       "</tr>\n",
       "<tr>\n",
       "  <th>FLUX.10</th> <td>-0.0009</td>  <td>0.0007</td>  <td>-1.2902</td> <td>0.1970</td> <td>-0.0022</td> <td>0.0005</td> \n",
       "</tr>\n",
       "<tr>\n",
       "  <th>FLUX.11</th> <td>0.0012</td>   <td>0.0006</td>  <td>1.8912</td>  <td>0.0586</td> <td>-0.0000</td> <td>0.0024</td> \n",
       "</tr>\n",
       "<tr>\n",
       "  <th>FLUX.12</th> <td>-0.0014</td>  <td>0.0006</td>  <td>-2.3845</td> <td>0.0171</td> <td>-0.0026</td> <td>-0.0002</td>\n",
       "</tr>\n",
       "<tr>\n",
       "  <th>FLUX.13</th> <td>-0.0003</td>  <td>0.0007</td>  <td>-0.4608</td> <td>0.6450</td> <td>-0.0017</td> <td>0.0010</td> \n",
       "</tr>\n",
       "<tr>\n",
       "  <th>FLUX.14</th> <td>0.0036</td>   <td>0.0007</td>  <td>4.9742</td>  <td>0.0000</td> <td>0.0022</td>  <td>0.0050</td> \n",
       "</tr>\n",
       "<tr>\n",
       "  <th>FLUX.15</th> <td>-0.0034</td>  <td>0.0008</td>  <td>-4.3996</td> <td>0.0000</td> <td>-0.0049</td> <td>-0.0019</td>\n",
       "</tr>\n",
       "<tr>\n",
       "  <th>FLUX.16</th> <td>0.0012</td>   <td>0.0007</td>  <td>1.7922</td>  <td>0.0731</td> <td>-0.0001</td> <td>0.0025</td> \n",
       "</tr>\n",
       "<tr>\n",
       "  <th>FLUX.17</th> <td>-0.0019</td>  <td>0.0005</td>  <td>-3.4613</td> <td>0.0005</td> <td>-0.0030</td> <td>-0.0008</td>\n",
       "</tr>\n",
       "<tr>\n",
       "  <th>FLUX.18</th> <td>0.0028</td>   <td>0.0007</td>  <td>4.1377</td>  <td>0.0000</td> <td>0.0014</td>  <td>0.0041</td> \n",
       "</tr>\n",
       "<tr>\n",
       "  <th>FLUX.19</th> <td>0.0001</td>   <td>0.0007</td>  <td>0.1574</td>  <td>0.8749</td> <td>-0.0013</td> <td>0.0015</td> \n",
       "</tr>\n",
       "<tr>\n",
       "  <th>FLUX.20</th> <td>-0.0010</td>  <td>0.0005</td>  <td>-1.9479</td> <td>0.0514</td> <td>-0.0020</td> <td>0.0000</td> \n",
       "</tr>\n",
       "<tr>\n",
       "  <th>FLUX.21</th> <td>-0.0004</td>  <td>0.0003</td>  <td>-1.4628</td> <td>0.1435</td> <td>-0.0011</td> <td>0.0002</td> \n",
       "</tr>\n",
       "<tr>\n",
       "  <th>FLUX.22</th> <td>0.0003</td>   <td>0.0004</td>  <td>0.5961</td>  <td>0.5511</td> <td>-0.0006</td> <td>0.0011</td> \n",
       "</tr>\n",
       "<tr>\n",
       "  <th>FLUX.23</th> <td>-0.0001</td>  <td>0.0004</td>  <td>-0.2356</td> <td>0.8138</td> <td>-0.0009</td> <td>0.0007</td> \n",
       "</tr>\n",
       "<tr>\n",
       "  <th>FLUX.24</th> <td>-0.0000</td>  <td>0.0006</td>  <td>-0.0395</td> <td>0.9685</td> <td>-0.0012</td> <td>0.0011</td> \n",
       "</tr>\n",
       "<tr>\n",
       "  <th>FLUX.25</th> <td>0.0003</td>   <td>0.0006</td>  <td>0.3957</td>  <td>0.6923</td> <td>-0.0010</td> <td>0.0015</td> \n",
       "</tr>\n",
       "<tr>\n",
       "  <th>FLUX.26</th> <td>-0.0000</td>  <td>0.0004</td>  <td>-0.1137</td> <td>0.9095</td> <td>-0.0009</td> <td>0.0008</td> \n",
       "</tr>\n",
       "<tr>\n",
       "  <th>FLUX.27</th> <td>-0.0005</td>  <td>0.0003</td>  <td>-1.5479</td> <td>0.1216</td> <td>-0.0011</td> <td>0.0001</td> \n",
       "</tr>\n",
       "<tr>\n",
       "  <th>FLUX.28</th> <td>0.0014</td>   <td>0.0006</td>  <td>2.3168</td>  <td>0.0205</td> <td>0.0002</td>  <td>0.0026</td> \n",
       "</tr>\n",
       "<tr>\n",
       "  <th>FLUX.29</th> <td>-0.0004</td>  <td>0.0005</td>  <td>-0.8413</td> <td>0.4002</td> <td>-0.0015</td> <td>0.0006</td> \n",
       "</tr>\n",
       "<tr>\n",
       "  <th>FLUX.30</th> <td>-0.0009</td>  <td>0.0003</td>  <td>-2.5988</td> <td>0.0094</td> <td>-0.0015</td> <td>-0.0002</td>\n",
       "</tr>\n",
       "<tr>\n",
       "  <th>FLUX.31</th> <td>0.0004</td>   <td>0.0002</td>  <td>2.2992</td>  <td>0.0215</td> <td>0.0001</td>  <td>0.0008</td> \n",
       "</tr>\n",
       "<tr>\n",
       "  <th>FLUX.32</th> <td>-0.0000</td>  <td>0.0001</td>  <td>-0.2245</td> <td>0.8224</td> <td>-0.0002</td> <td>0.0002</td> \n",
       "</tr>\n",
       "<tr>\n",
       "  <th>FLUX.33</th> <td>-0.0008</td>  <td>0.0003</td>  <td>-2.7678</td> <td>0.0056</td> <td>-0.0014</td> <td>-0.0002</td>\n",
       "</tr>\n",
       "<tr>\n",
       "  <th>FLUX.34</th> <td>0.0012</td>   <td>0.0006</td>  <td>1.9355</td>  <td>0.0529</td> <td>-0.0000</td> <td>0.0024</td> \n",
       "</tr>\n",
       "<tr>\n",
       "  <th>FLUX.35</th> <td>-0.0007</td>  <td>0.0006</td>  <td>-1.0969</td> <td>0.2727</td> <td>-0.0019</td> <td>0.0005</td> \n",
       "</tr>\n",
       "<tr>\n",
       "  <th>FLUX.36</th> <td>-0.0006</td>  <td>0.0006</td>  <td>-1.1147</td> <td>0.2650</td> <td>-0.0018</td> <td>0.0005</td> \n",
       "</tr>\n",
       "<tr>\n",
       "  <th>FLUX.37</th> <td>0.0026</td>   <td>0.0005</td>  <td>5.0585</td>  <td>0.0000</td> <td>0.0016</td>  <td>0.0036</td> \n",
       "</tr>\n",
       "<tr>\n",
       "  <th>FLUX.38</th> <td>-0.0016</td>  <td>0.0005</td>  <td>-3.0044</td> <td>0.0027</td> <td>-0.0026</td> <td>-0.0006</td>\n",
       "</tr>\n",
       "<tr>\n",
       "  <th>FLUX.39</th> <td>-0.0008</td>  <td>0.0006</td>  <td>-1.2844</td> <td>0.1990</td> <td>-0.0020</td> <td>0.0004</td> \n",
       "</tr>\n",
       "<tr>\n",
       "  <th>FLUX.40</th> <td>0.0009</td>   <td>0.0007</td>  <td>1.3343</td>  <td>0.1821</td> <td>-0.0004</td> <td>0.0022</td> \n",
       "</tr>\n",
       "<tr>\n",
       "  <th>FLUX.41</th> <td>-0.0015</td>  <td>0.0008</td>  <td>-1.9106</td> <td>0.0561</td> <td>-0.0031</td> <td>0.0000</td> \n",
       "</tr>\n",
       "<tr>\n",
       "  <th>FLUX.42</th> <td>0.0031</td>   <td>0.0007</td>  <td>4.6190</td>  <td>0.0000</td> <td>0.0018</td>  <td>0.0044</td> \n",
       "</tr>\n",
       "<tr>\n",
       "  <th>FLUX.43</th> <td>-0.0024</td>  <td>0.0006</td>  <td>-3.8015</td> <td>0.0001</td> <td>-0.0036</td> <td>-0.0011</td>\n",
       "</tr>\n",
       "<tr>\n",
       "  <th>FLUX.44</th> <td>0.0004</td>   <td>0.0005</td>  <td>0.6898</td>  <td>0.4903</td> <td>-0.0007</td> <td>0.0014</td> \n",
       "</tr>\n",
       "<tr>\n",
       "  <th>FLUX.45</th> <td>-0.0009</td>  <td>0.0004</td>  <td>-2.1815</td> <td>0.0291</td> <td>-0.0017</td> <td>-0.0001</td>\n",
       "</tr>\n",
       "<tr>\n",
       "  <th>FLUX.46</th> <td>0.0021</td>   <td>0.0005</td>  <td>3.8665</td>  <td>0.0001</td> <td>0.0010</td>  <td>0.0032</td> \n",
       "</tr>\n",
       "<tr>\n",
       "  <th>FLUX.47</th> <td>-0.0006</td>  <td>0.0006</td>  <td>-0.9655</td> <td>0.3343</td> <td>-0.0017</td> <td>0.0006</td> \n",
       "</tr>\n",
       "<tr>\n",
       "  <th>FLUX.48</th> <td>-0.0007</td>  <td>0.0006</td>  <td>-1.3034</td> <td>0.1924</td> <td>-0.0018</td> <td>0.0004</td> \n",
       "</tr>\n",
       "<tr>\n",
       "  <th>FLUX.49</th> <td>0.0003</td>   <td>0.0003</td>  <td>1.1323</td>  <td>0.2575</td> <td>-0.0002</td> <td>0.0008</td> \n",
       "</tr>\n",
       "</table>"
      ],
      "text/plain": [
       "<class 'statsmodels.iolib.summary2.Summary'>\n",
       "\"\"\"\n",
       "                         Results: Logit\n",
       "================================================================\n",
       "Model:              Logit            Pseudo R-squared: -14.662  \n",
       "Dependent Variable: LABEL            AIC:              6959.2119\n",
       "Date:               2019-04-23 09:21 BIC:              7279.3996\n",
       "No. Observations:   5087             Log-Likelihood:   -3430.6  \n",
       "Df Model:           48               LL-Null:          -219.04  \n",
       "Df Residuals:       5038             LLR p-value:      1.0000   \n",
       "Converged:          1.0000           Scale:            1.0000   \n",
       "No. Iterations:     11.0000                                     \n",
       "-----------------------------------------------------------------\n",
       "              Coef.   Std.Err.     z     P>|z|    [0.025   0.975]\n",
       "-----------------------------------------------------------------\n",
       "FLUX.1       -0.0022    0.0004  -5.3361  0.0000  -0.0031  -0.0014\n",
       "FLUX.2        0.0030    0.0005   5.5919  0.0000   0.0019   0.0040\n",
       "FLUX.3       -0.0012    0.0005  -2.2883  0.0221  -0.0022  -0.0002\n",
       "FLUX.4        0.0014    0.0007   2.1444  0.0320   0.0001   0.0027\n",
       "FLUX.5       -0.0013    0.0006  -2.0028  0.0452  -0.0025  -0.0000\n",
       "FLUX.6        0.0000    0.0006   0.0267  0.9787  -0.0011   0.0011\n",
       "FLUX.7        0.0002    0.0006   0.3871  0.6987  -0.0010   0.0014\n",
       "FLUX.8        0.0012    0.0006   2.0086  0.0446   0.0000   0.0023\n",
       "FLUX.9       -0.0010    0.0007  -1.3942  0.1633  -0.0024   0.0004\n",
       "FLUX.10      -0.0009    0.0007  -1.2902  0.1970  -0.0022   0.0005\n",
       "FLUX.11       0.0012    0.0006   1.8912  0.0586  -0.0000   0.0024\n",
       "FLUX.12      -0.0014    0.0006  -2.3845  0.0171  -0.0026  -0.0002\n",
       "FLUX.13      -0.0003    0.0007  -0.4608  0.6450  -0.0017   0.0010\n",
       "FLUX.14       0.0036    0.0007   4.9742  0.0000   0.0022   0.0050\n",
       "FLUX.15      -0.0034    0.0008  -4.3996  0.0000  -0.0049  -0.0019\n",
       "FLUX.16       0.0012    0.0007   1.7922  0.0731  -0.0001   0.0025\n",
       "FLUX.17      -0.0019    0.0005  -3.4613  0.0005  -0.0030  -0.0008\n",
       "FLUX.18       0.0028    0.0007   4.1377  0.0000   0.0014   0.0041\n",
       "FLUX.19       0.0001    0.0007   0.1574  0.8749  -0.0013   0.0015\n",
       "FLUX.20      -0.0010    0.0005  -1.9479  0.0514  -0.0020   0.0000\n",
       "FLUX.21      -0.0004    0.0003  -1.4628  0.1435  -0.0011   0.0002\n",
       "FLUX.22       0.0003    0.0004   0.5961  0.5511  -0.0006   0.0011\n",
       "FLUX.23      -0.0001    0.0004  -0.2356  0.8138  -0.0009   0.0007\n",
       "FLUX.24      -0.0000    0.0006  -0.0395  0.9685  -0.0012   0.0011\n",
       "FLUX.25       0.0003    0.0006   0.3957  0.6923  -0.0010   0.0015\n",
       "FLUX.26      -0.0000    0.0004  -0.1137  0.9095  -0.0009   0.0008\n",
       "FLUX.27      -0.0005    0.0003  -1.5479  0.1216  -0.0011   0.0001\n",
       "FLUX.28       0.0014    0.0006   2.3168  0.0205   0.0002   0.0026\n",
       "FLUX.29      -0.0004    0.0005  -0.8413  0.4002  -0.0015   0.0006\n",
       "FLUX.30      -0.0009    0.0003  -2.5988  0.0094  -0.0015  -0.0002\n",
       "FLUX.31       0.0004    0.0002   2.2992  0.0215   0.0001   0.0008\n",
       "FLUX.32      -0.0000    0.0001  -0.2245  0.8224  -0.0002   0.0002\n",
       "FLUX.33      -0.0008    0.0003  -2.7678  0.0056  -0.0014  -0.0002\n",
       "FLUX.34       0.0012    0.0006   1.9355  0.0529  -0.0000   0.0024\n",
       "FLUX.35      -0.0007    0.0006  -1.0969  0.2727  -0.0019   0.0005\n",
       "FLUX.36      -0.0006    0.0006  -1.1147  0.2650  -0.0018   0.0005\n",
       "FLUX.37       0.0026    0.0005   5.0585  0.0000   0.0016   0.0036\n",
       "FLUX.38      -0.0016    0.0005  -3.0044  0.0027  -0.0026  -0.0006\n",
       "FLUX.39      -0.0008    0.0006  -1.2844  0.1990  -0.0020   0.0004\n",
       "FLUX.40       0.0009    0.0007   1.3343  0.1821  -0.0004   0.0022\n",
       "FLUX.41      -0.0015    0.0008  -1.9106  0.0561  -0.0031   0.0000\n",
       "FLUX.42       0.0031    0.0007   4.6190  0.0000   0.0018   0.0044\n",
       "FLUX.43      -0.0024    0.0006  -3.8015  0.0001  -0.0036  -0.0011\n",
       "FLUX.44       0.0004    0.0005   0.6898  0.4903  -0.0007   0.0014\n",
       "FLUX.45      -0.0009    0.0004  -2.1815  0.0291  -0.0017  -0.0001\n",
       "FLUX.46       0.0021    0.0005   3.8665  0.0001   0.0010   0.0032\n",
       "FLUX.47      -0.0006    0.0006  -0.9655  0.3343  -0.0017   0.0006\n",
       "FLUX.48      -0.0007    0.0006  -1.3034  0.1924  -0.0018   0.0004\n",
       "FLUX.49       0.0003    0.0003   1.1323  0.2575  -0.0002   0.0008\n",
       "================================================================\n",
       "\n",
       "\"\"\""
      ]
     },
     "execution_count": 125,
     "metadata": {},
     "output_type": "execute_result"
    }
   ],
   "source": [
    "est = smf.Logit(y_train, X_train).fit()\n",
    "est.summary2()"
   ]
  },
  {
   "cell_type": "code",
   "execution_count": 120,
   "metadata": {},
   "outputs": [
    {
     "data": {
      "text/plain": [
       "FLUX.1    -0.002240\n",
       "FLUX.2     0.002991\n",
       "FLUX.3    -0.001160\n",
       "FLUX.4     0.001421\n",
       "FLUX.5    -0.001259\n",
       "FLUX.6     0.000015\n",
       "FLUX.7     0.000235\n",
       "FLUX.8     0.001185\n",
       "FLUX.9    -0.001001\n",
       "FLUX.10   -0.000887\n",
       "FLUX.11    0.001196\n",
       "FLUX.12   -0.001403\n",
       "FLUX.13   -0.000322\n",
       "FLUX.14    0.003577\n",
       "FLUX.15   -0.003360\n",
       "FLUX.16    0.001209\n",
       "FLUX.17   -0.001896\n",
       "FLUX.18    0.002753\n",
       "FLUX.19    0.000111\n",
       "FLUX.20   -0.001015\n",
       "FLUX.21   -0.000450\n",
       "FLUX.22    0.000259\n",
       "FLUX.23   -0.000095\n",
       "FLUX.24   -0.000023\n",
       "FLUX.25    0.000254\n",
       "FLUX.26   -0.000047\n",
       "FLUX.27   -0.000507\n",
       "FLUX.28    0.001414\n",
       "FLUX.29   -0.000445\n",
       "FLUX.30   -0.000878\n",
       "FLUX.31    0.000445\n",
       "FLUX.32   -0.000022\n",
       "FLUX.33   -0.000790\n",
       "FLUX.34    0.001168\n",
       "FLUX.35   -0.000680\n",
       "FLUX.36   -0.000650\n",
       "FLUX.37    0.002583\n",
       "FLUX.38   -0.001600\n",
       "FLUX.39   -0.000776\n",
       "FLUX.40    0.000876\n",
       "FLUX.41   -0.001518\n",
       "FLUX.42    0.003089\n",
       "FLUX.43   -0.002367\n",
       "FLUX.44    0.000375\n",
       "FLUX.45   -0.000902\n",
       "FLUX.46    0.002122\n",
       "FLUX.47   -0.000562\n",
       "FLUX.48   -0.000720\n",
       "FLUX.49    0.000296\n",
       "dtype: float64"
      ]
     },
     "execution_count": 120,
     "metadata": {},
     "output_type": "execute_result"
    }
   ],
   "source": [
    "coefficients = est.params\n",
    "coefficients"
   ]
  },
  {
   "cell_type": "code",
   "execution_count": 126,
   "metadata": {},
   "outputs": [
    {
     "name": "stdout",
     "output_type": "stream",
     "text": [
      "('error : 100.00', '%')\n"
     ]
    }
   ],
   "source": [
    "y_pred_test = est.predict(X_test)\n",
    "print(\"error : {:.2f}\".format(100*(1-sum(y_test==y_pred_test)/len(y_test))), \"%\")"
   ]
  },
  {
   "cell_type": "code",
   "execution_count": 147,
   "metadata": {},
   "outputs": [
    {
     "data": {
      "text/plain": [
       "0      0.537442\n",
       "1      0.623716\n",
       "2      0.595455\n",
       "3      0.409483\n",
       "4      0.567845\n",
       "5      0.500171\n",
       "6      0.477183\n",
       "7      0.503364\n",
       "8      0.646890\n",
       "9      0.553025\n",
       "10     0.492398\n",
       "11     0.513876\n",
       "12     0.490576\n",
       "13     0.510223\n",
       "14     0.484395\n",
       "15     0.493574\n",
       "16     0.481673\n",
       "17     0.515580\n",
       "18     0.501251\n",
       "19     0.516362\n",
       "20     0.504035\n",
       "21     0.391590\n",
       "22     0.504342\n",
       "23     0.528388\n",
       "24     0.502170\n",
       "25     0.449875\n",
       "26     0.502233\n",
       "27     0.418082\n",
       "28     0.441150\n",
       "29     0.508081\n",
       "         ...   \n",
       "540    0.506311\n",
       "541    0.489693\n",
       "542    0.492343\n",
       "543    0.490867\n",
       "544    0.420875\n",
       "545    0.524502\n",
       "546    0.490555\n",
       "547    0.508524\n",
       "548    0.507825\n",
       "549    0.539763\n",
       "550    0.427349\n",
       "551    0.511497\n",
       "552    0.491493\n",
       "553    0.525802\n",
       "554    0.500275\n",
       "555    0.512604\n",
       "556    0.531735\n",
       "557    0.496833\n",
       "558    0.507680\n",
       "559    0.503319\n",
       "560    0.498749\n",
       "561    0.491742\n",
       "562    0.478025\n",
       "563    0.501807\n",
       "564    0.471242\n",
       "565    0.415609\n",
       "566    0.485740\n",
       "567    0.491015\n",
       "568    0.470547\n",
       "569    0.333532\n",
       "Length: 570, dtype: float64"
      ]
     },
     "execution_count": 147,
     "metadata": {},
     "output_type": "execute_result"
    }
   ],
   "source": [
    "y_pred_test"
   ]
  },
  {
   "cell_type": "markdown",
   "metadata": {},
   "source": [
    "### Prueba con los primeros 50 flujos de luz"
   ]
  },
  {
   "cell_type": "code",
   "execution_count": 9,
   "metadata": {},
   "outputs": [],
   "source": [
    "X_train = train.iloc[:, 1:50]\n",
    "X_test = test.iloc[:, 1:50]\n",
    "#X_train = train[\"std\"]\n",
    "#X_test = test[\"std\"]\n",
    "y_train = train[\"LABEL\"]\n",
    "y_test = test[\"LABEL\"]"
   ]
  },
  {
   "cell_type": "code",
   "execution_count": 10,
   "metadata": {},
   "outputs": [
    {
     "name": "stderr",
     "output_type": "stream",
     "text": [
      "C:\\Users\\Admin\\Anaconda\\lib\\site-packages\\sklearn\\linear_model\\logistic.py:433: FutureWarning: Default solver will be changed to 'lbfgs' in 0.22. Specify a solver to silence this warning.\n",
      "  FutureWarning)\n",
      "C:\\Users\\Admin\\Anaconda\\lib\\site-packages\\sklearn\\svm\\base.py:922: ConvergenceWarning: Liblinear failed to converge, increase the number of iterations.\n",
      "  \"the number of iterations.\", ConvergenceWarning)\n"
     ]
    },
    {
     "data": {
      "text/plain": [
       "LogisticRegression(C=1.0, class_weight=None, dual=False, fit_intercept=True,\n",
       "          intercept_scaling=1, max_iter=100, multi_class='warn',\n",
       "          n_jobs=None, penalty='l2', random_state=None, solver='warn',\n",
       "          tol=0.0001, verbose=0, warm_start=False)"
      ]
     },
     "execution_count": 10,
     "metadata": {},
     "output_type": "execute_result"
    }
   ],
   "source": [
    "logreg = LogisticRegression()\n",
    "logreg.fit(X_train, y_train)"
   ]
  },
  {
   "cell_type": "code",
   "execution_count": 11,
   "metadata": {},
   "outputs": [
    {
     "name": "stdout",
     "output_type": "stream",
     "text": [
      "Accuracy of logistic regression classifier on test set: 0.64\n"
     ]
    }
   ],
   "source": [
    "y_pred = logreg.predict(X_test)\n",
    "print('Accuracy of logistic regression classifier on test set: {:.2f}'.format(logreg.score(X_test, y_test)))"
   ]
  },
  {
   "cell_type": "code",
   "execution_count": 12,
   "metadata": {},
   "outputs": [
    {
     "data": {
      "text/plain": [
       "array([[360, 205],\n",
       "       [  2,   3]], dtype=int64)"
      ]
     },
     "execution_count": 12,
     "metadata": {},
     "output_type": "execute_result"
    }
   ],
   "source": [
    "confusion_matrix(y_test.tolist(), y_pred.tolist())"
   ]
  },
  {
   "cell_type": "markdown",
   "metadata": {},
   "source": [
    "### feature importance y oversampling"
   ]
  },
  {
   "cell_type": "code",
   "execution_count": 5,
   "metadata": {},
   "outputs": [],
   "source": [
    "X_train = train.iloc[:, 1:50]\n",
    "X_test = test.iloc[:, 1:50]\n",
    "#X_train = train[\"std\"]\n",
    "#X_test = test[\"std\"]\n",
    "y_train = train[\"LABEL\"]\n",
    "y_test = test[\"LABEL\"]"
   ]
  },
  {
   "cell_type": "markdown",
   "metadata": {},
   "source": [
    "### SMOTE oversampling"
   ]
  },
  {
   "cell_type": "code",
   "execution_count": 6,
   "metadata": {},
   "outputs": [
    {
     "data": {
      "text/plain": [
       "1    5050\n",
       "0    5050\n",
       "dtype: int64"
      ]
     },
     "execution_count": 6,
     "metadata": {},
     "output_type": "execute_result"
    }
   ],
   "source": [
    "sm = SMOTE(random_state=42)\n",
    "X_smote_train, y_smote = sm.fit_resample(X_train, y_train)\n",
    "pd.Series(y_smote).value_counts()"
   ]
  },
  {
   "cell_type": "code",
   "execution_count": 7,
   "metadata": {},
   "outputs": [],
   "source": [
    "X_smote_train = pd.DataFrame(X_smote_train)\n",
    "X_smote_train.columns = X_train.columns\n",
    "\n",
    "y_smote = pd.DataFrame(data=y_smote, columns=['y'])"
   ]
  },
  {
   "cell_type": "code",
   "execution_count": 8,
   "metadata": {},
   "outputs": [
    {
     "name": "stderr",
     "output_type": "stream",
     "text": [
      "C:\\Users\\Admin\\Anaconda\\lib\\site-packages\\sklearn\\linear_model\\logistic.py:433: FutureWarning: Default solver will be changed to 'lbfgs' in 0.22. Specify a solver to silence this warning.\n",
      "  FutureWarning)\n",
      "C:\\Users\\Admin\\Anaconda\\lib\\site-packages\\sklearn\\utils\\validation.py:761: DataConversionWarning: A column-vector y was passed when a 1d array was expected. Please change the shape of y to (n_samples, ), for example using ravel().\n",
      "  y = column_or_1d(y, warn=True)\n"
     ]
    },
    {
     "name": "stdout",
     "output_type": "stream",
     "text": [
      "Accuracy of logistic regression classifier on test set: 0.46\n"
     ]
    },
    {
     "name": "stderr",
     "output_type": "stream",
     "text": [
      "C:\\Users\\Admin\\Anaconda\\lib\\site-packages\\sklearn\\svm\\base.py:922: ConvergenceWarning: Liblinear failed to converge, increase the number of iterations.\n",
      "  \"the number of iterations.\", ConvergenceWarning)\n"
     ]
    }
   ],
   "source": [
    "logreg = LogisticRegression()\n",
    "logreg.fit(X_smote_train, y_smote)\n",
    "y_pred = logreg.predict(X_test)\n",
    "print('Accuracy of logistic regression classifier on test set: {:.2f}'.format(logreg.score(X_test, y_test)))"
   ]
  },
  {
   "cell_type": "code",
   "execution_count": 9,
   "metadata": {},
   "outputs": [
    {
     "data": {
      "text/html": [
       "<div>\n",
       "<style scoped>\n",
       "    .dataframe tbody tr th:only-of-type {\n",
       "        vertical-align: middle;\n",
       "    }\n",
       "\n",
       "    .dataframe tbody tr th {\n",
       "        vertical-align: top;\n",
       "    }\n",
       "\n",
       "    .dataframe thead th {\n",
       "        text-align: right;\n",
       "    }\n",
       "</style>\n",
       "<table border=\"1\" class=\"dataframe\">\n",
       "  <thead>\n",
       "    <tr style=\"text-align: right;\">\n",
       "      <th>Predicho</th>\n",
       "      <th>No</th>\n",
       "      <th>Si</th>\n",
       "      <th>All</th>\n",
       "    </tr>\n",
       "    <tr>\n",
       "      <th>Actual</th>\n",
       "      <th></th>\n",
       "      <th></th>\n",
       "      <th></th>\n",
       "    </tr>\n",
       "  </thead>\n",
       "  <tbody>\n",
       "    <tr>\n",
       "      <th>No</th>\n",
       "      <td>261</td>\n",
       "      <td>304</td>\n",
       "      <td>565</td>\n",
       "    </tr>\n",
       "    <tr>\n",
       "      <th>Si</th>\n",
       "      <td>3</td>\n",
       "      <td>2</td>\n",
       "      <td>5</td>\n",
       "    </tr>\n",
       "    <tr>\n",
       "      <th>All</th>\n",
       "      <td>264</td>\n",
       "      <td>306</td>\n",
       "      <td>570</td>\n",
       "    </tr>\n",
       "  </tbody>\n",
       "</table>\n",
       "</div>"
      ],
      "text/plain": [
       "Predicho   No   Si  All\n",
       "Actual                 \n",
       "No        261  304  565\n",
       "Si          3    2    5\n",
       "All       264  306  570"
      ]
     },
     "execution_count": 9,
     "metadata": {},
     "output_type": "execute_result"
    }
   ],
   "source": [
    "y_actual = pd.Series(y_test, name = \"Actual\")\n",
    "y_predicted = pd.Series(y_pred, name = \"Predicho\")\n",
    "\n",
    "y_actual = y_actual.replace([0,1],[\"No\",\"Si\"])\n",
    "y_predicho = y_predicted.replace([0,1],[\"No\",\"Si\"])\n",
    "pd.crosstab(y_actual, y_predicho, margins=True)"
   ]
  },
  {
   "cell_type": "markdown",
   "metadata": {},
   "source": [
    "### Recursive Feature Elimination RFE"
   ]
  },
  {
   "cell_type": "code",
   "execution_count": 10,
   "metadata": {},
   "outputs": [
    {
     "name": "stderr",
     "output_type": "stream",
     "text": [
      "C:\\Users\\Admin\\Anaconda\\lib\\site-packages\\sklearn\\svm\\base.py:922: ConvergenceWarning: Liblinear failed to converge, increase the number of iterations.\n",
      "  \"the number of iterations.\", ConvergenceWarning)\n",
      "C:\\Users\\Admin\\Anaconda\\lib\\site-packages\\sklearn\\svm\\base.py:922: ConvergenceWarning: Liblinear failed to converge, increase the number of iterations.\n",
      "  \"the number of iterations.\", ConvergenceWarning)\n",
      "C:\\Users\\Admin\\Anaconda\\lib\\site-packages\\sklearn\\svm\\base.py:922: ConvergenceWarning: Liblinear failed to converge, increase the number of iterations.\n",
      "  \"the number of iterations.\", ConvergenceWarning)\n",
      "C:\\Users\\Admin\\Anaconda\\lib\\site-packages\\sklearn\\svm\\base.py:922: ConvergenceWarning: Liblinear failed to converge, increase the number of iterations.\n",
      "  \"the number of iterations.\", ConvergenceWarning)\n",
      "C:\\Users\\Admin\\Anaconda\\lib\\site-packages\\sklearn\\svm\\base.py:922: ConvergenceWarning: Liblinear failed to converge, increase the number of iterations.\n",
      "  \"the number of iterations.\", ConvergenceWarning)\n",
      "C:\\Users\\Admin\\Anaconda\\lib\\site-packages\\sklearn\\svm\\base.py:922: ConvergenceWarning: Liblinear failed to converge, increase the number of iterations.\n",
      "  \"the number of iterations.\", ConvergenceWarning)\n",
      "C:\\Users\\Admin\\Anaconda\\lib\\site-packages\\sklearn\\svm\\base.py:922: ConvergenceWarning: Liblinear failed to converge, increase the number of iterations.\n",
      "  \"the number of iterations.\", ConvergenceWarning)\n",
      "C:\\Users\\Admin\\Anaconda\\lib\\site-packages\\sklearn\\svm\\base.py:922: ConvergenceWarning: Liblinear failed to converge, increase the number of iterations.\n",
      "  \"the number of iterations.\", ConvergenceWarning)\n",
      "C:\\Users\\Admin\\Anaconda\\lib\\site-packages\\sklearn\\svm\\base.py:922: ConvergenceWarning: Liblinear failed to converge, increase the number of iterations.\n",
      "  \"the number of iterations.\", ConvergenceWarning)\n",
      "C:\\Users\\Admin\\Anaconda\\lib\\site-packages\\sklearn\\svm\\base.py:922: ConvergenceWarning: Liblinear failed to converge, increase the number of iterations.\n",
      "  \"the number of iterations.\", ConvergenceWarning)\n",
      "C:\\Users\\Admin\\Anaconda\\lib\\site-packages\\sklearn\\svm\\base.py:922: ConvergenceWarning: Liblinear failed to converge, increase the number of iterations.\n",
      "  \"the number of iterations.\", ConvergenceWarning)\n",
      "C:\\Users\\Admin\\Anaconda\\lib\\site-packages\\sklearn\\svm\\base.py:922: ConvergenceWarning: Liblinear failed to converge, increase the number of iterations.\n",
      "  \"the number of iterations.\", ConvergenceWarning)\n",
      "C:\\Users\\Admin\\Anaconda\\lib\\site-packages\\sklearn\\svm\\base.py:922: ConvergenceWarning: Liblinear failed to converge, increase the number of iterations.\n",
      "  \"the number of iterations.\", ConvergenceWarning)\n",
      "C:\\Users\\Admin\\Anaconda\\lib\\site-packages\\sklearn\\svm\\base.py:922: ConvergenceWarning: Liblinear failed to converge, increase the number of iterations.\n",
      "  \"the number of iterations.\", ConvergenceWarning)\n",
      "C:\\Users\\Admin\\Anaconda\\lib\\site-packages\\sklearn\\svm\\base.py:922: ConvergenceWarning: Liblinear failed to converge, increase the number of iterations.\n",
      "  \"the number of iterations.\", ConvergenceWarning)\n",
      "C:\\Users\\Admin\\Anaconda\\lib\\site-packages\\sklearn\\svm\\base.py:922: ConvergenceWarning: Liblinear failed to converge, increase the number of iterations.\n",
      "  \"the number of iterations.\", ConvergenceWarning)\n",
      "C:\\Users\\Admin\\Anaconda\\lib\\site-packages\\sklearn\\svm\\base.py:922: ConvergenceWarning: Liblinear failed to converge, increase the number of iterations.\n",
      "  \"the number of iterations.\", ConvergenceWarning)\n",
      "C:\\Users\\Admin\\Anaconda\\lib\\site-packages\\sklearn\\svm\\base.py:922: ConvergenceWarning: Liblinear failed to converge, increase the number of iterations.\n",
      "  \"the number of iterations.\", ConvergenceWarning)\n",
      "C:\\Users\\Admin\\Anaconda\\lib\\site-packages\\sklearn\\svm\\base.py:922: ConvergenceWarning: Liblinear failed to converge, increase the number of iterations.\n",
      "  \"the number of iterations.\", ConvergenceWarning)\n",
      "C:\\Users\\Admin\\Anaconda\\lib\\site-packages\\sklearn\\svm\\base.py:922: ConvergenceWarning: Liblinear failed to converge, increase the number of iterations.\n",
      "  \"the number of iterations.\", ConvergenceWarning)\n",
      "C:\\Users\\Admin\\Anaconda\\lib\\site-packages\\sklearn\\svm\\base.py:922: ConvergenceWarning: Liblinear failed to converge, increase the number of iterations.\n",
      "  \"the number of iterations.\", ConvergenceWarning)\n",
      "C:\\Users\\Admin\\Anaconda\\lib\\site-packages\\sklearn\\svm\\base.py:922: ConvergenceWarning: Liblinear failed to converge, increase the number of iterations.\n",
      "  \"the number of iterations.\", ConvergenceWarning)\n",
      "C:\\Users\\Admin\\Anaconda\\lib\\site-packages\\sklearn\\svm\\base.py:922: ConvergenceWarning: Liblinear failed to converge, increase the number of iterations.\n",
      "  \"the number of iterations.\", ConvergenceWarning)\n",
      "C:\\Users\\Admin\\Anaconda\\lib\\site-packages\\sklearn\\svm\\base.py:922: ConvergenceWarning: Liblinear failed to converge, increase the number of iterations.\n",
      "  \"the number of iterations.\", ConvergenceWarning)\n",
      "C:\\Users\\Admin\\Anaconda\\lib\\site-packages\\sklearn\\svm\\base.py:922: ConvergenceWarning: Liblinear failed to converge, increase the number of iterations.\n",
      "  \"the number of iterations.\", ConvergenceWarning)\n",
      "C:\\Users\\Admin\\Anaconda\\lib\\site-packages\\sklearn\\svm\\base.py:922: ConvergenceWarning: Liblinear failed to converge, increase the number of iterations.\n",
      "  \"the number of iterations.\", ConvergenceWarning)\n",
      "C:\\Users\\Admin\\Anaconda\\lib\\site-packages\\sklearn\\svm\\base.py:922: ConvergenceWarning: Liblinear failed to converge, increase the number of iterations.\n",
      "  \"the number of iterations.\", ConvergenceWarning)\n",
      "C:\\Users\\Admin\\Anaconda\\lib\\site-packages\\sklearn\\svm\\base.py:922: ConvergenceWarning: Liblinear failed to converge, increase the number of iterations.\n",
      "  \"the number of iterations.\", ConvergenceWarning)\n",
      "C:\\Users\\Admin\\Anaconda\\lib\\site-packages\\sklearn\\svm\\base.py:922: ConvergenceWarning: Liblinear failed to converge, increase the number of iterations.\n",
      "  \"the number of iterations.\", ConvergenceWarning)\n",
      "C:\\Users\\Admin\\Anaconda\\lib\\site-packages\\sklearn\\svm\\base.py:922: ConvergenceWarning: Liblinear failed to converge, increase the number of iterations.\n",
      "  \"the number of iterations.\", ConvergenceWarning)\n",
      "C:\\Users\\Admin\\Anaconda\\lib\\site-packages\\sklearn\\svm\\base.py:922: ConvergenceWarning: Liblinear failed to converge, increase the number of iterations.\n",
      "  \"the number of iterations.\", ConvergenceWarning)\n",
      "C:\\Users\\Admin\\Anaconda\\lib\\site-packages\\sklearn\\svm\\base.py:922: ConvergenceWarning: Liblinear failed to converge, increase the number of iterations.\n",
      "  \"the number of iterations.\", ConvergenceWarning)\n",
      "C:\\Users\\Admin\\Anaconda\\lib\\site-packages\\sklearn\\svm\\base.py:922: ConvergenceWarning: Liblinear failed to converge, increase the number of iterations.\n",
      "  \"the number of iterations.\", ConvergenceWarning)\n",
      "C:\\Users\\Admin\\Anaconda\\lib\\site-packages\\sklearn\\svm\\base.py:922: ConvergenceWarning: Liblinear failed to converge, increase the number of iterations.\n",
      "  \"the number of iterations.\", ConvergenceWarning)\n",
      "C:\\Users\\Admin\\Anaconda\\lib\\site-packages\\sklearn\\svm\\base.py:922: ConvergenceWarning: Liblinear failed to converge, increase the number of iterations.\n",
      "  \"the number of iterations.\", ConvergenceWarning)\n",
      "C:\\Users\\Admin\\Anaconda\\lib\\site-packages\\sklearn\\svm\\base.py:922: ConvergenceWarning: Liblinear failed to converge, increase the number of iterations.\n",
      "  \"the number of iterations.\", ConvergenceWarning)\n",
      "C:\\Users\\Admin\\Anaconda\\lib\\site-packages\\sklearn\\svm\\base.py:922: ConvergenceWarning: Liblinear failed to converge, increase the number of iterations.\n",
      "  \"the number of iterations.\", ConvergenceWarning)\n",
      "C:\\Users\\Admin\\Anaconda\\lib\\site-packages\\sklearn\\svm\\base.py:922: ConvergenceWarning: Liblinear failed to converge, increase the number of iterations.\n",
      "  \"the number of iterations.\", ConvergenceWarning)\n"
     ]
    },
    {
     "name": "stdout",
     "output_type": "stream",
     "text": [
      "[False False False False False False False False False False False False\n",
      " False False False False False False False False False False False False\n",
      " False False  True  True  True  True False False False False False False\n",
      " False False False False False False False False False  True False False\n",
      " False]\n",
      "[31 15 25 36 24 33 43 39 29 41 35 22 20  9 17 27 40  7 34 37 38 42 16 23\n",
      "  8 12  1  1  1  1 14 13 21 44  5 45 19 11  4 32 26  3 30  2 18  1 10  6\n",
      " 28]\n"
     ]
    }
   ],
   "source": [
    "logreg = LogisticRegression()\n",
    "\n",
    "rfe = RFE(logreg, 5, step=1)\n",
    "rfe = rfe.fit(X_smote_train, y_smote.values.ravel())\n",
    "print(rfe.support_)\n",
    "print(rfe.ranking_)"
   ]
  },
  {
   "cell_type": "code",
   "execution_count": 62,
   "metadata": {},
   "outputs": [],
   "source": [
    "X_new_train = X_smote_train.iloc[:, 27:31]\n",
    "y_new_train = y_smote['y']"
   ]
  },
  {
   "cell_type": "markdown",
   "metadata": {},
   "source": [
    "### Solo Feature Selection RFE"
   ]
  },
  {
   "cell_type": "code",
   "execution_count": 63,
   "metadata": {},
   "outputs": [
    {
     "name": "stdout",
     "output_type": "stream",
     "text": [
      "Accuracy of logistic regression classifier on test set: 0.99\n"
     ]
    }
   ],
   "source": [
    "X_new_train = X_train.iloc[:, 27:31]\n",
    "X_new_test = X_test.iloc[:, 27:31]\n",
    "logreg = LogisticRegression()\n",
    "logreg.fit(X_new_train, y_train)\n",
    "y_pred = logreg.predict(X_new_test)\n",
    "print('Accuracy of logistic regression classifier on test set: {:.2f}'.format(logreg.score(X_new_test, y_test)))"
   ]
  },
  {
   "cell_type": "code",
   "execution_count": 64,
   "metadata": {},
   "outputs": [
    {
     "data": {
      "text/html": [
       "<div>\n",
       "<style scoped>\n",
       "    .dataframe tbody tr th:only-of-type {\n",
       "        vertical-align: middle;\n",
       "    }\n",
       "\n",
       "    .dataframe tbody tr th {\n",
       "        vertical-align: top;\n",
       "    }\n",
       "\n",
       "    .dataframe thead th {\n",
       "        text-align: right;\n",
       "    }\n",
       "</style>\n",
       "<table border=\"1\" class=\"dataframe\">\n",
       "  <thead>\n",
       "    <tr style=\"text-align: right;\">\n",
       "      <th>Predicho</th>\n",
       "      <th>No</th>\n",
       "      <th>All</th>\n",
       "    </tr>\n",
       "    <tr>\n",
       "      <th>Actual</th>\n",
       "      <th></th>\n",
       "      <th></th>\n",
       "    </tr>\n",
       "  </thead>\n",
       "  <tbody>\n",
       "    <tr>\n",
       "      <th>No</th>\n",
       "      <td>565</td>\n",
       "      <td>565</td>\n",
       "    </tr>\n",
       "    <tr>\n",
       "      <th>Si</th>\n",
       "      <td>5</td>\n",
       "      <td>5</td>\n",
       "    </tr>\n",
       "    <tr>\n",
       "      <th>All</th>\n",
       "      <td>570</td>\n",
       "      <td>570</td>\n",
       "    </tr>\n",
       "  </tbody>\n",
       "</table>\n",
       "</div>"
      ],
      "text/plain": [
       "Predicho   No  All\n",
       "Actual            \n",
       "No        565  565\n",
       "Si          5    5\n",
       "All       570  570"
      ]
     },
     "execution_count": 64,
     "metadata": {},
     "output_type": "execute_result"
    }
   ],
   "source": [
    "y_actual = pd.Series(y_test, name = \"Actual\")\n",
    "y_predicted = pd.Series(y_pred, name = \"Predicho\")\n",
    "\n",
    "y_actual = y_actual.replace([0,1],[\"No\",\"Si\"])\n",
    "y_predicho = y_predicted.replace([0,1],[\"No\",\"Si\"])\n",
    "pd.crosstab(y_actual, y_predicho, margins=True)"
   ]
  },
  {
   "cell_type": "markdown",
   "metadata": {},
   "source": [
    "### Con penalizacion\n",
    "\n",
    "##### Usando sag solver y penalizacion l2"
   ]
  },
  {
   "cell_type": "code",
   "execution_count": 65,
   "metadata": {},
   "outputs": [
    {
     "name": "stdout",
     "output_type": "stream",
     "text": [
      "Accuracy of logistic regression classifier on test set: 0.53\n"
     ]
    },
    {
     "name": "stderr",
     "output_type": "stream",
     "text": [
      "C:\\Users\\Admin\\Anaconda\\lib\\site-packages\\sklearn\\linear_model\\sag.py:334: ConvergenceWarning: The max_iter was reached which means the coef_ did not converge\n",
      "  \"the coef_ did not converge\", ConvergenceWarning)\n"
     ]
    }
   ],
   "source": [
    "X_new_train = X_train.iloc[:, 27:31]\n",
    "X_new_test = X_test.iloc[:, 27:31]\n",
    "logreg = LogisticRegression(solver='lg', penalty='l2')\n",
    "logreg.fit(X_new_train, y_train)\n",
    "y_pred = logreg.predict(X_new_test)\n",
    "print('Accuracy of logistic regression classifier on test set: {:.2f}'.format(logreg.score(X_new_test, y_test)))"
   ]
  },
  {
   "cell_type": "code",
   "execution_count": 32,
   "metadata": {},
   "outputs": [
    {
     "data": {
      "text/html": [
       "<div>\n",
       "<style scoped>\n",
       "    .dataframe tbody tr th:only-of-type {\n",
       "        vertical-align: middle;\n",
       "    }\n",
       "\n",
       "    .dataframe tbody tr th {\n",
       "        vertical-align: top;\n",
       "    }\n",
       "\n",
       "    .dataframe thead th {\n",
       "        text-align: right;\n",
       "    }\n",
       "</style>\n",
       "<table border=\"1\" class=\"dataframe\">\n",
       "  <thead>\n",
       "    <tr style=\"text-align: right;\">\n",
       "      <th>Predicho</th>\n",
       "      <th>No</th>\n",
       "      <th>Si</th>\n",
       "      <th>All</th>\n",
       "    </tr>\n",
       "    <tr>\n",
       "      <th>Actual</th>\n",
       "      <th></th>\n",
       "      <th></th>\n",
       "      <th></th>\n",
       "    </tr>\n",
       "  </thead>\n",
       "  <tbody>\n",
       "    <tr>\n",
       "      <th>No</th>\n",
       "      <td>299</td>\n",
       "      <td>266</td>\n",
       "      <td>565</td>\n",
       "    </tr>\n",
       "    <tr>\n",
       "      <th>Si</th>\n",
       "      <td>3</td>\n",
       "      <td>2</td>\n",
       "      <td>5</td>\n",
       "    </tr>\n",
       "    <tr>\n",
       "      <th>All</th>\n",
       "      <td>302</td>\n",
       "      <td>268</td>\n",
       "      <td>570</td>\n",
       "    </tr>\n",
       "  </tbody>\n",
       "</table>\n",
       "</div>"
      ],
      "text/plain": [
       "Predicho   No   Si  All\n",
       "Actual                 \n",
       "No        299  266  565\n",
       "Si          3    2    5\n",
       "All       302  268  570"
      ]
     },
     "execution_count": 32,
     "metadata": {},
     "output_type": "execute_result"
    }
   ],
   "source": [
    "y_actual = pd.Series(y_test, name = \"Actual\")\n",
    "y_predicted = pd.Series(y_pred, name = \"Predicho\")\n",
    "\n",
    "y_actual = y_actual.replace([0,1],[\"No\",\"Si\"])\n",
    "y_predicho = y_predicted.replace([0,1],[\"No\",\"Si\"])\n",
    "pd.crosstab(y_actual, y_predicho, margins=True)"
   ]
  },
  {
   "cell_type": "markdown",
   "metadata": {},
   "source": [
    "##### Usando saga solver y penalizacion l2"
   ]
  },
  {
   "cell_type": "code",
   "execution_count": 76,
   "metadata": {},
   "outputs": [
    {
     "name": "stdout",
     "output_type": "stream",
     "text": [
      "Accuracy of logistic regression classifier on test set: 0.53\n"
     ]
    },
    {
     "name": "stderr",
     "output_type": "stream",
     "text": [
      "C:\\Users\\Admin\\Anaconda\\lib\\site-packages\\sklearn\\linear_model\\sag.py:334: ConvergenceWarning: The max_iter was reached which means the coef_ did not converge\n",
      "  \"the coef_ did not converge\", ConvergenceWarning)\n"
     ]
    }
   ],
   "source": [
    "X_new_train = X_train.iloc[:, 27:31]\n",
    "X_new_test = X_test.iloc[:, 27:31]\n",
    "logreg = LogisticRegression(solver='saga', penalty='l2')\n",
    "logreg.fit(X_new_train, y_train)\n",
    "y_pred = logreg.predict(X_new_test)\n",
    "print('Accuracy of logistic regression classifier on test set: {:.2f}'.format(logreg.score(X_new_test, y_test)))"
   ]
  },
  {
   "cell_type": "code",
   "execution_count": 77,
   "metadata": {},
   "outputs": [
    {
     "data": {
      "text/html": [
       "<div>\n",
       "<style scoped>\n",
       "    .dataframe tbody tr th:only-of-type {\n",
       "        vertical-align: middle;\n",
       "    }\n",
       "\n",
       "    .dataframe tbody tr th {\n",
       "        vertical-align: top;\n",
       "    }\n",
       "\n",
       "    .dataframe thead th {\n",
       "        text-align: right;\n",
       "    }\n",
       "</style>\n",
       "<table border=\"1\" class=\"dataframe\">\n",
       "  <thead>\n",
       "    <tr style=\"text-align: right;\">\n",
       "      <th>Predicho</th>\n",
       "      <th>No</th>\n",
       "      <th>Si</th>\n",
       "      <th>All</th>\n",
       "    </tr>\n",
       "    <tr>\n",
       "      <th>Actual</th>\n",
       "      <th></th>\n",
       "      <th></th>\n",
       "      <th></th>\n",
       "    </tr>\n",
       "  </thead>\n",
       "  <tbody>\n",
       "    <tr>\n",
       "      <th>No</th>\n",
       "      <td>302</td>\n",
       "      <td>263</td>\n",
       "      <td>565</td>\n",
       "    </tr>\n",
       "    <tr>\n",
       "      <th>Si</th>\n",
       "      <td>3</td>\n",
       "      <td>2</td>\n",
       "      <td>5</td>\n",
       "    </tr>\n",
       "    <tr>\n",
       "      <th>All</th>\n",
       "      <td>305</td>\n",
       "      <td>265</td>\n",
       "      <td>570</td>\n",
       "    </tr>\n",
       "  </tbody>\n",
       "</table>\n",
       "</div>"
      ],
      "text/plain": [
       "Predicho   No   Si  All\n",
       "Actual                 \n",
       "No        302  263  565\n",
       "Si          3    2    5\n",
       "All       305  265  570"
      ]
     },
     "execution_count": 77,
     "metadata": {},
     "output_type": "execute_result"
    }
   ],
   "source": [
    "y_actual = pd.Series(y_test, name = \"Actual\")\n",
    "y_predicted = pd.Series(y_pred, name = \"Predicho\")\n",
    "\n",
    "y_actual = y_actual.replace([0,1],[\"No\",\"Si\"])\n",
    "y_predicho = y_predicted.replace([0,1],[\"No\",\"Si\"])\n",
    "pd.crosstab(y_actual, y_predicho, margins=True)"
   ]
  },
  {
   "cell_type": "markdown",
   "metadata": {},
   "source": [
    "## PCA y Regresion logistica\n"
   ]
  },
  {
   "cell_type": "code",
   "execution_count": 38,
   "metadata": {},
   "outputs": [],
   "source": [
    "X_train = train.iloc[:, 1:3198]\n",
    "X_test = test.iloc[:, 1:3198]\n",
    "y_train = train[\"LABEL\"]\n",
    "y_test = test[\"LABEL\"]"
   ]
  },
  {
   "cell_type": "code",
   "execution_count": 39,
   "metadata": {},
   "outputs": [],
   "source": [
    "pca = skdc.PCA()\n",
    "pc = pca.fit_transform(X_train, y_train)\n"
   ]
  },
  {
   "cell_type": "code",
   "execution_count": 98,
   "metadata": {},
   "outputs": [
    {
     "name": "stdout",
     "output_type": "stream",
     "text": [
      "0       5.435289e-01\n",
      "1       1.576792e-01\n",
      "2       1.089686e-01\n",
      "3       5.310155e-02\n",
      "4       5.135426e-02\n",
      "5       1.852569e-02\n",
      "6       1.427272e-02\n",
      "7       1.338228e-02\n",
      "8       1.044143e-02\n",
      "9       6.862476e-03\n",
      "10      5.948178e-03\n",
      "11      3.863733e-03\n",
      "12      2.586211e-03\n",
      "13      1.616898e-03\n",
      "14      1.100061e-03\n",
      "15      7.288486e-04\n",
      "16      5.951435e-04\n",
      "17      5.245787e-04\n",
      "18      3.498080e-04\n",
      "19      3.371119e-04\n",
      "20      3.133841e-04\n",
      "21      2.905568e-04\n",
      "22      2.637147e-04\n",
      "23      2.524921e-04\n",
      "24      2.424707e-04\n",
      "25      2.295419e-04\n",
      "26      2.254891e-04\n",
      "27      2.197740e-04\n",
      "28      1.987973e-04\n",
      "29      1.869569e-04\n",
      "            ...     \n",
      "3167    5.066718e-12\n",
      "3168    5.025755e-12\n",
      "3169    4.975917e-12\n",
      "3170    4.938607e-12\n",
      "3171    4.907987e-12\n",
      "3172    4.851340e-12\n",
      "3173    4.816115e-12\n",
      "3174    4.795198e-12\n",
      "3175    4.760524e-12\n",
      "3176    4.706295e-12\n",
      "3177    4.650835e-12\n",
      "3178    4.639733e-12\n",
      "3179    4.614899e-12\n",
      "3180    4.531802e-12\n",
      "3181    4.506506e-12\n",
      "3182    4.468242e-12\n",
      "3183    4.414172e-12\n",
      "3184    4.381736e-12\n",
      "3185    4.332638e-12\n",
      "3186    4.293306e-12\n",
      "3187    4.255393e-12\n",
      "3188    4.188360e-12\n",
      "3189    4.168831e-12\n",
      "3190    4.127012e-12\n",
      "3191    4.122985e-12\n",
      "3192    4.086690e-12\n",
      "3193    4.007090e-12\n",
      "3194    3.955442e-12\n",
      "3195    3.885799e-12\n",
      "3196    3.811257e-12\n",
      "Length: 3197, dtype: float64\n"
     ]
    }
   ],
   "source": [
    "var_explained = pca.explained_variance_ratio_ \n",
    "print(pd.Series(var_explained))\n"
   ]
  },
  {
   "cell_type": "code",
   "execution_count": 40,
   "metadata": {},
   "outputs": [
    {
     "name": "stderr",
     "output_type": "stream",
     "text": [
      "C:\\Users\\Admin\\Anaconda\\lib\\site-packages\\sklearn\\linear_model\\logistic.py:758: ConvergenceWarning: lbfgs failed to converge. Increase the number of iterations.\n",
      "  \"of iterations.\", ConvergenceWarning)\n"
     ]
    },
    {
     "data": {
      "text/plain": [
       "LogisticRegression(C=1.0, class_weight=None, dual=False, fit_intercept=True,\n",
       "          intercept_scaling=1, max_iter=100, multi_class='warn',\n",
       "          n_jobs=None, penalty='l2', random_state=None, solver='lbfgs',\n",
       "          tol=0.0001, verbose=0, warm_start=False)"
      ]
     },
     "execution_count": 40,
     "metadata": {},
     "output_type": "execute_result"
    }
   ],
   "source": [
    "X_train = pd.DataFrame(X_train)\n",
    "X_test = pd.DataFrame(X_test)\n",
    "\n",
    "pca = skdc.PCA(n_components = 30) #only include first 10 components\n",
    "pc = pca.fit(X_train, y_train)\n",
    "X_train_pca = pc.transform(X_train)\n",
    "X_test_pca = pc.transform(X_test)\n",
    "\n",
    "logisticRegr = LogisticRegression(solver = 'lbfgs')\n",
    "\n",
    "logisticRegr.fit(X_train_pca, y_train)\n"
   ]
  },
  {
   "cell_type": "code",
   "execution_count": 41,
   "metadata": {},
   "outputs": [],
   "source": [
    "y_pred = logisticRegr.predict(X_test_pca)"
   ]
  },
  {
   "cell_type": "code",
   "execution_count": 42,
   "metadata": {},
   "outputs": [
    {
     "data": {
      "text/plain": [
       "0.887719298245614"
      ]
     },
     "execution_count": 42,
     "metadata": {},
     "output_type": "execute_result"
    }
   ],
   "source": [
    "logisticRegr.score(X_test_pca, y_test)"
   ]
  },
  {
   "cell_type": "code",
   "execution_count": 43,
   "metadata": {},
   "outputs": [],
   "source": [
    "y_actual = pd.Series(y_test, name = \"Actual\")\n",
    "y_predicted = pd.Series(y_pred, name = \"Predicho\")\n",
    "\n",
    "y_actual = y_actual.replace([0,1],[\"No\",\"Si\"])\n",
    "y_predicho = y_predicted.replace([0,1],[\"No\",\"Si\"])\n"
   ]
  },
  {
   "cell_type": "code",
   "execution_count": 44,
   "metadata": {},
   "outputs": [
    {
     "data": {
      "text/html": [
       "<div>\n",
       "<style scoped>\n",
       "    .dataframe tbody tr th:only-of-type {\n",
       "        vertical-align: middle;\n",
       "    }\n",
       "\n",
       "    .dataframe tbody tr th {\n",
       "        vertical-align: top;\n",
       "    }\n",
       "\n",
       "    .dataframe thead th {\n",
       "        text-align: right;\n",
       "    }\n",
       "</style>\n",
       "<table border=\"1\" class=\"dataframe\">\n",
       "  <thead>\n",
       "    <tr style=\"text-align: right;\">\n",
       "      <th>Predicho</th>\n",
       "      <th>No</th>\n",
       "      <th>Si</th>\n",
       "      <th>All</th>\n",
       "    </tr>\n",
       "    <tr>\n",
       "      <th>Actual</th>\n",
       "      <th></th>\n",
       "      <th></th>\n",
       "      <th></th>\n",
       "    </tr>\n",
       "  </thead>\n",
       "  <tbody>\n",
       "    <tr>\n",
       "      <th>No</th>\n",
       "      <td>504</td>\n",
       "      <td>61</td>\n",
       "      <td>565</td>\n",
       "    </tr>\n",
       "    <tr>\n",
       "      <th>Si</th>\n",
       "      <td>3</td>\n",
       "      <td>2</td>\n",
       "      <td>5</td>\n",
       "    </tr>\n",
       "    <tr>\n",
       "      <th>All</th>\n",
       "      <td>507</td>\n",
       "      <td>63</td>\n",
       "      <td>570</td>\n",
       "    </tr>\n",
       "  </tbody>\n",
       "</table>\n",
       "</div>"
      ],
      "text/plain": [
       "Predicho   No  Si  All\n",
       "Actual                \n",
       "No        504  61  565\n",
       "Si          3   2    5\n",
       "All       507  63  570"
      ]
     },
     "execution_count": 44,
     "metadata": {},
     "output_type": "execute_result"
    }
   ],
   "source": [
    "pd.crosstab(y_actual, y_predicho, margins=True)\n",
    "\n"
   ]
  },
  {
   "cell_type": "markdown",
   "metadata": {},
   "source": [
    "### Con penalizacion"
   ]
  },
  {
   "cell_type": "code",
   "execution_count": 49,
   "metadata": {},
   "outputs": [
    {
     "name": "stderr",
     "output_type": "stream",
     "text": [
      "C:\\Users\\Admin\\Anaconda\\lib\\site-packages\\sklearn\\linear_model\\sag.py:334: ConvergenceWarning: The max_iter was reached which means the coef_ did not converge\n",
      "  \"the coef_ did not converge\", ConvergenceWarning)\n"
     ]
    },
    {
     "data": {
      "text/plain": [
       "0.05087719298245614"
      ]
     },
     "execution_count": 49,
     "metadata": {},
     "output_type": "execute_result"
    }
   ],
   "source": [
    "X_train = pd.DataFrame(X_train)\n",
    "X_test = pd.DataFrame(X_test)\n",
    "\n",
    "pca = skdc.PCA(n_components = 30) #only include first 10 components\n",
    "pc = pca.fit(X_train, y_train)\n",
    "X_train_pca = pc.transform(X_train)\n",
    "X_test_pca = pc.transform(X_test)\n",
    "\n",
    "logisticRegr = LogisticRegression(solver = 'saga', penalty=\"l2\")\n",
    "\n",
    "logisticRegr.fit(X_train_pca, y_train)\n",
    "y_pred = logisticRegr.predict(X_test_pca)\n",
    "logisticRegr.score(X_test_pca, y_test)"
   ]
  },
  {
   "cell_type": "code",
   "execution_count": 50,
   "metadata": {},
   "outputs": [
    {
     "data": {
      "text/html": [
       "<div>\n",
       "<style scoped>\n",
       "    .dataframe tbody tr th:only-of-type {\n",
       "        vertical-align: middle;\n",
       "    }\n",
       "\n",
       "    .dataframe tbody tr th {\n",
       "        vertical-align: top;\n",
       "    }\n",
       "\n",
       "    .dataframe thead th {\n",
       "        text-align: right;\n",
       "    }\n",
       "</style>\n",
       "<table border=\"1\" class=\"dataframe\">\n",
       "  <thead>\n",
       "    <tr style=\"text-align: right;\">\n",
       "      <th>Predicho</th>\n",
       "      <th>No</th>\n",
       "      <th>Si</th>\n",
       "      <th>All</th>\n",
       "    </tr>\n",
       "    <tr>\n",
       "      <th>Actual</th>\n",
       "      <th></th>\n",
       "      <th></th>\n",
       "      <th></th>\n",
       "    </tr>\n",
       "  </thead>\n",
       "  <tbody>\n",
       "    <tr>\n",
       "      <th>No</th>\n",
       "      <td>26</td>\n",
       "      <td>539</td>\n",
       "      <td>565</td>\n",
       "    </tr>\n",
       "    <tr>\n",
       "      <th>Si</th>\n",
       "      <td>2</td>\n",
       "      <td>3</td>\n",
       "      <td>5</td>\n",
       "    </tr>\n",
       "    <tr>\n",
       "      <th>All</th>\n",
       "      <td>28</td>\n",
       "      <td>542</td>\n",
       "      <td>570</td>\n",
       "    </tr>\n",
       "  </tbody>\n",
       "</table>\n",
       "</div>"
      ],
      "text/plain": [
       "Predicho  No   Si  All\n",
       "Actual                \n",
       "No        26  539  565\n",
       "Si         2    3    5\n",
       "All       28  542  570"
      ]
     },
     "execution_count": 50,
     "metadata": {},
     "output_type": "execute_result"
    }
   ],
   "source": [
    "y_actual = pd.Series(y_test, name = \"Actual\")\n",
    "y_predicted = pd.Series(y_pred, name = \"Predicho\")\n",
    "\n",
    "y_actual = y_actual.replace([0,1],[\"No\",\"Si\"])\n",
    "y_predicho = y_predicted.replace([0,1],[\"No\",\"Si\"])\n",
    "pd.crosstab(y_actual, y_predicho, margins=True)"
   ]
  },
  {
   "cell_type": "markdown",
   "metadata": {},
   "source": [
    "## Tunning de componentes principales seleccionados\n",
    "\n",
    "#### Principal components = 50\n"
   ]
  },
  {
   "cell_type": "code",
   "execution_count": 40,
   "metadata": {},
   "outputs": [
    {
     "name": "stderr",
     "output_type": "stream",
     "text": [
      "C:\\Users\\Admin\\Anaconda\\lib\\site-packages\\sklearn\\linear_model\\logistic.py:758: ConvergenceWarning: lbfgs failed to converge. Increase the number of iterations.\n",
      "  \"of iterations.\", ConvergenceWarning)\n"
     ]
    },
    {
     "data": {
      "text/plain": [
       "0.9017543859649123"
      ]
     },
     "execution_count": 40,
     "metadata": {},
     "output_type": "execute_result"
    }
   ],
   "source": [
    "X_train = pd.DataFrame(X_train)\n",
    "X_test = pd.DataFrame(X_test)\n",
    "\n",
    "pca = skdc.PCA(n_components = 50) #only include first 10 components\n",
    "pc = pca.fit(X_train, y_train)\n",
    "X_train_pca = pc.transform(X_train)\n",
    "X_test_pca = pc.transform(X_test)\n",
    "\n",
    "logisticRegr = LogisticRegression(solver = 'lbfgs')\n",
    "\n",
    "logisticRegr.fit(X_train_pca, y_train)\n",
    "y_pred = logisticRegr.predict(X_test_pca)\n",
    "logisticRegr.score(X_test_pca, y_test)"
   ]
  },
  {
   "cell_type": "code",
   "execution_count": 41,
   "metadata": {},
   "outputs": [
    {
     "data": {
      "text/html": [
       "<div>\n",
       "<style scoped>\n",
       "    .dataframe tbody tr th:only-of-type {\n",
       "        vertical-align: middle;\n",
       "    }\n",
       "\n",
       "    .dataframe tbody tr th {\n",
       "        vertical-align: top;\n",
       "    }\n",
       "\n",
       "    .dataframe thead th {\n",
       "        text-align: right;\n",
       "    }\n",
       "</style>\n",
       "<table border=\"1\" class=\"dataframe\">\n",
       "  <thead>\n",
       "    <tr style=\"text-align: right;\">\n",
       "      <th>Predicho</th>\n",
       "      <th>No</th>\n",
       "      <th>Si</th>\n",
       "      <th>All</th>\n",
       "    </tr>\n",
       "    <tr>\n",
       "      <th>Actual</th>\n",
       "      <th></th>\n",
       "      <th></th>\n",
       "      <th></th>\n",
       "    </tr>\n",
       "  </thead>\n",
       "  <tbody>\n",
       "    <tr>\n",
       "      <th>No</th>\n",
       "      <td>511</td>\n",
       "      <td>54</td>\n",
       "      <td>565</td>\n",
       "    </tr>\n",
       "    <tr>\n",
       "      <th>Si</th>\n",
       "      <td>2</td>\n",
       "      <td>3</td>\n",
       "      <td>5</td>\n",
       "    </tr>\n",
       "    <tr>\n",
       "      <th>All</th>\n",
       "      <td>513</td>\n",
       "      <td>57</td>\n",
       "      <td>570</td>\n",
       "    </tr>\n",
       "  </tbody>\n",
       "</table>\n",
       "</div>"
      ],
      "text/plain": [
       "Predicho   No  Si  All\n",
       "Actual                \n",
       "No        511  54  565\n",
       "Si          2   3    5\n",
       "All       513  57  570"
      ]
     },
     "execution_count": 41,
     "metadata": {},
     "output_type": "execute_result"
    }
   ],
   "source": [
    "y_actual = pd.Series(y_test, name = \"Actual\")\n",
    "y_predicted = pd.Series(y_pred, name = \"Predicho\")\n",
    "\n",
    "y_actual = y_actual.replace([0,1],[\"No\",\"Si\"])\n",
    "y_predicho = y_predicted.replace([0,1],[\"No\",\"Si\"])\n",
    "pd.crosstab(y_actual, y_predicho, margins=True)\n",
    "\n"
   ]
  },
  {
   "cell_type": "markdown",
   "metadata": {},
   "source": [
    "#### Principal components = 100\n"
   ]
  },
  {
   "cell_type": "code",
   "execution_count": 42,
   "metadata": {},
   "outputs": [
    {
     "name": "stderr",
     "output_type": "stream",
     "text": [
      "C:\\Users\\Admin\\Anaconda\\lib\\site-packages\\sklearn\\linear_model\\logistic.py:758: ConvergenceWarning: lbfgs failed to converge. Increase the number of iterations.\n",
      "  \"of iterations.\", ConvergenceWarning)\n"
     ]
    },
    {
     "data": {
      "text/plain": [
       "0.9140350877192982"
      ]
     },
     "execution_count": 42,
     "metadata": {},
     "output_type": "execute_result"
    }
   ],
   "source": [
    "X_train = pd.DataFrame(X_train)\n",
    "X_test = pd.DataFrame(X_test)\n",
    "\n",
    "pca = skdc.PCA(n_components = 100) #only include first 10 components\n",
    "pc = pca.fit(X_train, y_train)\n",
    "X_train_pca = pc.transform(X_train)\n",
    "X_test_pca = pc.transform(X_test)\n",
    "\n",
    "logisticRegr = LogisticRegression(solver = 'lbfgs')\n",
    "\n",
    "logisticRegr.fit(X_train_pca, y_train)\n",
    "y_pred = logisticRegr.predict(X_test_pca)\n",
    "logisticRegr.score(X_test_pca, y_test)"
   ]
  },
  {
   "cell_type": "code",
   "execution_count": 43,
   "metadata": {},
   "outputs": [
    {
     "data": {
      "text/html": [
       "<div>\n",
       "<style scoped>\n",
       "    .dataframe tbody tr th:only-of-type {\n",
       "        vertical-align: middle;\n",
       "    }\n",
       "\n",
       "    .dataframe tbody tr th {\n",
       "        vertical-align: top;\n",
       "    }\n",
       "\n",
       "    .dataframe thead th {\n",
       "        text-align: right;\n",
       "    }\n",
       "</style>\n",
       "<table border=\"1\" class=\"dataframe\">\n",
       "  <thead>\n",
       "    <tr style=\"text-align: right;\">\n",
       "      <th>Predicho</th>\n",
       "      <th>No</th>\n",
       "      <th>Si</th>\n",
       "      <th>All</th>\n",
       "    </tr>\n",
       "    <tr>\n",
       "      <th>Actual</th>\n",
       "      <th></th>\n",
       "      <th></th>\n",
       "      <th></th>\n",
       "    </tr>\n",
       "  </thead>\n",
       "  <tbody>\n",
       "    <tr>\n",
       "      <th>No</th>\n",
       "      <td>519</td>\n",
       "      <td>46</td>\n",
       "      <td>565</td>\n",
       "    </tr>\n",
       "    <tr>\n",
       "      <th>Si</th>\n",
       "      <td>3</td>\n",
       "      <td>2</td>\n",
       "      <td>5</td>\n",
       "    </tr>\n",
       "    <tr>\n",
       "      <th>All</th>\n",
       "      <td>522</td>\n",
       "      <td>48</td>\n",
       "      <td>570</td>\n",
       "    </tr>\n",
       "  </tbody>\n",
       "</table>\n",
       "</div>"
      ],
      "text/plain": [
       "Predicho   No  Si  All\n",
       "Actual                \n",
       "No        519  46  565\n",
       "Si          3   2    5\n",
       "All       522  48  570"
      ]
     },
     "execution_count": 43,
     "metadata": {},
     "output_type": "execute_result"
    }
   ],
   "source": [
    "y_actual = pd.Series(y_test, name = \"Actual\")\n",
    "y_predicted = pd.Series(y_pred, name = \"Predicho\")\n",
    "\n",
    "y_actual = y_actual.replace([0,1],[\"No\",\"Si\"])\n",
    "y_predicho = y_predicted.replace([0,1],[\"No\",\"Si\"])\n",
    "pd.crosstab(y_actual, y_predicho, margins=True)\n"
   ]
  },
  {
   "cell_type": "markdown",
   "metadata": {},
   "source": [
    "#### Principal components = 150"
   ]
  },
  {
   "cell_type": "code",
   "execution_count": 51,
   "metadata": {},
   "outputs": [
    {
     "name": "stderr",
     "output_type": "stream",
     "text": [
      "C:\\Users\\Admin\\Anaconda\\lib\\site-packages\\sklearn\\linear_model\\logistic.py:758: ConvergenceWarning: lbfgs failed to converge. Increase the number of iterations.\n",
      "  \"of iterations.\", ConvergenceWarning)\n"
     ]
    },
    {
     "data": {
      "text/plain": [
       "0.9157894736842105"
      ]
     },
     "execution_count": 51,
     "metadata": {},
     "output_type": "execute_result"
    }
   ],
   "source": [
    "X_train = pd.DataFrame(X_train)\n",
    "X_test = pd.DataFrame(X_test)\n",
    "\n",
    "pca = skdc.PCA(n_components = 200) #only include first 10 components\n",
    "pc = pca.fit(X_train, y_train)\n",
    "X_train_pca = pc.transform(X_train)\n",
    "X_test_pca = pc.transform(X_test)\n",
    "\n",
    "logisticRegr = LogisticRegression(solver = 'lbfgs')\n",
    "\n",
    "logisticRegr.fit(X_train_pca, y_train)\n",
    "y_pred = logisticRegr.predict(X_test_pca)\n",
    "logisticRegr.score(X_test_pca, y_test)"
   ]
  },
  {
   "cell_type": "code",
   "execution_count": 52,
   "metadata": {},
   "outputs": [
    {
     "data": {
      "text/html": [
       "<div>\n",
       "<style scoped>\n",
       "    .dataframe tbody tr th:only-of-type {\n",
       "        vertical-align: middle;\n",
       "    }\n",
       "\n",
       "    .dataframe tbody tr th {\n",
       "        vertical-align: top;\n",
       "    }\n",
       "\n",
       "    .dataframe thead th {\n",
       "        text-align: right;\n",
       "    }\n",
       "</style>\n",
       "<table border=\"1\" class=\"dataframe\">\n",
       "  <thead>\n",
       "    <tr style=\"text-align: right;\">\n",
       "      <th>Predicho</th>\n",
       "      <th>No</th>\n",
       "      <th>Si</th>\n",
       "      <th>All</th>\n",
       "    </tr>\n",
       "    <tr>\n",
       "      <th>Actual</th>\n",
       "      <th></th>\n",
       "      <th></th>\n",
       "      <th></th>\n",
       "    </tr>\n",
       "  </thead>\n",
       "  <tbody>\n",
       "    <tr>\n",
       "      <th>No</th>\n",
       "      <td>519</td>\n",
       "      <td>46</td>\n",
       "      <td>565</td>\n",
       "    </tr>\n",
       "    <tr>\n",
       "      <th>Si</th>\n",
       "      <td>2</td>\n",
       "      <td>3</td>\n",
       "      <td>5</td>\n",
       "    </tr>\n",
       "    <tr>\n",
       "      <th>All</th>\n",
       "      <td>521</td>\n",
       "      <td>49</td>\n",
       "      <td>570</td>\n",
       "    </tr>\n",
       "  </tbody>\n",
       "</table>\n",
       "</div>"
      ],
      "text/plain": [
       "Predicho   No  Si  All\n",
       "Actual                \n",
       "No        519  46  565\n",
       "Si          2   3    5\n",
       "All       521  49  570"
      ]
     },
     "execution_count": 52,
     "metadata": {},
     "output_type": "execute_result"
    }
   ],
   "source": [
    "y_actual = pd.Series(y_test, name = \"Actual\")\n",
    "y_predicted = pd.Series(y_pred, name = \"Predicho\")\n",
    "\n",
    "y_actual = y_actual.replace([0,1],[\"No\",\"Si\"])\n",
    "y_predicho = y_predicted.replace([0,1],[\"No\",\"Si\"])\n",
    "pd.crosstab(y_actual, y_predicho, margins=True)"
   ]
  },
  {
   "cell_type": "markdown",
   "metadata": {},
   "source": [
    "###### con regularizacion"
   ]
  },
  {
   "cell_type": "code",
   "execution_count": 60,
   "metadata": {
    "scrolled": true
   },
   "outputs": [
    {
     "name": "stderr",
     "output_type": "stream",
     "text": [
      "C:\\Users\\Admin\\Anaconda\\lib\\site-packages\\sklearn\\linear_model\\logistic.py:758: ConvergenceWarning: lbfgs failed to converge. Increase the number of iterations.\n",
      "  \"of iterations.\", ConvergenceWarning)\n"
     ]
    },
    {
     "data": {
      "text/plain": [
       "0.9228070175438596"
      ]
     },
     "execution_count": 60,
     "metadata": {},
     "output_type": "execute_result"
    }
   ],
   "source": [
    "X_train = pd.DataFrame(X_train)\n",
    "X_test = pd.DataFrame(X_test)\n",
    "\n",
    "pca = skdc.PCA(n_components = 200) #only include first 10 components\n",
    "pc = pca.fit(X_train, y_train)\n",
    "X_train_pca = pc.transform(X_train)\n",
    "X_test_pca = pc.transform(X_test)\n",
    "\n",
    "logisticRegr = LogisticRegression(solver = 'lbfgs')\n",
    "\n",
    "logisticRegr.fit(X_train_pca, y_train)\n",
    "y_pred = logisticRegr.predict(X_test_pca)\n",
    "logisticRegr.score(X_test_pca, y_test)"
   ]
  },
  {
   "cell_type": "code",
   "execution_count": 61,
   "metadata": {},
   "outputs": [
    {
     "data": {
      "text/html": [
       "<div>\n",
       "<style scoped>\n",
       "    .dataframe tbody tr th:only-of-type {\n",
       "        vertical-align: middle;\n",
       "    }\n",
       "\n",
       "    .dataframe tbody tr th {\n",
       "        vertical-align: top;\n",
       "    }\n",
       "\n",
       "    .dataframe thead th {\n",
       "        text-align: right;\n",
       "    }\n",
       "</style>\n",
       "<table border=\"1\" class=\"dataframe\">\n",
       "  <thead>\n",
       "    <tr style=\"text-align: right;\">\n",
       "      <th>Predicho</th>\n",
       "      <th>No</th>\n",
       "      <th>Si</th>\n",
       "      <th>All</th>\n",
       "    </tr>\n",
       "    <tr>\n",
       "      <th>Actual</th>\n",
       "      <th></th>\n",
       "      <th></th>\n",
       "      <th></th>\n",
       "    </tr>\n",
       "  </thead>\n",
       "  <tbody>\n",
       "    <tr>\n",
       "      <th>No</th>\n",
       "      <td>523</td>\n",
       "      <td>42</td>\n",
       "      <td>565</td>\n",
       "    </tr>\n",
       "    <tr>\n",
       "      <th>Si</th>\n",
       "      <td>2</td>\n",
       "      <td>3</td>\n",
       "      <td>5</td>\n",
       "    </tr>\n",
       "    <tr>\n",
       "      <th>All</th>\n",
       "      <td>525</td>\n",
       "      <td>45</td>\n",
       "      <td>570</td>\n",
       "    </tr>\n",
       "  </tbody>\n",
       "</table>\n",
       "</div>"
      ],
      "text/plain": [
       "Predicho   No  Si  All\n",
       "Actual                \n",
       "No        523  42  565\n",
       "Si          2   3    5\n",
       "All       525  45  570"
      ]
     },
     "execution_count": 61,
     "metadata": {},
     "output_type": "execute_result"
    }
   ],
   "source": [
    "y_actual = pd.Series(y_test, name = \"Actual\")\n",
    "y_predicted = pd.Series(y_pred, name = \"Predicho\")\n",
    "\n",
    "y_actual = y_actual.replace([0,1],[\"No\",\"Si\"])\n",
    "y_predicho = y_predicted.replace([0,1],[\"No\",\"Si\"])\n",
    "pd.crosstab(y_actual, y_predicho, margins=True)"
   ]
  },
  {
   "cell_type": "markdown",
   "metadata": {},
   "source": [
    "#### saga solver"
   ]
  },
  {
   "cell_type": "code",
   "execution_count": 81,
   "metadata": {},
   "outputs": [
    {
     "name": "stderr",
     "output_type": "stream",
     "text": [
      "C:\\Users\\Admin\\Anaconda\\lib\\site-packages\\sklearn\\linear_model\\sag.py:334: ConvergenceWarning: The max_iter was reached which means the coef_ did not converge\n",
      "  \"the coef_ did not converge\", ConvergenceWarning)\n"
     ]
    },
    {
     "data": {
      "text/plain": [
       "0.10350877192982456"
      ]
     },
     "execution_count": 81,
     "metadata": {},
     "output_type": "execute_result"
    }
   ],
   "source": [
    "X_train = pd.DataFrame(X_train)\n",
    "X_test = pd.DataFrame(X_test)\n",
    "\n",
    "pca = skdc.PCA(n_components = 200) #only include first 10 components\n",
    "pc = pca.fit(X_train, y_train)\n",
    "X_train_pca = pc.transform(X_train)\n",
    "X_test_pca = pc.transform(X_test)\n",
    "\n",
    "logisticRegr = LogisticRegression(solver = 'saga', penalty='l1')\n",
    "\n",
    "logisticRegr.fit(X_train_pca, y_train)\n",
    "y_pred = logisticRegr.predict(X_test_pca)\n",
    "logisticRegr.score(X_test_pca, y_test)"
   ]
  },
  {
   "cell_type": "code",
   "execution_count": 82,
   "metadata": {},
   "outputs": [
    {
     "data": {
      "text/html": [
       "<div>\n",
       "<style scoped>\n",
       "    .dataframe tbody tr th:only-of-type {\n",
       "        vertical-align: middle;\n",
       "    }\n",
       "\n",
       "    .dataframe tbody tr th {\n",
       "        vertical-align: top;\n",
       "    }\n",
       "\n",
       "    .dataframe thead th {\n",
       "        text-align: right;\n",
       "    }\n",
       "</style>\n",
       "<table border=\"1\" class=\"dataframe\">\n",
       "  <thead>\n",
       "    <tr style=\"text-align: right;\">\n",
       "      <th>Predicho</th>\n",
       "      <th>No</th>\n",
       "      <th>Si</th>\n",
       "      <th>All</th>\n",
       "    </tr>\n",
       "    <tr>\n",
       "      <th>Actual</th>\n",
       "      <th></th>\n",
       "      <th></th>\n",
       "      <th></th>\n",
       "    </tr>\n",
       "  </thead>\n",
       "  <tbody>\n",
       "    <tr>\n",
       "      <th>No</th>\n",
       "      <td>56</td>\n",
       "      <td>509</td>\n",
       "      <td>565</td>\n",
       "    </tr>\n",
       "    <tr>\n",
       "      <th>Si</th>\n",
       "      <td>2</td>\n",
       "      <td>3</td>\n",
       "      <td>5</td>\n",
       "    </tr>\n",
       "    <tr>\n",
       "      <th>All</th>\n",
       "      <td>58</td>\n",
       "      <td>512</td>\n",
       "      <td>570</td>\n",
       "    </tr>\n",
       "  </tbody>\n",
       "</table>\n",
       "</div>"
      ],
      "text/plain": [
       "Predicho  No   Si  All\n",
       "Actual                \n",
       "No        56  509  565\n",
       "Si         2    3    5\n",
       "All       58  512  570"
      ]
     },
     "execution_count": 82,
     "metadata": {},
     "output_type": "execute_result"
    }
   ],
   "source": [
    "y_actual = pd.Series(y_test, name = \"Actual\")\n",
    "y_predicted = pd.Series(y_pred, name = \"Predicho\")\n",
    "\n",
    "y_actual = y_actual.replace([0,1],[\"No\",\"Si\"])\n",
    "y_predicho = y_predicted.replace([0,1],[\"No\",\"Si\"])\n",
    "pd.crosstab(y_actual, y_predicho, margins=True)"
   ]
  },
  {
   "cell_type": "markdown",
   "metadata": {},
   "source": [
    "#### Principal components = 300"
   ]
  },
  {
   "cell_type": "code",
   "execution_count": 83,
   "metadata": {},
   "outputs": [
    {
     "name": "stderr",
     "output_type": "stream",
     "text": [
      "C:\\Users\\Admin\\Anaconda\\lib\\site-packages\\sklearn\\linear_model\\logistic.py:758: ConvergenceWarning: lbfgs failed to converge. Increase the number of iterations.\n",
      "  \"of iterations.\", ConvergenceWarning)\n"
     ]
    },
    {
     "data": {
      "text/plain": [
       "0.9140350877192982"
      ]
     },
     "execution_count": 83,
     "metadata": {},
     "output_type": "execute_result"
    }
   ],
   "source": [
    "X_train = pd.DataFrame(X_train)\n",
    "X_test = pd.DataFrame(X_test)\n",
    "\n",
    "pca = skdc.PCA(n_components = 300) #only include first 10 components\n",
    "pc = pca.fit(X_train, y_train)\n",
    "X_train_pca = pc.transform(X_train)\n",
    "X_test_pca = pc.transform(X_test)\n",
    "\n",
    "logisticRegr = LogisticRegression(solver = 'lbfgs', penalty='l2')\n",
    "\n",
    "logisticRegr.fit(X_train_pca, y_train)\n",
    "y_pred = logisticRegr.predict(X_test_pca)\n",
    "logisticRegr.score(X_test_pca, y_test)"
   ]
  },
  {
   "cell_type": "code",
   "execution_count": 84,
   "metadata": {},
   "outputs": [
    {
     "data": {
      "text/html": [
       "<div>\n",
       "<style scoped>\n",
       "    .dataframe tbody tr th:only-of-type {\n",
       "        vertical-align: middle;\n",
       "    }\n",
       "\n",
       "    .dataframe tbody tr th {\n",
       "        vertical-align: top;\n",
       "    }\n",
       "\n",
       "    .dataframe thead th {\n",
       "        text-align: right;\n",
       "    }\n",
       "</style>\n",
       "<table border=\"1\" class=\"dataframe\">\n",
       "  <thead>\n",
       "    <tr style=\"text-align: right;\">\n",
       "      <th>Predicho</th>\n",
       "      <th>No</th>\n",
       "      <th>Si</th>\n",
       "      <th>All</th>\n",
       "    </tr>\n",
       "    <tr>\n",
       "      <th>Actual</th>\n",
       "      <th></th>\n",
       "      <th></th>\n",
       "      <th></th>\n",
       "    </tr>\n",
       "  </thead>\n",
       "  <tbody>\n",
       "    <tr>\n",
       "      <th>No</th>\n",
       "      <td>518</td>\n",
       "      <td>47</td>\n",
       "      <td>565</td>\n",
       "    </tr>\n",
       "    <tr>\n",
       "      <th>Si</th>\n",
       "      <td>2</td>\n",
       "      <td>3</td>\n",
       "      <td>5</td>\n",
       "    </tr>\n",
       "    <tr>\n",
       "      <th>All</th>\n",
       "      <td>520</td>\n",
       "      <td>50</td>\n",
       "      <td>570</td>\n",
       "    </tr>\n",
       "  </tbody>\n",
       "</table>\n",
       "</div>"
      ],
      "text/plain": [
       "Predicho   No  Si  All\n",
       "Actual                \n",
       "No        518  47  565\n",
       "Si          2   3    5\n",
       "All       520  50  570"
      ]
     },
     "execution_count": 84,
     "metadata": {},
     "output_type": "execute_result"
    }
   ],
   "source": [
    "y_actual = pd.Series(y_test, name = \"Actual\")\n",
    "y_predicted = pd.Series(y_pred, name = \"Predicho\")\n",
    "\n",
    "y_actual = y_actual.replace([0,1],[\"No\",\"Si\"])\n",
    "y_predicho = y_predicted.replace([0,1],[\"No\",\"Si\"])\n",
    "pd.crosstab(y_actual, y_predicho, margins=True)"
   ]
  },
  {
   "cell_type": "markdown",
   "metadata": {},
   "source": [
    "##### saga solver"
   ]
  },
  {
   "cell_type": "code",
   "execution_count": 86,
   "metadata": {},
   "outputs": [
    {
     "name": "stderr",
     "output_type": "stream",
     "text": [
      "C:\\Users\\Admin\\Anaconda\\lib\\site-packages\\sklearn\\linear_model\\sag.py:334: ConvergenceWarning: The max_iter was reached which means the coef_ did not converge\n",
      "  \"the coef_ did not converge\", ConvergenceWarning)\n"
     ]
    },
    {
     "data": {
      "text/plain": [
       "0.06140350877192982"
      ]
     },
     "execution_count": 86,
     "metadata": {},
     "output_type": "execute_result"
    }
   ],
   "source": [
    "X_train = pd.DataFrame(X_train)\n",
    "X_test = pd.DataFrame(X_test)\n",
    "\n",
    "pca = skdc.PCA(n_components = 300) #only include first 10 components\n",
    "pc = pca.fit(X_train, y_train)\n",
    "X_train_pca = pc.transform(X_train)\n",
    "X_test_pca = pc.transform(X_test)\n",
    "\n",
    "logisticRegr = LogisticRegression(solver = 'saga', penalty='l2')\n",
    "\n",
    "logisticRegr.fit(X_train_pca, y_train)\n",
    "y_pred = logisticRegr.predict(X_test_pca)\n",
    "logisticRegr.score(X_test_pca, y_test)"
   ]
  },
  {
   "cell_type": "code",
   "execution_count": 87,
   "metadata": {},
   "outputs": [
    {
     "data": {
      "text/html": [
       "<div>\n",
       "<style scoped>\n",
       "    .dataframe tbody tr th:only-of-type {\n",
       "        vertical-align: middle;\n",
       "    }\n",
       "\n",
       "    .dataframe tbody tr th {\n",
       "        vertical-align: top;\n",
       "    }\n",
       "\n",
       "    .dataframe thead th {\n",
       "        text-align: right;\n",
       "    }\n",
       "</style>\n",
       "<table border=\"1\" class=\"dataframe\">\n",
       "  <thead>\n",
       "    <tr style=\"text-align: right;\">\n",
       "      <th>Predicho</th>\n",
       "      <th>No</th>\n",
       "      <th>Si</th>\n",
       "      <th>All</th>\n",
       "    </tr>\n",
       "    <tr>\n",
       "      <th>Actual</th>\n",
       "      <th></th>\n",
       "      <th></th>\n",
       "      <th></th>\n",
       "    </tr>\n",
       "  </thead>\n",
       "  <tbody>\n",
       "    <tr>\n",
       "      <th>No</th>\n",
       "      <td>31</td>\n",
       "      <td>534</td>\n",
       "      <td>565</td>\n",
       "    </tr>\n",
       "    <tr>\n",
       "      <th>Si</th>\n",
       "      <td>1</td>\n",
       "      <td>4</td>\n",
       "      <td>5</td>\n",
       "    </tr>\n",
       "    <tr>\n",
       "      <th>All</th>\n",
       "      <td>32</td>\n",
       "      <td>538</td>\n",
       "      <td>570</td>\n",
       "    </tr>\n",
       "  </tbody>\n",
       "</table>\n",
       "</div>"
      ],
      "text/plain": [
       "Predicho  No   Si  All\n",
       "Actual                \n",
       "No        31  534  565\n",
       "Si         1    4    5\n",
       "All       32  538  570"
      ]
     },
     "execution_count": 87,
     "metadata": {},
     "output_type": "execute_result"
    }
   ],
   "source": [
    "y_actual = pd.Series(y_test, name = \"Actual\")\n",
    "y_predicted = pd.Series(y_pred, name = \"Predicho\")\n",
    "\n",
    "y_actual = y_actual.replace([0,1],[\"No\",\"Si\"])\n",
    "y_predicho = y_predicted.replace([0,1],[\"No\",\"Si\"])\n",
    "pd.crosstab(y_actual, y_predicho, margins=True)"
   ]
  },
  {
   "cell_type": "markdown",
   "metadata": {},
   "source": [
    "## SVM "
   ]
  },
  {
   "cell_type": "code",
   "execution_count": 98,
   "metadata": {},
   "outputs": [],
   "source": [
    "X_train = train.iloc[:, 1:3198]\n",
    "X_test = test.iloc[:, 1:3198]\n",
    "y_train = train[\"LABEL\"]\n",
    "y_test = test[\"LABEL\"]"
   ]
  },
  {
   "cell_type": "code",
   "execution_count": 101,
   "metadata": {},
   "outputs": [
    {
     "data": {
      "text/plain": [
       "SVC(C=1.0, cache_size=200, class_weight=None, coef0=0.0,\n",
       "  decision_function_shape='ovr', degree=3, gamma='auto', kernel='rbf',\n",
       "  max_iter=-1, probability=False, random_state=None, shrinking=True,\n",
       "  tol=0.001, verbose=False)"
      ]
     },
     "execution_count": 101,
     "metadata": {},
     "output_type": "execute_result"
    }
   ],
   "source": [
    "clf = SVC(gamma='scale')\n",
    "clf.fit(X_train, y_train) \n",
    "SVC(C=1.0, cache_size=200, class_weight=None, coef0=0.0,\n",
    "    decision_function_shape='ovr', degree=3, gamma='auto', kernel='rbf',\n",
    "    max_iter=-1, probability=False, random_state=None, shrinking=True,\n",
    "    tol=0.001, verbose=False)\n"
   ]
  },
  {
   "cell_type": "code",
   "execution_count": 102,
   "metadata": {},
   "outputs": [
    {
     "data": {
      "text/plain": [
       "0.9948889325732259"
      ]
     },
     "execution_count": 102,
     "metadata": {},
     "output_type": "execute_result"
    }
   ],
   "source": [
    "clf.score(X_train, y_train)"
   ]
  },
  {
   "cell_type": "code",
   "execution_count": 103,
   "metadata": {},
   "outputs": [
    {
     "data": {
      "text/plain": [
       "0.9912280701754386"
      ]
     },
     "execution_count": 103,
     "metadata": {},
     "output_type": "execute_result"
    }
   ],
   "source": [
    "clf.score(X_test, y_test)"
   ]
  },
  {
   "cell_type": "code",
   "execution_count": 105,
   "metadata": {},
   "outputs": [],
   "source": [
    "y_pred= clf.predict(X_test)"
   ]
  },
  {
   "cell_type": "code",
   "execution_count": 106,
   "metadata": {},
   "outputs": [
    {
     "data": {
      "text/html": [
       "<div>\n",
       "<style scoped>\n",
       "    .dataframe tbody tr th:only-of-type {\n",
       "        vertical-align: middle;\n",
       "    }\n",
       "\n",
       "    .dataframe tbody tr th {\n",
       "        vertical-align: top;\n",
       "    }\n",
       "\n",
       "    .dataframe thead th {\n",
       "        text-align: right;\n",
       "    }\n",
       "</style>\n",
       "<table border=\"1\" class=\"dataframe\">\n",
       "  <thead>\n",
       "    <tr style=\"text-align: right;\">\n",
       "      <th>Predicho</th>\n",
       "      <th>No</th>\n",
       "      <th>All</th>\n",
       "    </tr>\n",
       "    <tr>\n",
       "      <th>Actual</th>\n",
       "      <th></th>\n",
       "      <th></th>\n",
       "    </tr>\n",
       "  </thead>\n",
       "  <tbody>\n",
       "    <tr>\n",
       "      <th>No</th>\n",
       "      <td>565</td>\n",
       "      <td>565</td>\n",
       "    </tr>\n",
       "    <tr>\n",
       "      <th>Si</th>\n",
       "      <td>5</td>\n",
       "      <td>5</td>\n",
       "    </tr>\n",
       "    <tr>\n",
       "      <th>All</th>\n",
       "      <td>570</td>\n",
       "      <td>570</td>\n",
       "    </tr>\n",
       "  </tbody>\n",
       "</table>\n",
       "</div>"
      ],
      "text/plain": [
       "Predicho   No  All\n",
       "Actual            \n",
       "No        565  565\n",
       "Si          5    5\n",
       "All       570  570"
      ]
     },
     "execution_count": 106,
     "metadata": {},
     "output_type": "execute_result"
    }
   ],
   "source": [
    "y_actual = pd.Series(y_test, name = \"Actual\")\n",
    "y_predicted = pd.Series(y_pred, name = \"Predicho\")\n",
    "\n",
    "y_actual = y_actual.replace([0,1],[\"No\",\"Si\"])\n",
    "y_predicho = y_predicted.replace([0,1],[\"No\",\"Si\"])\n",
    "pd.crosstab(y_actual, y_predicho, margins=True)"
   ]
  },
  {
   "cell_type": "markdown",
   "metadata": {},
   "source": [
    "### SVM modelo 2"
   ]
  },
  {
   "cell_type": "code",
   "execution_count": 107,
   "metadata": {},
   "outputs": [
    {
     "data": {
      "text/plain": [
       "SVC(C=1.0, cache_size=200, class_weight=None, coef0=0.0,\n",
       "  decision_function_shape='ovr', degree=3, gamma=0.5, kernel='linear',\n",
       "  max_iter=-1, probability=False, random_state=None, shrinking=True,\n",
       "  tol=0.001, verbose=False)"
      ]
     },
     "execution_count": 107,
     "metadata": {},
     "output_type": "execute_result"
    }
   ],
   "source": [
    "clf = SVC(gamma='scale')\n",
    "clf.fit(X_train, y_train) \n",
    "SVC(C=1.0, cache_size=200, class_weight=None, coef0=0.0,\n",
    "    decision_function_shape='ovr', degree=3, gamma=0.5, kernel='linear',\n",
    "    max_iter=-1, probability=False, random_state=None, shrinking=True,\n",
    "    tol=0.001, verbose=False)\n"
   ]
  },
  {
   "cell_type": "code",
   "execution_count": 108,
   "metadata": {},
   "outputs": [
    {
     "name": "stdout",
     "output_type": "stream",
     "text": [
      "('train score:', 0.9948889325732259)\n",
      "('test score:', 0.9912280701754386)\n"
     ]
    }
   ],
   "source": [
    "print('train score:', clf.score(X_train, y_train))\n",
    "print('test score:', clf.score(X_test, y_test))\n",
    "y_pred= clf.predict(X_test)"
   ]
  },
  {
   "cell_type": "code",
   "execution_count": 109,
   "metadata": {},
   "outputs": [
    {
     "data": {
      "text/html": [
       "<div>\n",
       "<style scoped>\n",
       "    .dataframe tbody tr th:only-of-type {\n",
       "        vertical-align: middle;\n",
       "    }\n",
       "\n",
       "    .dataframe tbody tr th {\n",
       "        vertical-align: top;\n",
       "    }\n",
       "\n",
       "    .dataframe thead th {\n",
       "        text-align: right;\n",
       "    }\n",
       "</style>\n",
       "<table border=\"1\" class=\"dataframe\">\n",
       "  <thead>\n",
       "    <tr style=\"text-align: right;\">\n",
       "      <th>Predicho</th>\n",
       "      <th>No</th>\n",
       "      <th>All</th>\n",
       "    </tr>\n",
       "    <tr>\n",
       "      <th>Actual</th>\n",
       "      <th></th>\n",
       "      <th></th>\n",
       "    </tr>\n",
       "  </thead>\n",
       "  <tbody>\n",
       "    <tr>\n",
       "      <th>No</th>\n",
       "      <td>565</td>\n",
       "      <td>565</td>\n",
       "    </tr>\n",
       "    <tr>\n",
       "      <th>Si</th>\n",
       "      <td>5</td>\n",
       "      <td>5</td>\n",
       "    </tr>\n",
       "    <tr>\n",
       "      <th>All</th>\n",
       "      <td>570</td>\n",
       "      <td>570</td>\n",
       "    </tr>\n",
       "  </tbody>\n",
       "</table>\n",
       "</div>"
      ],
      "text/plain": [
       "Predicho   No  All\n",
       "Actual            \n",
       "No        565  565\n",
       "Si          5    5\n",
       "All       570  570"
      ]
     },
     "execution_count": 109,
     "metadata": {},
     "output_type": "execute_result"
    }
   ],
   "source": [
    "y_actual = pd.Series(y_test, name = \"Actual\")\n",
    "y_predicted = pd.Series(y_pred, name = \"Predicho\")\n",
    "\n",
    "y_actual = y_actual.replace([0,1],[\"No\",\"Si\"])\n",
    "y_predicho = y_predicted.replace([0,1],[\"No\",\"Si\"])\n",
    "pd.crosstab(y_actual, y_predicho, margins=True)"
   ]
  },
  {
   "cell_type": "markdown",
   "metadata": {},
   "source": [
    "### SVM modelo 3"
   ]
  },
  {
   "cell_type": "code",
   "execution_count": 122,
   "metadata": {},
   "outputs": [
    {
     "data": {
      "text/plain": [
       "SVC(C=2, cache_size=200, class_weight={1: 10}, coef0=0.0,\n",
       "  decision_function_shape='ovr', degree=3, gamma=0.7, kernel='linear',\n",
       "  max_iter=-1, probability=False, random_state=None, shrinking=True,\n",
       "  tol=0.001, verbose=False)"
      ]
     },
     "execution_count": 122,
     "metadata": {},
     "output_type": "execute_result"
    }
   ],
   "source": [
    "clf = SVC(gamma='scale')\n",
    "clf.fit(X_train, y_train) \n",
    "SVC(C=2, cache_size=200, class_weight={1: 10}, coef0=0.0,\n",
    "    decision_function_shape='ovr', degree=3, gamma=0.7, kernel='linear',\n",
    "    max_iter=-1, probability=False, random_state=None, shrinking=True,\n",
    "    tol=0.001, verbose=False)"
   ]
  },
  {
   "cell_type": "code",
   "execution_count": 123,
   "metadata": {},
   "outputs": [
    {
     "name": "stdout",
     "output_type": "stream",
     "text": [
      "('train score:', 0.9948889325732259)\n",
      "('test score:', 0.9912280701754386)\n"
     ]
    }
   ],
   "source": [
    "print('train score:', clf.score(X_train, y_train))\n",
    "print('test score:', clf.score(X_test, y_test))\n",
    "y_pred= clf.predict(X_test)"
   ]
  },
  {
   "cell_type": "code",
   "execution_count": 124,
   "metadata": {},
   "outputs": [
    {
     "data": {
      "text/html": [
       "<div>\n",
       "<style scoped>\n",
       "    .dataframe tbody tr th:only-of-type {\n",
       "        vertical-align: middle;\n",
       "    }\n",
       "\n",
       "    .dataframe tbody tr th {\n",
       "        vertical-align: top;\n",
       "    }\n",
       "\n",
       "    .dataframe thead th {\n",
       "        text-align: right;\n",
       "    }\n",
       "</style>\n",
       "<table border=\"1\" class=\"dataframe\">\n",
       "  <thead>\n",
       "    <tr style=\"text-align: right;\">\n",
       "      <th>Predicho</th>\n",
       "      <th>No</th>\n",
       "      <th>All</th>\n",
       "    </tr>\n",
       "    <tr>\n",
       "      <th>Actual</th>\n",
       "      <th></th>\n",
       "      <th></th>\n",
       "    </tr>\n",
       "  </thead>\n",
       "  <tbody>\n",
       "    <tr>\n",
       "      <th>No</th>\n",
       "      <td>565</td>\n",
       "      <td>565</td>\n",
       "    </tr>\n",
       "    <tr>\n",
       "      <th>Si</th>\n",
       "      <td>5</td>\n",
       "      <td>5</td>\n",
       "    </tr>\n",
       "    <tr>\n",
       "      <th>All</th>\n",
       "      <td>570</td>\n",
       "      <td>570</td>\n",
       "    </tr>\n",
       "  </tbody>\n",
       "</table>\n",
       "</div>"
      ],
      "text/plain": [
       "Predicho   No  All\n",
       "Actual            \n",
       "No        565  565\n",
       "Si          5    5\n",
       "All       570  570"
      ]
     },
     "execution_count": 124,
     "metadata": {},
     "output_type": "execute_result"
    }
   ],
   "source": [
    "y_actual = pd.Series(y_test, name = \"Actual\")\n",
    "y_predicted = pd.Series(y_pred, name = \"Predicho\")\n",
    "\n",
    "y_actual = y_actual.replace([0,1],[\"No\",\"Si\"])\n",
    "y_predicho = y_predicted.replace([0,1],[\"No\",\"Si\"])\n",
    "pd.crosstab(y_actual, y_predicho, margins=True)"
   ]
  }
 ],
 "metadata": {
  "kernelspec": {
   "display_name": "Python 2",
   "language": "python",
   "name": "python2"
  },
  "language_info": {
   "codemirror_mode": {
    "name": "ipython",
    "version": 2
   },
   "file_extension": ".py",
   "mimetype": "text/x-python",
   "name": "python",
   "nbconvert_exporter": "python",
   "pygments_lexer": "ipython2",
   "version": "2.7.15"
  }
 },
 "nbformat": 4,
 "nbformat_minor": 2
}
